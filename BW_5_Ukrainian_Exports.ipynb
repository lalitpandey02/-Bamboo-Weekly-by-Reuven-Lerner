{
  "nbformat": 4,
  "nbformat_minor": 0,
  "metadata": {
    "colab": {
      "provenance": [],
      "toc_visible": true,
      "authorship_tag": "ABX9TyPPv/GqqNBj/V/XsVQ5KD2I",
      "include_colab_link": true
    },
    "kernelspec": {
      "name": "python3",
      "display_name": "Python 3"
    },
    "language_info": {
      "name": "python"
    }
  },
  "cells": [
    {
      "cell_type": "markdown",
      "metadata": {
        "id": "view-in-github",
        "colab_type": "text"
      },
      "source": [
        "<a href=\"https://colab.research.google.com/github/lalitpandey02/Bamboo-Weekly-by-Reuven-Lerner/blob/main/BW_5_Ukrainian_Exports.ipynb\" target=\"_parent\"><img src=\"https://colab.research.google.com/assets/colab-badge.svg\" alt=\"Open In Colab\"/></a>"
      ]
    },
    {
      "cell_type": "markdown",
      "source": [
        "\n",
        "One year ago, Russia invaded Ukraine. The war continues to rage, and we’ve seen no small number of horrific and devastating pictures. Millions of Ukrainians are now refugees, trying to make a new (often temporary) life elsewhere.\n",
        "Soon after the invasion, a number of commentators pointed to Ukraine’s importance as an exporter of food products. If they cannot export food to the rest of the world, then it’ll obviously be an issue for Ukrainian farmers, and for their economy. But it might also lead to a food shortage for millions of people in other countries.\n",
        "In response to this problem, a number of countries negotiated the Black Sea Grain Initiative, aimed at helping Ukraine export food products across the Black Sea to Turkey, Mediterranean countries, and elsewhere. The program has been a success; as of earlier this month, more than 700 ships carrying food had left Ukraine.\n",
        "This week, we’ll look at a data set describing the ships that have left Ukraine as part of this initiative.\n",
        "The data set comes from humdata.org, which has a variety of humanitarian-related data sets. In particular, we’ll be looking at data from their page on the Black Sea Grain Initiative’s ship movements, at https://data.humdata.org/dataset/black-sea-grain-initiative-vessel-movements. I suggest downloading the data in Excel format, which includes a data dictionary on the “Readme” sheet, and the actual data we’ll use on the “Data” sheet.\n",
        "The URL to download the data in Excel format is:\n",
        "https://docs.google.com/spreadsheets/d/e/2PACX-1vRisnQjodySbp6-XXPGhdsVMp2stg_gyuxw42pP41tuxeic63IARau6bV1TgjLiw_ciAWsTO5LarPqT/pub?output=xlsx"
      ],
      "metadata": {
        "id": "-Nt8pLq-l2Jw"
      }
    },
    {
      "cell_type": "markdown",
      "source": [
        "### Objective\n",
        "Here is what I would like for you to do:\n",
        "1. Read the Excel data into a data frame. Again, the “Data” sheet is what interests us.\n",
        "\n",
        "2. Create a pivot table, showing how many tons of each commodity (rows) have left each port (columns).\n",
        "\n",
        "3. Create a pivot table, showing how many tons of each commodity (columns) were going to each destination country (rows).\n",
        "\n",
        "4. The worry was that lower-income countries would not have enough food to eat, because of the war. According to the data's \"income group,\" what proportion of the grain are low-income countries receiving?\n",
        "\n",
        "5. Have we seen growth in the total tonnage shipped each month to developing countries?\n",
        "\n",
        "6. Finally, what 10 flags are most commonly used on the ships coming from Ukraine? Do any country's names appear more than once? If so, why, and how can you fix it?\n",
        "\n",
        "\n",
        "\n",
        "\n",
        "The learning goals for this week are to work with pivot tables, calculate growth, and clean some weird data."
      ],
      "metadata": {
        "id": "KgOiXLeRmMub"
      }
    },
    {
      "cell_type": "markdown",
      "source": [
        "# New Section"
      ],
      "metadata": {
        "id": "n42clXWEABeJ"
      }
    },
    {
      "cell_type": "code",
      "execution_count": 61,
      "metadata": {
        "id": "naH2dxjAjGyz",
        "colab": {
          "base_uri": "https://localhost:8080/"
        },
        "outputId": "2b097340-124d-4a51-cfd3-0f04d9dfe7cb"
      },
      "outputs": [
        {
          "output_type": "stream",
          "name": "stdout",
          "text": [
            "Import complete\n"
          ]
        }
      ],
      "source": [
        "#imports\n",
        "import pandas as pd\n",
        "from urllib.request import urlretrieve\n",
        "import matplotlib.pyplot as plt\n",
        "import seaborn as sns\n",
        "import datetime\n",
        "from datetime import datetime\n",
        "print(\"Import complete\")"
      ]
    },
    {
      "cell_type": "markdown",
      "source": [
        "#### 1. Read the Excel data into a data frame"
      ],
      "metadata": {
        "id": "a1oxWi9t_sge"
      }
    },
    {
      "cell_type": "code",
      "source": [
        "# Extract Data\n",
        "url = \"https://docs.google.com/spreadsheets/d/e/2PACX-1vRisnQjodySbp6-XXPGhdsVMp2stg_gyuxw42pP41tuxeic63IARau6bV1TgjLiw_ciAWsTO5LarPqT/pub?output=xlsx\"\n",
        "xls_file, _ = urlretrieve(url)"
      ],
      "metadata": {
        "id": "d76wq5jNnUIu"
      },
      "execution_count": 62,
      "outputs": []
    },
    {
      "cell_type": "code",
      "source": [
        "#Read Excel\n",
        "df = pd.read_excel(xls_file, sheet_name = \"Data\")\n",
        "df.head()"
      ],
      "metadata": {
        "colab": {
          "base_uri": "https://localhost:8080/",
          "height": 531
        },
        "id": "zm9t7aYuoKZO",
        "outputId": "959f71c2-c735-4326-e0fa-41eb83542d4d"
      },
      "execution_count": 63,
      "outputs": [
        {
          "output_type": "execute_result",
          "data": {
            "text/plain": [
              "       Status  Outbound Sequence    Vessel name      IMO Departure port  \\\n",
              "0    Outbound                949  MASTRO MITROS  9228071          Odesa   \n",
              "1  Outbound +                949  MASTRO MITROS  9228071          Odesa   \n",
              "2    Outbound                948  DENIZ M (WFP)  9450703          Odesa   \n",
              "3    Outbound                947   PACIFIC ROSE  9299460    Chornomorsk   \n",
              "4    Outbound                946    NAVIOS HOPE  9328558          Odesa   \n",
              "\n",
              "   Country   Commodity  Tonnage           Departure Inspection İstanbul  \\\n",
              "0    Egypt        Corn  32611.0 2023-05-13 23:00:00                 NaT   \n",
              "1    Egypt  Soya beans   8704.0 2023-05-13 23:00:00                 NaT   \n",
              "2    Sudan       Wheat  30000.0 2023-05-13 23:00:00                 NaT   \n",
              "3  Türkiye       Wheat  26250.0 2023-05-11 23:00:00                 NaT   \n",
              "4    China      Barley  62000.0 2023-05-11 23:00:00                 NaT   \n",
              "\n",
              "          Income group      Flag           World Bank region     UN region  \\\n",
              "0  lower-middle income   Liberia  Middle East & North Africa        Africa   \n",
              "1  lower-middle income   Liberia  Middle East & North Africa        Africa   \n",
              "2           low-income    Panama          Sub-Saharan Africa        Africa   \n",
              "3  upper-middle-income  Barbados       Europe & Central Asia  Asia-Pacific   \n",
              "4  upper-middle-income    Panama         East Asia & Pacific  Asia-Pacific   \n",
              "\n",
              "  Development category  WFP  \n",
              "0           developing  NaN  \n",
              "1           developing  NaN  \n",
              "2           developing  WFP  \n",
              "3           developing  NaN  \n",
              "4           developing  NaN  "
            ],
            "text/html": [
              "\n",
              "  <div id=\"df-b295934a-d46d-403c-98a1-e9430ff9da3b\">\n",
              "    <div class=\"colab-df-container\">\n",
              "      <div>\n",
              "<style scoped>\n",
              "    .dataframe tbody tr th:only-of-type {\n",
              "        vertical-align: middle;\n",
              "    }\n",
              "\n",
              "    .dataframe tbody tr th {\n",
              "        vertical-align: top;\n",
              "    }\n",
              "\n",
              "    .dataframe thead th {\n",
              "        text-align: right;\n",
              "    }\n",
              "</style>\n",
              "<table border=\"1\" class=\"dataframe\">\n",
              "  <thead>\n",
              "    <tr style=\"text-align: right;\">\n",
              "      <th></th>\n",
              "      <th>Status</th>\n",
              "      <th>Outbound Sequence</th>\n",
              "      <th>Vessel name</th>\n",
              "      <th>IMO</th>\n",
              "      <th>Departure port</th>\n",
              "      <th>Country</th>\n",
              "      <th>Commodity</th>\n",
              "      <th>Tonnage</th>\n",
              "      <th>Departure</th>\n",
              "      <th>Inspection İstanbul</th>\n",
              "      <th>Income group</th>\n",
              "      <th>Flag</th>\n",
              "      <th>World Bank region</th>\n",
              "      <th>UN region</th>\n",
              "      <th>Development category</th>\n",
              "      <th>WFP</th>\n",
              "    </tr>\n",
              "  </thead>\n",
              "  <tbody>\n",
              "    <tr>\n",
              "      <th>0</th>\n",
              "      <td>Outbound</td>\n",
              "      <td>949</td>\n",
              "      <td>MASTRO MITROS</td>\n",
              "      <td>9228071</td>\n",
              "      <td>Odesa</td>\n",
              "      <td>Egypt</td>\n",
              "      <td>Corn</td>\n",
              "      <td>32611.0</td>\n",
              "      <td>2023-05-13 23:00:00</td>\n",
              "      <td>NaT</td>\n",
              "      <td>lower-middle income</td>\n",
              "      <td>Liberia</td>\n",
              "      <td>Middle East &amp; North Africa</td>\n",
              "      <td>Africa</td>\n",
              "      <td>developing</td>\n",
              "      <td>NaN</td>\n",
              "    </tr>\n",
              "    <tr>\n",
              "      <th>1</th>\n",
              "      <td>Outbound +</td>\n",
              "      <td>949</td>\n",
              "      <td>MASTRO MITROS</td>\n",
              "      <td>9228071</td>\n",
              "      <td>Odesa</td>\n",
              "      <td>Egypt</td>\n",
              "      <td>Soya beans</td>\n",
              "      <td>8704.0</td>\n",
              "      <td>2023-05-13 23:00:00</td>\n",
              "      <td>NaT</td>\n",
              "      <td>lower-middle income</td>\n",
              "      <td>Liberia</td>\n",
              "      <td>Middle East &amp; North Africa</td>\n",
              "      <td>Africa</td>\n",
              "      <td>developing</td>\n",
              "      <td>NaN</td>\n",
              "    </tr>\n",
              "    <tr>\n",
              "      <th>2</th>\n",
              "      <td>Outbound</td>\n",
              "      <td>948</td>\n",
              "      <td>DENIZ M (WFP)</td>\n",
              "      <td>9450703</td>\n",
              "      <td>Odesa</td>\n",
              "      <td>Sudan</td>\n",
              "      <td>Wheat</td>\n",
              "      <td>30000.0</td>\n",
              "      <td>2023-05-13 23:00:00</td>\n",
              "      <td>NaT</td>\n",
              "      <td>low-income</td>\n",
              "      <td>Panama</td>\n",
              "      <td>Sub-Saharan Africa</td>\n",
              "      <td>Africa</td>\n",
              "      <td>developing</td>\n",
              "      <td>WFP</td>\n",
              "    </tr>\n",
              "    <tr>\n",
              "      <th>3</th>\n",
              "      <td>Outbound</td>\n",
              "      <td>947</td>\n",
              "      <td>PACIFIC ROSE</td>\n",
              "      <td>9299460</td>\n",
              "      <td>Chornomorsk</td>\n",
              "      <td>Türkiye</td>\n",
              "      <td>Wheat</td>\n",
              "      <td>26250.0</td>\n",
              "      <td>2023-05-11 23:00:00</td>\n",
              "      <td>NaT</td>\n",
              "      <td>upper-middle-income</td>\n",
              "      <td>Barbados</td>\n",
              "      <td>Europe &amp; Central Asia</td>\n",
              "      <td>Asia-Pacific</td>\n",
              "      <td>developing</td>\n",
              "      <td>NaN</td>\n",
              "    </tr>\n",
              "    <tr>\n",
              "      <th>4</th>\n",
              "      <td>Outbound</td>\n",
              "      <td>946</td>\n",
              "      <td>NAVIOS HOPE</td>\n",
              "      <td>9328558</td>\n",
              "      <td>Odesa</td>\n",
              "      <td>China</td>\n",
              "      <td>Barley</td>\n",
              "      <td>62000.0</td>\n",
              "      <td>2023-05-11 23:00:00</td>\n",
              "      <td>NaT</td>\n",
              "      <td>upper-middle-income</td>\n",
              "      <td>Panama</td>\n",
              "      <td>East Asia &amp; Pacific</td>\n",
              "      <td>Asia-Pacific</td>\n",
              "      <td>developing</td>\n",
              "      <td>NaN</td>\n",
              "    </tr>\n",
              "  </tbody>\n",
              "</table>\n",
              "</div>\n",
              "      <button class=\"colab-df-convert\" onclick=\"convertToInteractive('df-b295934a-d46d-403c-98a1-e9430ff9da3b')\"\n",
              "              title=\"Convert this dataframe to an interactive table.\"\n",
              "              style=\"display:none;\">\n",
              "        \n",
              "  <svg xmlns=\"http://www.w3.org/2000/svg\" height=\"24px\"viewBox=\"0 0 24 24\"\n",
              "       width=\"24px\">\n",
              "    <path d=\"M0 0h24v24H0V0z\" fill=\"none\"/>\n",
              "    <path d=\"M18.56 5.44l.94 2.06.94-2.06 2.06-.94-2.06-.94-.94-2.06-.94 2.06-2.06.94zm-11 1L8.5 8.5l.94-2.06 2.06-.94-2.06-.94L8.5 2.5l-.94 2.06-2.06.94zm10 10l.94 2.06.94-2.06 2.06-.94-2.06-.94-.94-2.06-.94 2.06-2.06.94z\"/><path d=\"M17.41 7.96l-1.37-1.37c-.4-.4-.92-.59-1.43-.59-.52 0-1.04.2-1.43.59L10.3 9.45l-7.72 7.72c-.78.78-.78 2.05 0 2.83L4 21.41c.39.39.9.59 1.41.59.51 0 1.02-.2 1.41-.59l7.78-7.78 2.81-2.81c.8-.78.8-2.07 0-2.86zM5.41 20L4 18.59l7.72-7.72 1.47 1.35L5.41 20z\"/>\n",
              "  </svg>\n",
              "      </button>\n",
              "      \n",
              "  <style>\n",
              "    .colab-df-container {\n",
              "      display:flex;\n",
              "      flex-wrap:wrap;\n",
              "      gap: 12px;\n",
              "    }\n",
              "\n",
              "    .colab-df-convert {\n",
              "      background-color: #E8F0FE;\n",
              "      border: none;\n",
              "      border-radius: 50%;\n",
              "      cursor: pointer;\n",
              "      display: none;\n",
              "      fill: #1967D2;\n",
              "      height: 32px;\n",
              "      padding: 0 0 0 0;\n",
              "      width: 32px;\n",
              "    }\n",
              "\n",
              "    .colab-df-convert:hover {\n",
              "      background-color: #E2EBFA;\n",
              "      box-shadow: 0px 1px 2px rgba(60, 64, 67, 0.3), 0px 1px 3px 1px rgba(60, 64, 67, 0.15);\n",
              "      fill: #174EA6;\n",
              "    }\n",
              "\n",
              "    [theme=dark] .colab-df-convert {\n",
              "      background-color: #3B4455;\n",
              "      fill: #D2E3FC;\n",
              "    }\n",
              "\n",
              "    [theme=dark] .colab-df-convert:hover {\n",
              "      background-color: #434B5C;\n",
              "      box-shadow: 0px 1px 3px 1px rgba(0, 0, 0, 0.15);\n",
              "      filter: drop-shadow(0px 1px 2px rgba(0, 0, 0, 0.3));\n",
              "      fill: #FFFFFF;\n",
              "    }\n",
              "  </style>\n",
              "\n",
              "      <script>\n",
              "        const buttonEl =\n",
              "          document.querySelector('#df-b295934a-d46d-403c-98a1-e9430ff9da3b button.colab-df-convert');\n",
              "        buttonEl.style.display =\n",
              "          google.colab.kernel.accessAllowed ? 'block' : 'none';\n",
              "\n",
              "        async function convertToInteractive(key) {\n",
              "          const element = document.querySelector('#df-b295934a-d46d-403c-98a1-e9430ff9da3b');\n",
              "          const dataTable =\n",
              "            await google.colab.kernel.invokeFunction('convertToInteractive',\n",
              "                                                     [key], {});\n",
              "          if (!dataTable) return;\n",
              "\n",
              "          const docLinkHtml = 'Like what you see? Visit the ' +\n",
              "            '<a target=\"_blank\" href=https://colab.research.google.com/notebooks/data_table.ipynb>data table notebook</a>'\n",
              "            + ' to learn more about interactive tables.';\n",
              "          element.innerHTML = '';\n",
              "          dataTable['output_type'] = 'display_data';\n",
              "          await google.colab.output.renderOutput(dataTable, element);\n",
              "          const docLink = document.createElement('div');\n",
              "          docLink.innerHTML = docLinkHtml;\n",
              "          element.appendChild(docLink);\n",
              "        }\n",
              "      </script>\n",
              "    </div>\n",
              "  </div>\n",
              "  "
            ]
          },
          "metadata": {},
          "execution_count": 63
        }
      ]
    },
    {
      "cell_type": "code",
      "source": [
        "df.shape"
      ],
      "metadata": {
        "colab": {
          "base_uri": "https://localhost:8080/"
        },
        "id": "1MTtrFy-oZXm",
        "outputId": "92dbdcfa-aebc-4f0e-bf0e-7a3d001f29e6"
      },
      "execution_count": 64,
      "outputs": [
        {
          "output_type": "execute_result",
          "data": {
            "text/plain": [
              "(1082, 16)"
            ]
          },
          "metadata": {},
          "execution_count": 64
        }
      ]
    },
    {
      "cell_type": "code",
      "source": [
        "df.info()"
      ],
      "metadata": {
        "colab": {
          "base_uri": "https://localhost:8080/"
        },
        "id": "FXaC8kXvUgRo",
        "outputId": "e7f0c50f-cb10-44df-cccf-8d130626f14a"
      },
      "execution_count": 65,
      "outputs": [
        {
          "output_type": "stream",
          "name": "stdout",
          "text": [
            "<class 'pandas.core.frame.DataFrame'>\n",
            "RangeIndex: 1082 entries, 0 to 1081\n",
            "Data columns (total 16 columns):\n",
            " #   Column                Non-Null Count  Dtype         \n",
            "---  ------                --------------  -----         \n",
            " 0   Status                1082 non-null   object        \n",
            " 1   Outbound Sequence     1082 non-null   int64         \n",
            " 2   Vessel name           1082 non-null   object        \n",
            " 3   IMO                   1082 non-null   int64         \n",
            " 4   Departure port        1082 non-null   object        \n",
            " 5   Country               1082 non-null   object        \n",
            " 6   Commodity             1082 non-null   object        \n",
            " 7   Tonnage               1082 non-null   float64       \n",
            " 8   Departure             1082 non-null   datetime64[ns]\n",
            " 9   Inspection İstanbul   1066 non-null   datetime64[ns]\n",
            " 10  Income group          1082 non-null   object        \n",
            " 11  Flag                  1081 non-null   object        \n",
            " 12  World Bank region     1082 non-null   object        \n",
            " 13  UN region             1082 non-null   object        \n",
            " 14  Development category  1082 non-null   object        \n",
            " 15  WFP                   26 non-null     object        \n",
            "dtypes: datetime64[ns](2), float64(1), int64(2), object(11)\n",
            "memory usage: 135.4+ KB\n"
          ]
        }
      ]
    },
    {
      "cell_type": "code",
      "source": [
        "df.describe()"
      ],
      "metadata": {
        "colab": {
          "base_uri": "https://localhost:8080/",
          "height": 300
        },
        "id": "giiKcqCLT42S",
        "outputId": "ae57be04-b961-4636-c5e6-a53959c8bb81"
      },
      "execution_count": 66,
      "outputs": [
        {
          "output_type": "execute_result",
          "data": {
            "text/plain": [
              "       Outbound Sequence           IMO       Tonnage\n",
              "count        1082.000000  1.082000e+03   1082.000000\n",
              "mean          480.280037  9.300725e+06  27884.091497\n",
              "std           274.913351  3.392154e+05  20193.514864\n",
              "min             1.000000  7.126102e+06     67.860000\n",
              "25%           237.250000  9.184938e+06   9601.000000\n",
              "50%           483.500000  9.311258e+06  26000.000000\n",
              "75%           719.000000  9.515656e+06  41950.000000\n",
              "max           949.000000  9.942627e+06  74904.000000"
            ],
            "text/html": [
              "\n",
              "  <div id=\"df-7d10f95e-4a75-4d4b-b79d-58cd9b76988e\">\n",
              "    <div class=\"colab-df-container\">\n",
              "      <div>\n",
              "<style scoped>\n",
              "    .dataframe tbody tr th:only-of-type {\n",
              "        vertical-align: middle;\n",
              "    }\n",
              "\n",
              "    .dataframe tbody tr th {\n",
              "        vertical-align: top;\n",
              "    }\n",
              "\n",
              "    .dataframe thead th {\n",
              "        text-align: right;\n",
              "    }\n",
              "</style>\n",
              "<table border=\"1\" class=\"dataframe\">\n",
              "  <thead>\n",
              "    <tr style=\"text-align: right;\">\n",
              "      <th></th>\n",
              "      <th>Outbound Sequence</th>\n",
              "      <th>IMO</th>\n",
              "      <th>Tonnage</th>\n",
              "    </tr>\n",
              "  </thead>\n",
              "  <tbody>\n",
              "    <tr>\n",
              "      <th>count</th>\n",
              "      <td>1082.000000</td>\n",
              "      <td>1.082000e+03</td>\n",
              "      <td>1082.000000</td>\n",
              "    </tr>\n",
              "    <tr>\n",
              "      <th>mean</th>\n",
              "      <td>480.280037</td>\n",
              "      <td>9.300725e+06</td>\n",
              "      <td>27884.091497</td>\n",
              "    </tr>\n",
              "    <tr>\n",
              "      <th>std</th>\n",
              "      <td>274.913351</td>\n",
              "      <td>3.392154e+05</td>\n",
              "      <td>20193.514864</td>\n",
              "    </tr>\n",
              "    <tr>\n",
              "      <th>min</th>\n",
              "      <td>1.000000</td>\n",
              "      <td>7.126102e+06</td>\n",
              "      <td>67.860000</td>\n",
              "    </tr>\n",
              "    <tr>\n",
              "      <th>25%</th>\n",
              "      <td>237.250000</td>\n",
              "      <td>9.184938e+06</td>\n",
              "      <td>9601.000000</td>\n",
              "    </tr>\n",
              "    <tr>\n",
              "      <th>50%</th>\n",
              "      <td>483.500000</td>\n",
              "      <td>9.311258e+06</td>\n",
              "      <td>26000.000000</td>\n",
              "    </tr>\n",
              "    <tr>\n",
              "      <th>75%</th>\n",
              "      <td>719.000000</td>\n",
              "      <td>9.515656e+06</td>\n",
              "      <td>41950.000000</td>\n",
              "    </tr>\n",
              "    <tr>\n",
              "      <th>max</th>\n",
              "      <td>949.000000</td>\n",
              "      <td>9.942627e+06</td>\n",
              "      <td>74904.000000</td>\n",
              "    </tr>\n",
              "  </tbody>\n",
              "</table>\n",
              "</div>\n",
              "      <button class=\"colab-df-convert\" onclick=\"convertToInteractive('df-7d10f95e-4a75-4d4b-b79d-58cd9b76988e')\"\n",
              "              title=\"Convert this dataframe to an interactive table.\"\n",
              "              style=\"display:none;\">\n",
              "        \n",
              "  <svg xmlns=\"http://www.w3.org/2000/svg\" height=\"24px\"viewBox=\"0 0 24 24\"\n",
              "       width=\"24px\">\n",
              "    <path d=\"M0 0h24v24H0V0z\" fill=\"none\"/>\n",
              "    <path d=\"M18.56 5.44l.94 2.06.94-2.06 2.06-.94-2.06-.94-.94-2.06-.94 2.06-2.06.94zm-11 1L8.5 8.5l.94-2.06 2.06-.94-2.06-.94L8.5 2.5l-.94 2.06-2.06.94zm10 10l.94 2.06.94-2.06 2.06-.94-2.06-.94-.94-2.06-.94 2.06-2.06.94z\"/><path d=\"M17.41 7.96l-1.37-1.37c-.4-.4-.92-.59-1.43-.59-.52 0-1.04.2-1.43.59L10.3 9.45l-7.72 7.72c-.78.78-.78 2.05 0 2.83L4 21.41c.39.39.9.59 1.41.59.51 0 1.02-.2 1.41-.59l7.78-7.78 2.81-2.81c.8-.78.8-2.07 0-2.86zM5.41 20L4 18.59l7.72-7.72 1.47 1.35L5.41 20z\"/>\n",
              "  </svg>\n",
              "      </button>\n",
              "      \n",
              "  <style>\n",
              "    .colab-df-container {\n",
              "      display:flex;\n",
              "      flex-wrap:wrap;\n",
              "      gap: 12px;\n",
              "    }\n",
              "\n",
              "    .colab-df-convert {\n",
              "      background-color: #E8F0FE;\n",
              "      border: none;\n",
              "      border-radius: 50%;\n",
              "      cursor: pointer;\n",
              "      display: none;\n",
              "      fill: #1967D2;\n",
              "      height: 32px;\n",
              "      padding: 0 0 0 0;\n",
              "      width: 32px;\n",
              "    }\n",
              "\n",
              "    .colab-df-convert:hover {\n",
              "      background-color: #E2EBFA;\n",
              "      box-shadow: 0px 1px 2px rgba(60, 64, 67, 0.3), 0px 1px 3px 1px rgba(60, 64, 67, 0.15);\n",
              "      fill: #174EA6;\n",
              "    }\n",
              "\n",
              "    [theme=dark] .colab-df-convert {\n",
              "      background-color: #3B4455;\n",
              "      fill: #D2E3FC;\n",
              "    }\n",
              "\n",
              "    [theme=dark] .colab-df-convert:hover {\n",
              "      background-color: #434B5C;\n",
              "      box-shadow: 0px 1px 3px 1px rgba(0, 0, 0, 0.15);\n",
              "      filter: drop-shadow(0px 1px 2px rgba(0, 0, 0, 0.3));\n",
              "      fill: #FFFFFF;\n",
              "    }\n",
              "  </style>\n",
              "\n",
              "      <script>\n",
              "        const buttonEl =\n",
              "          document.querySelector('#df-7d10f95e-4a75-4d4b-b79d-58cd9b76988e button.colab-df-convert');\n",
              "        buttonEl.style.display =\n",
              "          google.colab.kernel.accessAllowed ? 'block' : 'none';\n",
              "\n",
              "        async function convertToInteractive(key) {\n",
              "          const element = document.querySelector('#df-7d10f95e-4a75-4d4b-b79d-58cd9b76988e');\n",
              "          const dataTable =\n",
              "            await google.colab.kernel.invokeFunction('convertToInteractive',\n",
              "                                                     [key], {});\n",
              "          if (!dataTable) return;\n",
              "\n",
              "          const docLinkHtml = 'Like what you see? Visit the ' +\n",
              "            '<a target=\"_blank\" href=https://colab.research.google.com/notebooks/data_table.ipynb>data table notebook</a>'\n",
              "            + ' to learn more about interactive tables.';\n",
              "          element.innerHTML = '';\n",
              "          dataTable['output_type'] = 'display_data';\n",
              "          await google.colab.output.renderOutput(dataTable, element);\n",
              "          const docLink = document.createElement('div');\n",
              "          docLink.innerHTML = docLinkHtml;\n",
              "          element.appendChild(docLink);\n",
              "        }\n",
              "      </script>\n",
              "    </div>\n",
              "  </div>\n",
              "  "
            ]
          },
          "metadata": {},
          "execution_count": 66
        }
      ]
    },
    {
      "cell_type": "markdown",
      "source": [
        "#### **Column Values Analysis**"
      ],
      "metadata": {
        "id": "oJ0WJkeAxFau"
      }
    },
    {
      "cell_type": "code",
      "source": [
        "df.Status.unique()"
      ],
      "metadata": {
        "colab": {
          "base_uri": "https://localhost:8080/"
        },
        "id": "hsHyJPojUBI1",
        "outputId": "44d6137b-baf7-44c1-f1af-f9612e69f659"
      },
      "execution_count": 67,
      "outputs": [
        {
          "output_type": "execute_result",
          "data": {
            "text/plain": [
              "array(['Outbound', 'Outbound +'], dtype=object)"
            ]
          },
          "metadata": {},
          "execution_count": 67
        }
      ]
    },
    {
      "cell_type": "code",
      "source": [
        "df['Departure port'].unique()"
      ],
      "metadata": {
        "colab": {
          "base_uri": "https://localhost:8080/"
        },
        "id": "IKGnCeA7VdvN",
        "outputId": "d079484c-5a69-4314-dabc-5a12a9f72775"
      },
      "execution_count": 68,
      "outputs": [
        {
          "output_type": "execute_result",
          "data": {
            "text/plain": [
              "array(['Odesa', 'Chornomorsk', 'Yuzhny/Pivdennyi'], dtype=object)"
            ]
          },
          "metadata": {},
          "execution_count": 68
        }
      ]
    },
    {
      "cell_type": "code",
      "source": [
        "df.Country.unique()"
      ],
      "metadata": {
        "colab": {
          "base_uri": "https://localhost:8080/"
        },
        "id": "O5xIFFXdVvhl",
        "outputId": "5afba2f0-0a5b-415d-94a4-669bc48ea01b"
      },
      "execution_count": 69,
      "outputs": [
        {
          "output_type": "execute_result",
          "data": {
            "text/plain": [
              "array(['Egypt', 'Sudan', 'Türkiye', 'China', 'Spain', 'Bangladesh',\n",
              "       'Tunisia', 'Morocco', 'The Netherlands', 'Libya', 'Kenya',\n",
              "       'Ethiopia', 'Italy', 'Lebanon', 'Germany', 'Yemen', 'India',\n",
              "       'Portugal', 'Iraq', 'Israel', 'Viet Nam', 'Algeria',\n",
              "       'United Kingdom', 'United Arab Emirates', 'Saudi Arabia',\n",
              "       'Belgium', 'Japan', 'France', 'Romania', 'Bulgaria', 'Afghanistan',\n",
              "       'Ireland', 'Sri Lanka', 'Thailand', 'Greece', 'Indonesia',\n",
              "       'Somalia', 'Republic of Korea', 'Jordan', 'Oman', 'Pakistan',\n",
              "       'Djibouti', 'Georgia', 'Malaysia', 'Iran'], dtype=object)"
            ]
          },
          "metadata": {},
          "execution_count": 69
        }
      ]
    },
    {
      "cell_type": "code",
      "source": [
        "df.Commodity.unique()"
      ],
      "metadata": {
        "colab": {
          "base_uri": "https://localhost:8080/"
        },
        "id": "akGExeF8WLV6",
        "outputId": "acba5a45-3dad-4974-dde9-1362ccb8bd58"
      },
      "execution_count": 70,
      "outputs": [
        {
          "output_type": "execute_result",
          "data": {
            "text/plain": [
              "array(['Corn', 'Soya beans', 'Wheat', 'Barley', 'Sunflower meal',\n",
              "       'Sunflower oil', 'Sunflower meal ', 'Peas', 'Rapeseed',\n",
              "       'Sunflower seed', 'Vegetable oil', 'Soya oil', 'Canola',\n",
              "       'Rapeseed meal', 'Sunflower pellets', 'Mixed',\n",
              "       'Wheat bran pellets', 'Sugar beet pellets'], dtype=object)"
            ]
          },
          "metadata": {},
          "execution_count": 70
        }
      ]
    },
    {
      "cell_type": "code",
      "source": [
        "print(\"Skewness = \" , df.Tonnage.skew())\n",
        "print(\"Kurtosis = \" , df.Tonnage.kurtosis())"
      ],
      "metadata": {
        "colab": {
          "base_uri": "https://localhost:8080/"
        },
        "id": "MN-H0yT5Wdbz",
        "outputId": "1ea06b25-e643-43b2-c629-96eb6d1a5e82"
      },
      "execution_count": 71,
      "outputs": [
        {
          "output_type": "stream",
          "name": "stdout",
          "text": [
            "Skewness =  0.619311874824226\n",
            "Kurtosis =  -0.7292175709852051\n"
          ]
        }
      ]
    },
    {
      "cell_type": "code",
      "source": [
        "fig, ax = plt.subplots()\n",
        "sns.histplot(data=df, x=\"Tonnage\", kde=\"True\")\n",
        "ax.set_title(\"Histogram and KDE of Tons Commodities sent\")"
      ],
      "metadata": {
        "colab": {
          "base_uri": "https://localhost:8080/",
          "height": 489
        },
        "id": "5dlIeZfTXXSi",
        "outputId": "2c092212-cfd3-4822-84ef-a5248240bd2e"
      },
      "execution_count": 72,
      "outputs": [
        {
          "output_type": "execute_result",
          "data": {
            "text/plain": [
              "Text(0.5, 1.0, 'Histogram and KDE of Tons Commodities sent')"
            ]
          },
          "metadata": {},
          "execution_count": 72
        },
        {
          "output_type": "display_data",
          "data": {
            "text/plain": [
              "<Figure size 640x480 with 1 Axes>"
            ],
            "image/png": "[encoded data removed]"
          },
          "metadata": {}
        }
      ]
    },
    {
      "cell_type": "code",
      "source": [
        "from scipy import stats\n",
        "fig, (ax) = plt.subplots(figsize = (4,4))\n",
        "res = stats.probplot(df[\"Tonnage\"],dist=\"norm\", plot=ax)"
      ],
      "metadata": {
        "colab": {
          "base_uri": "https://localhost:8080/",
          "height": 410
        },
        "id": "DjjET4jviabp",
        "outputId": "c2db1ea1-fc88-489e-ceeb-b0207a03e07c"
      },
      "execution_count": 73,
      "outputs": [
        {
          "output_type": "display_data",
          "data": {
            "text/plain": [
              "<Figure size 400x400 with 1 Axes>"
            ],
            "image/png": "[encoded data removed]"
          },
          "metadata": {}
        }
      ]
    },
    {
      "cell_type": "code",
      "source": [
        "df[\"Departure\"].describe(datetime_is_numeric=True)"
      ],
      "metadata": {
        "colab": {
          "base_uri": "https://localhost:8080/"
        },
        "id": "BTFUjWxcjoM7",
        "outputId": "406bc14b-31c7-47ae-eb2a-affd72634a2d"
      },
      "execution_count": 74,
      "outputs": [
        {
          "output_type": "execute_result",
          "data": {
            "text/plain": [
              "count                             1082\n",
              "mean     2022-12-05 21:21:44.251386368\n",
              "min                2022-07-31 23:00:00\n",
              "25%                2022-09-28 23:00:00\n",
              "50%                2022-11-20 10:00:00\n",
              "75%                2023-02-07 22:00:00\n",
              "max                2023-05-13 23:00:00\n",
              "Name: Departure, dtype: object"
            ]
          },
          "metadata": {},
          "execution_count": 74
        }
      ]
    },
    {
      "cell_type": "code",
      "source": [
        "print(\"Departure Date Range : \", df[\"Departure\"].dt.date.min(), \" to \", df[\"Departure\"].dt.date.max())"
      ],
      "metadata": {
        "colab": {
          "base_uri": "https://localhost:8080/"
        },
        "id": "5wOyT36ZxoK9",
        "outputId": "1cf50375-01ef-45f1-b7bb-f05c1bb95ee7"
      },
      "execution_count": 75,
      "outputs": [
        {
          "output_type": "stream",
          "name": "stdout",
          "text": [
            "Departure Date Range :  2022-07-31  to  2023-05-13\n"
          ]
        }
      ]
    },
    {
      "cell_type": "code",
      "source": [
        "df[df[\"Inspection İstanbul\"].isna()]"
      ],
      "metadata": {
        "colab": {
          "base_uri": "https://localhost:8080/",
          "height": 1000
        },
        "id": "cyIDAC2x-HVa",
        "outputId": "d2dcd774-b7c9-4c15-d461-0e0d87405a73"
      },
      "execution_count": 76,
      "outputs": [
        {
          "output_type": "execute_result",
          "data": {
            "text/plain": [
              "        Status  Outbound Sequence      Vessel name      IMO    Departure port  \\\n",
              "0     Outbound                949    MASTRO MITROS  9228071             Odesa   \n",
              "1   Outbound +                949    MASTRO MITROS  9228071             Odesa   \n",
              "2     Outbound                948    DENIZ M (WFP)  9450703             Odesa   \n",
              "3     Outbound                947     PACIFIC ROSE  9299460       Chornomorsk   \n",
              "4     Outbound                946      NAVIOS HOPE  9328558             Odesa   \n",
              "5     Outbound                945       QUEEN LILA  9303376  Yuzhny/Pivdennyi   \n",
              "6     Outbound                944            MARIA  9041772             Odesa   \n",
              "7     Outbound                943         AG VALOR  9312327             Odesa   \n",
              "8   Outbound +                943         AG VALOR  9312327             Odesa   \n",
              "9     Outbound                942       LADY ZEHMA  9303431       Chornomorsk   \n",
              "10  Outbound +                942       LADY ZEHMA  9303431       Chornomorsk   \n",
              "11    Outbound                941           ENEIDA  9198381       Chornomorsk   \n",
              "12    Outbound                940  MAHA JACQUELINE  9185073       Chornomorsk   \n",
              "15    Outbound                938     MAGNUM POWER  9488968             Odesa   \n",
              "16    Outbound                937      LUCKY GLORY  9254111             Odesa   \n",
              "17    Outbound                936      NEW VENTURE  9597812             Odesa   \n",
              "\n",
              "       Country   Commodity  Tonnage           Departure Inspection İstanbul  \\\n",
              "0        Egypt        Corn  32611.0 2023-05-13 23:00:00                 NaT   \n",
              "1        Egypt  Soya beans   8704.0 2023-05-13 23:00:00                 NaT   \n",
              "2        Sudan       Wheat  30000.0 2023-05-13 23:00:00                 NaT   \n",
              "3      Türkiye       Wheat  26250.0 2023-05-11 23:00:00                 NaT   \n",
              "4        China      Barley  62000.0 2023-05-11 23:00:00                 NaT   \n",
              "5        Egypt        Corn  30450.0 2023-05-10 23:00:00                 NaT   \n",
              "6        Spain       Wheat  20900.0 2023-05-10 23:00:00                 NaT   \n",
              "7        Egypt        Corn  10351.0 2023-05-10 23:00:00                 NaT   \n",
              "8        Egypt       Wheat  15999.0 2023-05-10 23:00:00                 NaT   \n",
              "9        Egypt        Corn  19350.0 2023-05-09 23:00:00                 NaT   \n",
              "10       Egypt       Wheat  10650.0 2023-05-09 23:00:00                 NaT   \n",
              "11       Spain        Corn  41646.0 2023-05-09 23:00:00                 NaT   \n",
              "12       Spain        Corn  63500.0 2023-05-08 23:00:00                 NaT   \n",
              "15  Bangladesh       Wheat  50000.0 2023-05-07 23:00:00                 NaT   \n",
              "16       China        Corn  64000.0 2023-05-07 23:00:00                 NaT   \n",
              "17       Spain        Corn   9500.0 2023-05-05 23:00:00                 NaT   \n",
              "\n",
              "           Income group              Flag           World Bank region  \\\n",
              "0   lower-middle income           Liberia  Middle East & North Africa   \n",
              "1   lower-middle income           Liberia  Middle East & North Africa   \n",
              "2            low-income            Panama          Sub-Saharan Africa   \n",
              "3   upper-middle-income          Barbados       Europe & Central Asia   \n",
              "4   upper-middle-income            Panama         East Asia & Pacific   \n",
              "5   lower-middle income            Belize  Middle East & North Africa   \n",
              "6           high-income             Palau       Europe & Central Asia   \n",
              "7   lower-middle income            Panama  Middle East & North Africa   \n",
              "8   lower-middle income            Panama  Middle East & North Africa   \n",
              "9   lower-middle income            Panama  Middle East & North Africa   \n",
              "10  lower-middle income            Panama  Middle East & North Africa   \n",
              "11          high-income           Liberia       Europe & Central Asia   \n",
              "12          high-income             India       Europe & Central Asia   \n",
              "15  lower-middle income  Marshall Islands                  South Asia   \n",
              "16  upper-middle-income            Panama         East Asia & Pacific   \n",
              "17          high-income            Panama       Europe & Central Asia   \n",
              "\n",
              "                    UN region Development category  WFP  \n",
              "0                      Africa           developing  NaN  \n",
              "1                      Africa           developing  NaN  \n",
              "2                      Africa           developing  WFP  \n",
              "3                Asia-Pacific           developing  NaN  \n",
              "4                Asia-Pacific           developing  NaN  \n",
              "5                      Africa           developing  NaN  \n",
              "6   Western Europe and Others            developed  NaN  \n",
              "7                      Africa           developing  NaN  \n",
              "8                      Africa           developing  NaN  \n",
              "9                      Africa           developing  NaN  \n",
              "10                     Africa           developing  NaN  \n",
              "11  Western Europe and Others            developed  NaN  \n",
              "12  Western Europe and Others            developed  NaN  \n",
              "15               Asia-Pacific           developing  NaN  \n",
              "16               Asia-Pacific           developing  NaN  \n",
              "17  Western Europe and Others            developed  NaN  "
            ],
            "text/html": [
              "\n",
              "  <div id=\"df-3030942d-3b9d-4611-a55d-f6f72d3fa59d\">\n",
              "    <div class=\"colab-df-container\">\n",
              "      <div>\n",
              "<style scoped>\n",
              "    .dataframe tbody tr th:only-of-type {\n",
              "        vertical-align: middle;\n",
              "    }\n",
              "\n",
              "    .dataframe tbody tr th {\n",
              "        vertical-align: top;\n",
              "    }\n",
              "\n",
              "    .dataframe thead th {\n",
              "        text-align: right;\n",
              "    }\n",
              "</style>\n",
              "<table border=\"1\" class=\"dataframe\">\n",
              "  <thead>\n",
              "    <tr style=\"text-align: right;\">\n",
              "      <th></th>\n",
              "      <th>Status</th>\n",
              "      <th>Outbound Sequence</th>\n",
              "      <th>Vessel name</th>\n",
              "      <th>IMO</th>\n",
              "      <th>Departure port</th>\n",
              "      <th>Country</th>\n",
              "      <th>Commodity</th>\n",
              "      <th>Tonnage</th>\n",
              "      <th>Departure</th>\n",
              "      <th>Inspection İstanbul</th>\n",
              "      <th>Income group</th>\n",
              "      <th>Flag</th>\n",
              "      <th>World Bank region</th>\n",
              "      <th>UN region</th>\n",
              "      <th>Development category</th>\n",
              "      <th>WFP</th>\n",
              "    </tr>\n",
              "  </thead>\n",
              "  <tbody>\n",
              "    <tr>\n",
              "      <th>0</th>\n",
              "      <td>Outbound</td>\n",
              "      <td>949</td>\n",
              "      <td>MASTRO MITROS</td>\n",
              "      <td>9228071</td>\n",
              "      <td>Odesa</td>\n",
              "      <td>Egypt</td>\n",
              "      <td>Corn</td>\n",
              "      <td>32611.0</td>\n",
              "      <td>2023-05-13 23:00:00</td>\n",
              "      <td>NaT</td>\n",
              "      <td>lower-middle income</td>\n",
              "      <td>Liberia</td>\n",
              "      <td>Middle East &amp; North Africa</td>\n",
              "      <td>Africa</td>\n",
              "      <td>developing</td>\n",
              "      <td>NaN</td>\n",
              "    </tr>\n",
              "    <tr>\n",
              "      <th>1</th>\n",
              "      <td>Outbound +</td>\n",
              "      <td>949</td>\n",
              "      <td>MASTRO MITROS</td>\n",
              "      <td>9228071</td>\n",
              "      <td>Odesa</td>\n",
              "      <td>Egypt</td>\n",
              "      <td>Soya beans</td>\n",
              "      <td>8704.0</td>\n",
              "      <td>2023-05-13 23:00:00</td>\n",
              "      <td>NaT</td>\n",
              "      <td>lower-middle income</td>\n",
              "      <td>Liberia</td>\n",
              "      <td>Middle East &amp; North Africa</td>\n",
              "      <td>Africa</td>\n",
              "      <td>developing</td>\n",
              "      <td>NaN</td>\n",
              "    </tr>\n",
              "    <tr>\n",
              "      <th>2</th>\n",
              "      <td>Outbound</td>\n",
              "      <td>948</td>\n",
              "      <td>DENIZ M (WFP)</td>\n",
              "      <td>9450703</td>\n",
              "      <td>Odesa</td>\n",
              "      <td>Sudan</td>\n",
              "      <td>Wheat</td>\n",
              "      <td>30000.0</td>\n",
              "      <td>2023-05-13 23:00:00</td>\n",
              "      <td>NaT</td>\n",
              "      <td>low-income</td>\n",
              "      <td>Panama</td>\n",
              "      <td>Sub-Saharan Africa</td>\n",
              "      <td>Africa</td>\n",
              "      <td>developing</td>\n",
              "      <td>WFP</td>\n",
              "    </tr>\n",
              "    <tr>\n",
              "      <th>3</th>\n",
              "      <td>Outbound</td>\n",
              "      <td>947</td>\n",
              "      <td>PACIFIC ROSE</td>\n",
              "      <td>9299460</td>\n",
              "      <td>Chornomorsk</td>\n",
              "      <td>Türkiye</td>\n",
              "      <td>Wheat</td>\n",
              "      <td>26250.0</td>\n",
              "      <td>2023-05-11 23:00:00</td>\n",
              "      <td>NaT</td>\n",
              "      <td>upper-middle-income</td>\n",
              "      <td>Barbados</td>\n",
              "      <td>Europe &amp; Central Asia</td>\n",
              "      <td>Asia-Pacific</td>\n",
              "      <td>developing</td>\n",
              "      <td>NaN</td>\n",
              "    </tr>\n",
              "    <tr>\n",
              "      <th>4</th>\n",
              "      <td>Outbound</td>\n",
              "      <td>946</td>\n",
              "      <td>NAVIOS HOPE</td>\n",
              "      <td>9328558</td>\n",
              "      <td>Odesa</td>\n",
              "      <td>China</td>\n",
              "      <td>Barley</td>\n",
              "      <td>62000.0</td>\n",
              "      <td>2023-05-11 23:00:00</td>\n",
              "      <td>NaT</td>\n",
              "      <td>upper-middle-income</td>\n",
              "      <td>Panama</td>\n",
              "      <td>East Asia &amp; Pacific</td>\n",
              "      <td>Asia-Pacific</td>\n",
              "      <td>developing</td>\n",
              "      <td>NaN</td>\n",
              "    </tr>\n",
              "    <tr>\n",
              "      <th>5</th>\n",
              "      <td>Outbound</td>\n",
              "      <td>945</td>\n",
              "      <td>QUEEN LILA</td>\n",
              "      <td>9303376</td>\n",
              "      <td>Yuzhny/Pivdennyi</td>\n",
              "      <td>Egypt</td>\n",
              "      <td>Corn</td>\n",
              "      <td>30450.0</td>\n",
              "      <td>2023-05-10 23:00:00</td>\n",
              "      <td>NaT</td>\n",
              "      <td>lower-middle income</td>\n",
              "      <td>Belize</td>\n",
              "      <td>Middle East &amp; North Africa</td>\n",
              "      <td>Africa</td>\n",
              "      <td>developing</td>\n",
              "      <td>NaN</td>\n",
              "    </tr>\n",
              "    <tr>\n",
              "      <th>6</th>\n",
              "      <td>Outbound</td>\n",
              "      <td>944</td>\n",
              "      <td>MARIA</td>\n",
              "      <td>9041772</td>\n",
              "      <td>Odesa</td>\n",
              "      <td>Spain</td>\n",
              "      <td>Wheat</td>\n",
              "      <td>20900.0</td>\n",
              "      <td>2023-05-10 23:00:00</td>\n",
              "      <td>NaT</td>\n",
              "      <td>high-income</td>\n",
              "      <td>Palau</td>\n",
              "      <td>Europe &amp; Central Asia</td>\n",
              "      <td>Western Europe and Others</td>\n",
              "      <td>developed</td>\n",
              "      <td>NaN</td>\n",
              "    </tr>\n",
              "    <tr>\n",
              "      <th>7</th>\n",
              "      <td>Outbound</td>\n",
              "      <td>943</td>\n",
              "      <td>AG VALOR</td>\n",
              "      <td>9312327</td>\n",
              "      <td>Odesa</td>\n",
              "      <td>Egypt</td>\n",
              "      <td>Corn</td>\n",
              "      <td>10351.0</td>\n",
              "      <td>2023-05-10 23:00:00</td>\n",
              "      <td>NaT</td>\n",
              "      <td>lower-middle income</td>\n",
              "      <td>Panama</td>\n",
              "      <td>Middle East &amp; North Africa</td>\n",
              "      <td>Africa</td>\n",
              "      <td>developing</td>\n",
              "      <td>NaN</td>\n",
              "    </tr>\n",
              "    <tr>\n",
              "      <th>8</th>\n",
              "      <td>Outbound +</td>\n",
              "      <td>943</td>\n",
              "      <td>AG VALOR</td>\n",
              "      <td>9312327</td>\n",
              "      <td>Odesa</td>\n",
              "      <td>Egypt</td>\n",
              "      <td>Wheat</td>\n",
              "      <td>15999.0</td>\n",
              "      <td>2023-05-10 23:00:00</td>\n",
              "      <td>NaT</td>\n",
              "      <td>lower-middle income</td>\n",
              "      <td>Panama</td>\n",
              "      <td>Middle East &amp; North Africa</td>\n",
              "      <td>Africa</td>\n",
              "      <td>developing</td>\n",
              "      <td>NaN</td>\n",
              "    </tr>\n",
              "    <tr>\n",
              "      <th>9</th>\n",
              "      <td>Outbound</td>\n",
              "      <td>942</td>\n",
              "      <td>LADY ZEHMA</td>\n",
              "      <td>9303431</td>\n",
              "      <td>Chornomorsk</td>\n",
              "      <td>Egypt</td>\n",
              "      <td>Corn</td>\n",
              "      <td>19350.0</td>\n",
              "      <td>2023-05-09 23:00:00</td>\n",
              "      <td>NaT</td>\n",
              "      <td>lower-middle income</td>\n",
              "      <td>Panama</td>\n",
              "      <td>Middle East &amp; North Africa</td>\n",
              "      <td>Africa</td>\n",
              "      <td>developing</td>\n",
              "      <td>NaN</td>\n",
              "    </tr>\n",
              "    <tr>\n",
              "      <th>10</th>\n",
              "      <td>Outbound +</td>\n",
              "      <td>942</td>\n",
              "      <td>LADY ZEHMA</td>\n",
              "      <td>9303431</td>\n",
              "      <td>Chornomorsk</td>\n",
              "      <td>Egypt</td>\n",
              "      <td>Wheat</td>\n",
              "      <td>10650.0</td>\n",
              "      <td>2023-05-09 23:00:00</td>\n",
              "      <td>NaT</td>\n",
              "      <td>lower-middle income</td>\n",
              "      <td>Panama</td>\n",
              "      <td>Middle East &amp; North Africa</td>\n",
              "      <td>Africa</td>\n",
              "      <td>developing</td>\n",
              "      <td>NaN</td>\n",
              "    </tr>\n",
              "    <tr>\n",
              "      <th>11</th>\n",
              "      <td>Outbound</td>\n",
              "      <td>941</td>\n",
              "      <td>ENEIDA</td>\n",
              "      <td>9198381</td>\n",
              "      <td>Chornomorsk</td>\n",
              "      <td>Spain</td>\n",
              "      <td>Corn</td>\n",
              "      <td>41646.0</td>\n",
              "      <td>2023-05-09 23:00:00</td>\n",
              "      <td>NaT</td>\n",
              "      <td>high-income</td>\n",
              "      <td>Liberia</td>\n",
              "      <td>Europe &amp; Central Asia</td>\n",
              "      <td>Western Europe and Others</td>\n",
              "      <td>developed</td>\n",
              "      <td>NaN</td>\n",
              "    </tr>\n",
              "    <tr>\n",
              "      <th>12</th>\n",
              "      <td>Outbound</td>\n",
              "      <td>940</td>\n",
              "      <td>MAHA JACQUELINE</td>\n",
              "      <td>9185073</td>\n",
              "      <td>Chornomorsk</td>\n",
              "      <td>Spain</td>\n",
              "      <td>Corn</td>\n",
              "      <td>63500.0</td>\n",
              "      <td>2023-05-08 23:00:00</td>\n",
              "      <td>NaT</td>\n",
              "      <td>high-income</td>\n",
              "      <td>India</td>\n",
              "      <td>Europe &amp; Central Asia</td>\n",
              "      <td>Western Europe and Others</td>\n",
              "      <td>developed</td>\n",
              "      <td>NaN</td>\n",
              "    </tr>\n",
              "    <tr>\n",
              "      <th>15</th>\n",
              "      <td>Outbound</td>\n",
              "      <td>938</td>\n",
              "      <td>MAGNUM POWER</td>\n",
              "      <td>9488968</td>\n",
              "      <td>Odesa</td>\n",
              "      <td>Bangladesh</td>\n",
              "      <td>Wheat</td>\n",
              "      <td>50000.0</td>\n",
              "      <td>2023-05-07 23:00:00</td>\n",
              "      <td>NaT</td>\n",
              "      <td>lower-middle income</td>\n",
              "      <td>Marshall Islands</td>\n",
              "      <td>South Asia</td>\n",
              "      <td>Asia-Pacific</td>\n",
              "      <td>developing</td>\n",
              "      <td>NaN</td>\n",
              "    </tr>\n",
              "    <tr>\n",
              "      <th>16</th>\n",
              "      <td>Outbound</td>\n",
              "      <td>937</td>\n",
              "      <td>LUCKY GLORY</td>\n",
              "      <td>9254111</td>\n",
              "      <td>Odesa</td>\n",
              "      <td>China</td>\n",
              "      <td>Corn</td>\n",
              "      <td>64000.0</td>\n",
              "      <td>2023-05-07 23:00:00</td>\n",
              "      <td>NaT</td>\n",
              "      <td>upper-middle-income</td>\n",
              "      <td>Panama</td>\n",
              "      <td>East Asia &amp; Pacific</td>\n",
              "      <td>Asia-Pacific</td>\n",
              "      <td>developing</td>\n",
              "      <td>NaN</td>\n",
              "    </tr>\n",
              "    <tr>\n",
              "      <th>17</th>\n",
              "      <td>Outbound</td>\n",
              "      <td>936</td>\n",
              "      <td>NEW VENTURE</td>\n",
              "      <td>9597812</td>\n",
              "      <td>Odesa</td>\n",
              "      <td>Spain</td>\n",
              "      <td>Corn</td>\n",
              "      <td>9500.0</td>\n",
              "      <td>2023-05-05 23:00:00</td>\n",
              "      <td>NaT</td>\n",
              "      <td>high-income</td>\n",
              "      <td>Panama</td>\n",
              "      <td>Europe &amp; Central Asia</td>\n",
              "      <td>Western Europe and Others</td>\n",
              "      <td>developed</td>\n",
              "      <td>NaN</td>\n",
              "    </tr>\n",
              "  </tbody>\n",
              "</table>\n",
              "</div>\n",
              "      <button class=\"colab-df-convert\" onclick=\"convertToInteractive('df-3030942d-3b9d-4611-a55d-f6f72d3fa59d')\"\n",
              "              title=\"Convert this dataframe to an interactive table.\"\n",
              "              style=\"display:none;\">\n",
              "        \n",
              "  <svg xmlns=\"http://www.w3.org/2000/svg\" height=\"24px\"viewBox=\"0 0 24 24\"\n",
              "       width=\"24px\">\n",
              "    <path d=\"M0 0h24v24H0V0z\" fill=\"none\"/>\n",
              "    <path d=\"M18.56 5.44l.94 2.06.94-2.06 2.06-.94-2.06-.94-.94-2.06-.94 2.06-2.06.94zm-11 1L8.5 8.5l.94-2.06 2.06-.94-2.06-.94L8.5 2.5l-.94 2.06-2.06.94zm10 10l.94 2.06.94-2.06 2.06-.94-2.06-.94-.94-2.06-.94 2.06-2.06.94z\"/><path d=\"M17.41 7.96l-1.37-1.37c-.4-.4-.92-.59-1.43-.59-.52 0-1.04.2-1.43.59L10.3 9.45l-7.72 7.72c-.78.78-.78 2.05 0 2.83L4 21.41c.39.39.9.59 1.41.59.51 0 1.02-.2 1.41-.59l7.78-7.78 2.81-2.81c.8-.78.8-2.07 0-2.86zM5.41 20L4 18.59l7.72-7.72 1.47 1.35L5.41 20z\"/>\n",
              "  </svg>\n",
              "      </button>\n",
              "      \n",
              "  <style>\n",
              "    .colab-df-container {\n",
              "      display:flex;\n",
              "      flex-wrap:wrap;\n",
              "      gap: 12px;\n",
              "    }\n",
              "\n",
              "    .colab-df-convert {\n",
              "      background-color: #E8F0FE;\n",
              "      border: none;\n",
              "      border-radius: 50%;\n",
              "      cursor: pointer;\n",
              "      display: none;\n",
              "      fill: #1967D2;\n",
              "      height: 32px;\n",
              "      padding: 0 0 0 0;\n",
              "      width: 32px;\n",
              "    }\n",
              "\n",
              "    .colab-df-convert:hover {\n",
              "      background-color: #E2EBFA;\n",
              "      box-shadow: 0px 1px 2px rgba(60, 64, 67, 0.3), 0px 1px 3px 1px rgba(60, 64, 67, 0.15);\n",
              "      fill: #174EA6;\n",
              "    }\n",
              "\n",
              "    [theme=dark] .colab-df-convert {\n",
              "      background-color: #3B4455;\n",
              "      fill: #D2E3FC;\n",
              "    }\n",
              "\n",
              "    [theme=dark] .colab-df-convert:hover {\n",
              "      background-color: #434B5C;\n",
              "      box-shadow: 0px 1px 3px 1px rgba(0, 0, 0, 0.15);\n",
              "      filter: drop-shadow(0px 1px 2px rgba(0, 0, 0, 0.3));\n",
              "      fill: #FFFFFF;\n",
              "    }\n",
              "  </style>\n",
              "\n",
              "      <script>\n",
              "        const buttonEl =\n",
              "          document.querySelector('#df-3030942d-3b9d-4611-a55d-f6f72d3fa59d button.colab-df-convert');\n",
              "        buttonEl.style.display =\n",
              "          google.colab.kernel.accessAllowed ? 'block' : 'none';\n",
              "\n",
              "        async function convertToInteractive(key) {\n",
              "          const element = document.querySelector('#df-3030942d-3b9d-4611-a55d-f6f72d3fa59d');\n",
              "          const dataTable =\n",
              "            await google.colab.kernel.invokeFunction('convertToInteractive',\n",
              "                                                     [key], {});\n",
              "          if (!dataTable) return;\n",
              "\n",
              "          const docLinkHtml = 'Like what you see? Visit the ' +\n",
              "            '<a target=\"_blank\" href=https://colab.research.google.com/notebooks/data_table.ipynb>data table notebook</a>'\n",
              "            + ' to learn more about interactive tables.';\n",
              "          element.innerHTML = '';\n",
              "          dataTable['output_type'] = 'display_data';\n",
              "          await google.colab.output.renderOutput(dataTable, element);\n",
              "          const docLink = document.createElement('div');\n",
              "          docLink.innerHTML = docLinkHtml;\n",
              "          element.appendChild(docLink);\n",
              "        }\n",
              "      </script>\n",
              "    </div>\n",
              "  </div>\n",
              "  "
            ]
          },
          "metadata": {},
          "execution_count": 76
        }
      ]
    },
    {
      "cell_type": "code",
      "source": [
        "df[\"Inspection İstanbul\"].isna().sum()"
      ],
      "metadata": {
        "colab": {
          "base_uri": "https://localhost:8080/"
        },
        "id": "esO1g1lu8gp_",
        "outputId": "6e9e9c00-3a23-4c39-bc95-53c61a31f4bc"
      },
      "execution_count": 77,
      "outputs": [
        {
          "output_type": "execute_result",
          "data": {
            "text/plain": [
              "16"
            ]
          },
          "metadata": {},
          "execution_count": 77
        }
      ]
    },
    {
      "cell_type": "code",
      "source": [
        "df[df[\"Inspection İstanbul\"].isna()].Departure.dt.date"
      ],
      "metadata": {
        "colab": {
          "base_uri": "https://localhost:8080/"
        },
        "id": "CyQAmlQu7pa5",
        "outputId": "e63beabb-d601-4dc0-b093-f3a9583595c1"
      },
      "execution_count": 78,
      "outputs": [
        {
          "output_type": "execute_result",
          "data": {
            "text/plain": [
              "0     2023-05-13\n",
              "1     2023-05-13\n",
              "2     2023-05-13\n",
              "3     2023-05-11\n",
              "4     2023-05-11\n",
              "5     2023-05-10\n",
              "6     2023-05-10\n",
              "7     2023-05-10\n",
              "8     2023-05-10\n",
              "9     2023-05-09\n",
              "10    2023-05-09\n",
              "11    2023-05-09\n",
              "12    2023-05-08\n",
              "15    2023-05-07\n",
              "16    2023-05-07\n",
              "17    2023-05-05\n",
              "Name: Departure, dtype: object"
            ]
          },
          "metadata": {},
          "execution_count": 78
        }
      ]
    },
    {
      "cell_type": "code",
      "source": [
        "df[df[\"Inspection İstanbul\"].isna()].Departure.dt.date.unique()"
      ],
      "metadata": {
        "colab": {
          "base_uri": "https://localhost:8080/"
        },
        "id": "W4OdjMQ15ccA",
        "outputId": "d1a51909-13f4-46b0-9848-57d5a5988c11"
      },
      "execution_count": 79,
      "outputs": [
        {
          "output_type": "execute_result",
          "data": {
            "text/plain": [
              "array([datetime.date(2023, 5, 13), datetime.date(2023, 5, 11),\n",
              "       datetime.date(2023, 5, 10), datetime.date(2023, 5, 9),\n",
              "       datetime.date(2023, 5, 8), datetime.date(2023, 5, 7),\n",
              "       datetime.date(2023, 5, 5)], dtype=object)"
            ]
          },
          "metadata": {},
          "execution_count": 79
        }
      ]
    },
    {
      "cell_type": "code",
      "source": [
        "# This Field Inspection İstanbul is not required and can be dropped \n",
        "# df.drop(columns=\"Inspection İstanbul\", inplace=True)"
      ],
      "metadata": {
        "id": "cVuJLPEu_RZV"
      },
      "execution_count": 80,
      "outputs": []
    },
    {
      "cell_type": "code",
      "source": [
        "df[\"Income group\"].unique()"
      ],
      "metadata": {
        "colab": {
          "base_uri": "https://localhost:8080/"
        },
        "id": "X9zETstcBm49",
        "outputId": "2495fee9-ec2f-4622-9894-24a8aa99c2b4"
      },
      "execution_count": 81,
      "outputs": [
        {
          "output_type": "execute_result",
          "data": {
            "text/plain": [
              "array(['lower-middle income', 'low-income', 'upper-middle-income',\n",
              "       'high-income'], dtype=object)"
            ]
          },
          "metadata": {},
          "execution_count": 81
        }
      ]
    },
    {
      "cell_type": "code",
      "source": [
        "print(df.Flag.nunique())\n",
        "df[\"Flag\"].unique()"
      ],
      "metadata": {
        "colab": {
          "base_uri": "https://localhost:8080/"
        },
        "id": "hZSzCmvABrd6",
        "outputId": "688ef9a5-4946-48ff-84d0-9fb25f2895c6"
      },
      "execution_count": 82,
      "outputs": [
        {
          "output_type": "stream",
          "name": "stdout",
          "text": [
            "45\n"
          ]
        },
        {
          "output_type": "execute_result",
          "data": {
            "text/plain": [
              "array(['Liberia', 'Panama', 'Barbados', 'Belize', 'Palau', 'India',\n",
              "       'Egypt', 'Marshall Islands', 'St. Kitts and Nevis', 'St. Vincent',\n",
              "       'Malta', 'Norway', 'Türkiye', 'Greece', 'Singapore', 'China',\n",
              "       'Hong-Kong', 'Sierra Leone', 'Comoros', 'Bahamas', 'Lebanon',\n",
              "       'Niue', 'Turkey', 'Cook Islands', 'St Vincent', 'Guinea-Bissau',\n",
              "       'Turkiye', 'Hong Kong', 'Togo',\n",
              "       'St. Vincent and the\\xa0Grenadines', 'Cayman Islands', 'Beliza',\n",
              "       'Tuvalu', 'Marshall\\xa0Islands', 'Vanuatu', 'St. Kitts and Navis',\n",
              "       'Ukraine', 'Honduras', 'Portugal', 'Croatia', 'Thailand',\n",
              "       'Tanzania', 'Cameroon', 'Equatorial Guinea', 'Bulgaria', nan],\n",
              "      dtype=object)"
            ]
          },
          "metadata": {},
          "execution_count": 82
        }
      ]
    },
    {
      "cell_type": "code",
      "source": [
        "df[\"World Bank region\"].unique()"
      ],
      "metadata": {
        "colab": {
          "base_uri": "https://localhost:8080/"
        },
        "id": "ST0LyDipC9sr",
        "outputId": "1c9751a0-337c-4987-a4d2-5aaf756e979d"
      },
      "execution_count": 83,
      "outputs": [
        {
          "output_type": "execute_result",
          "data": {
            "text/plain": [
              "array(['Middle East & North Africa', 'Sub-Saharan Africa',\n",
              "       'Europe & Central Asia', 'East Asia & Pacific', 'South Asia'],\n",
              "      dtype=object)"
            ]
          },
          "metadata": {},
          "execution_count": 83
        }
      ]
    },
    {
      "cell_type": "code",
      "source": [
        "df['UN region'].unique()"
      ],
      "metadata": {
        "colab": {
          "base_uri": "https://localhost:8080/"
        },
        "id": "QcfwSb7zDgXC",
        "outputId": "33038a85-f3f8-4b03-948b-f63e23925011"
      },
      "execution_count": 84,
      "outputs": [
        {
          "output_type": "execute_result",
          "data": {
            "text/plain": [
              "array(['Africa', 'Asia-Pacific', 'Western Europe and Others',\n",
              "       'Eastern Europe'], dtype=object)"
            ]
          },
          "metadata": {},
          "execution_count": 84
        }
      ]
    },
    {
      "cell_type": "code",
      "source": [
        "df[\"Development category\"].value_counts()"
      ],
      "metadata": {
        "colab": {
          "base_uri": "https://localhost:8080/"
        },
        "id": "eAOevRxaD3_Q",
        "outputId": "636049f4-a5a4-4364-a936-e2f1df7cc8fb"
      },
      "execution_count": 85,
      "outputs": [
        {
          "output_type": "execute_result",
          "data": {
            "text/plain": [
              "developing    599\n",
              "developed     483\n",
              "Name: Development category, dtype: int64"
            ]
          },
          "metadata": {},
          "execution_count": 85
        }
      ]
    },
    {
      "cell_type": "code",
      "source": [
        "df.groupby([\"Development category\",\"World Bank region\"])[[\"World Bank region\"]].count()"
      ],
      "metadata": {
        "colab": {
          "base_uri": "https://localhost:8080/",
          "height": 332
        },
        "id": "zZAKLMMlEJ-V",
        "outputId": "2bad138e-f015-4b9c-bc5a-a170fa977229"
      },
      "execution_count": 86,
      "outputs": [
        {
          "output_type": "execute_result",
          "data": {
            "text/plain": [
              "                                                 World Bank region\n",
              "Development category World Bank region                            \n",
              "developed            East Asia & Pacific                         7\n",
              "                     Europe & Central Asia                     452\n",
              "                     Middle East & North Africa                 24\n",
              "developing           East Asia & Pacific                       150\n",
              "                     Europe & Central Asia                     222\n",
              "                     Middle East & North Africa                162\n",
              "                     South Asia                                 43\n",
              "                     Sub-Saharan Africa                         22"
            ],
            "text/html": [
              "\n",
              "  <div id=\"df-d9d2d9b7-3ecb-498b-93bc-adbba7d89864\">\n",
              "    <div class=\"colab-df-container\">\n",
              "      <div>\n",
              "<style scoped>\n",
              "    .dataframe tbody tr th:only-of-type {\n",
              "        vertical-align: middle;\n",
              "    }\n",
              "\n",
              "    .dataframe tbody tr th {\n",
              "        vertical-align: top;\n",
              "    }\n",
              "\n",
              "    .dataframe thead th {\n",
              "        text-align: right;\n",
              "    }\n",
              "</style>\n",
              "<table border=\"1\" class=\"dataframe\">\n",
              "  <thead>\n",
              "    <tr style=\"text-align: right;\">\n",
              "      <th></th>\n",
              "      <th></th>\n",
              "      <th>World Bank region</th>\n",
              "    </tr>\n",
              "    <tr>\n",
              "      <th>Development category</th>\n",
              "      <th>World Bank region</th>\n",
              "      <th></th>\n",
              "    </tr>\n",
              "  </thead>\n",
              "  <tbody>\n",
              "    <tr>\n",
              "      <th rowspan=\"3\" valign=\"top\">developed</th>\n",
              "      <th>East Asia &amp; Pacific</th>\n",
              "      <td>7</td>\n",
              "    </tr>\n",
              "    <tr>\n",
              "      <th>Europe &amp; Central Asia</th>\n",
              "      <td>452</td>\n",
              "    </tr>\n",
              "    <tr>\n",
              "      <th>Middle East &amp; North Africa</th>\n",
              "      <td>24</td>\n",
              "    </tr>\n",
              "    <tr>\n",
              "      <th rowspan=\"5\" valign=\"top\">developing</th>\n",
              "      <th>East Asia &amp; Pacific</th>\n",
              "      <td>150</td>\n",
              "    </tr>\n",
              "    <tr>\n",
              "      <th>Europe &amp; Central Asia</th>\n",
              "      <td>222</td>\n",
              "    </tr>\n",
              "    <tr>\n",
              "      <th>Middle East &amp; North Africa</th>\n",
              "      <td>162</td>\n",
              "    </tr>\n",
              "    <tr>\n",
              "      <th>South Asia</th>\n",
              "      <td>43</td>\n",
              "    </tr>\n",
              "    <tr>\n",
              "      <th>Sub-Saharan Africa</th>\n",
              "      <td>22</td>\n",
              "    </tr>\n",
              "  </tbody>\n",
              "</table>\n",
              "</div>\n",
              "      <button class=\"colab-df-convert\" onclick=\"convertToInteractive('df-d9d2d9b7-3ecb-498b-93bc-adbba7d89864')\"\n",
              "              title=\"Convert this dataframe to an interactive table.\"\n",
              "              style=\"display:none;\">\n",
              "        \n",
              "  <svg xmlns=\"http://www.w3.org/2000/svg\" height=\"24px\"viewBox=\"0 0 24 24\"\n",
              "       width=\"24px\">\n",
              "    <path d=\"M0 0h24v24H0V0z\" fill=\"none\"/>\n",
              "    <path d=\"M18.56 5.44l.94 2.06.94-2.06 2.06-.94-2.06-.94-.94-2.06-.94 2.06-2.06.94zm-11 1L8.5 8.5l.94-2.06 2.06-.94-2.06-.94L8.5 2.5l-.94 2.06-2.06.94zm10 10l.94 2.06.94-2.06 2.06-.94-2.06-.94-.94-2.06-.94 2.06-2.06.94z\"/><path d=\"M17.41 7.96l-1.37-1.37c-.4-.4-.92-.59-1.43-.59-.52 0-1.04.2-1.43.59L10.3 9.45l-7.72 7.72c-.78.78-.78 2.05 0 2.83L4 21.41c.39.39.9.59 1.41.59.51 0 1.02-.2 1.41-.59l7.78-7.78 2.81-2.81c.8-.78.8-2.07 0-2.86zM5.41 20L4 18.59l7.72-7.72 1.47 1.35L5.41 20z\"/>\n",
              "  </svg>\n",
              "      </button>\n",
              "      \n",
              "  <style>\n",
              "    .colab-df-container {\n",
              "      display:flex;\n",
              "      flex-wrap:wrap;\n",
              "      gap: 12px;\n",
              "    }\n",
              "\n",
              "    .colab-df-convert {\n",
              "      background-color: #E8F0FE;\n",
              "      border: none;\n",
              "      border-radius: 50%;\n",
              "      cursor: pointer;\n",
              "      display: none;\n",
              "      fill: #1967D2;\n",
              "      height: 32px;\n",
              "      padding: 0 0 0 0;\n",
              "      width: 32px;\n",
              "    }\n",
              "\n",
              "    .colab-df-convert:hover {\n",
              "      background-color: #E2EBFA;\n",
              "      box-shadow: 0px 1px 2px rgba(60, 64, 67, 0.3), 0px 1px 3px 1px rgba(60, 64, 67, 0.15);\n",
              "      fill: #174EA6;\n",
              "    }\n",
              "\n",
              "    [theme=dark] .colab-df-convert {\n",
              "      background-color: #3B4455;\n",
              "      fill: #D2E3FC;\n",
              "    }\n",
              "\n",
              "    [theme=dark] .colab-df-convert:hover {\n",
              "      background-color: #434B5C;\n",
              "      box-shadow: 0px 1px 3px 1px rgba(0, 0, 0, 0.15);\n",
              "      filter: drop-shadow(0px 1px 2px rgba(0, 0, 0, 0.3));\n",
              "      fill: #FFFFFF;\n",
              "    }\n",
              "  </style>\n",
              "\n",
              "      <script>\n",
              "        const buttonEl =\n",
              "          document.querySelector('#df-d9d2d9b7-3ecb-498b-93bc-adbba7d89864 button.colab-df-convert');\n",
              "        buttonEl.style.display =\n",
              "          google.colab.kernel.accessAllowed ? 'block' : 'none';\n",
              "\n",
              "        async function convertToInteractive(key) {\n",
              "          const element = document.querySelector('#df-d9d2d9b7-3ecb-498b-93bc-adbba7d89864');\n",
              "          const dataTable =\n",
              "            await google.colab.kernel.invokeFunction('convertToInteractive',\n",
              "                                                     [key], {});\n",
              "          if (!dataTable) return;\n",
              "\n",
              "          const docLinkHtml = 'Like what you see? Visit the ' +\n",
              "            '<a target=\"_blank\" href=https://colab.research.google.com/notebooks/data_table.ipynb>data table notebook</a>'\n",
              "            + ' to learn more about interactive tables.';\n",
              "          element.innerHTML = '';\n",
              "          dataTable['output_type'] = 'display_data';\n",
              "          await google.colab.output.renderOutput(dataTable, element);\n",
              "          const docLink = document.createElement('div');\n",
              "          docLink.innerHTML = docLinkHtml;\n",
              "          element.appendChild(docLink);\n",
              "        }\n",
              "      </script>\n",
              "    </div>\n",
              "  </div>\n",
              "  "
            ]
          },
          "metadata": {},
          "execution_count": 86
        }
      ]
    },
    {
      "cell_type": "code",
      "source": [
        "df['WFP'].value_counts()"
      ],
      "metadata": {
        "colab": {
          "base_uri": "https://localhost:8080/"
        },
        "id": "puJoWQcxmrz8",
        "outputId": "9ee0d0ba-866d-4791-81e6-cbe5ccbd15d1"
      },
      "execution_count": 87,
      "outputs": [
        {
          "output_type": "execute_result",
          "data": {
            "text/plain": [
              "WFP    26\n",
              "Name: WFP, dtype: int64"
            ]
          },
          "metadata": {},
          "execution_count": 87
        }
      ]
    },
    {
      "cell_type": "markdown",
      "source": [
        "#### 2. How many tons of each commodity (rows) have left each port (columns)"
      ],
      "metadata": {
        "id": "gY8c_vBOAQ0K"
      }
    },
    {
      "cell_type": "code",
      "source": [
        "# Include only grains \n",
        "col_grains = [\"Corn\",\"Wheat\", \"Barley\"]\n",
        "df_ = df.loc[df[\"Commodity\"].isin(col_grains)]\n",
        "df_"
      ],
      "metadata": {
        "id": "iy-uSk_27ydC",
        "outputId": "9b12fbe4-ed91-4592-8739-6c7327baf3ad",
        "colab": {
          "base_uri": "https://localhost:8080/",
          "height": 1000
        }
      },
      "execution_count": 88,
      "outputs": [
        {
          "output_type": "execute_result",
          "data": {
            "text/plain": [
              "          Status  Outbound Sequence    Vessel name      IMO    Departure port  \\\n",
              "0       Outbound                949  MASTRO MITROS  9228071             Odesa   \n",
              "2       Outbound                948  DENIZ M (WFP)  9450703             Odesa   \n",
              "3       Outbound                947   PACIFIC ROSE  9299460       Chornomorsk   \n",
              "4       Outbound                946    NAVIOS HOPE  9328558             Odesa   \n",
              "5       Outbound                945     QUEEN LILA  9303376  Yuzhny/Pivdennyi   \n",
              "...          ...                ...            ...      ...               ...   \n",
              "1077    Outbound                  4       POLARNET  9758961       Chornomorsk   \n",
              "1078    Outbound                  3          ROJEN  9754927       Chornomorsk   \n",
              "1079    Outbound                  2      NAVI STAR  9590979             Odesa   \n",
              "1080    Outbound                  1         RAZONI  9086526             Odesa   \n",
              "1081  Outbound +                  1         RAZONI  9086526             Odesa   \n",
              "\n",
              "      Country Commodity  Tonnage           Departure Inspection İstanbul  \\\n",
              "0       Egypt      Corn  32611.0 2023-05-13 23:00:00                 NaT   \n",
              "2       Sudan     Wheat  30000.0 2023-05-13 23:00:00                 NaT   \n",
              "3     Türkiye     Wheat  26250.0 2023-05-11 23:00:00                 NaT   \n",
              "4       China    Barley  62000.0 2023-05-11 23:00:00                 NaT   \n",
              "5       Egypt      Corn  30450.0 2023-05-10 23:00:00                 NaT   \n",
              "...       ...       ...      ...                 ...                 ...   \n",
              "1077  Türkiye      Corn  12000.0 2022-08-04 23:00:00 2022-08-06 23:00:00   \n",
              "1078    Italy      Corn  13041.0 2022-08-04 23:00:00 2022-08-06 23:00:00   \n",
              "1079  Ireland      Corn  33000.0 2022-08-04 23:00:00 2022-08-05 23:00:00   \n",
              "1080  Türkiye      Corn   1527.0 2022-07-31 23:00:00 2022-08-02 23:00:00   \n",
              "1081    Egypt      Corn  25000.0 2022-07-31 23:00:00 2022-08-02 23:00:00   \n",
              "\n",
              "             Income group          Flag           World Bank region  \\\n",
              "0     lower-middle income       Liberia  Middle East & North Africa   \n",
              "2              low-income        Panama          Sub-Saharan Africa   \n",
              "3     upper-middle-income      Barbados       Europe & Central Asia   \n",
              "4     upper-middle-income        Panama         East Asia & Pacific   \n",
              "5     lower-middle income        Belize  Middle East & North Africa   \n",
              "...                   ...           ...                         ...   \n",
              "1077  upper-middle-income       Türkiye       Europe & Central Asia   \n",
              "1078          high-income         Malta       Europe & Central Asia   \n",
              "1079          high-income        Panama       Europe & Central Asia   \n",
              "1080  upper-middle-income  Sierra Leone       Europe & Central Asia   \n",
              "1081  lower-middle income  Sierra Leone  Middle East & North Africa   \n",
              "\n",
              "                      UN region Development category  WFP  \n",
              "0                        Africa           developing  NaN  \n",
              "2                        Africa           developing  WFP  \n",
              "3                  Asia-Pacific           developing  NaN  \n",
              "4                  Asia-Pacific           developing  NaN  \n",
              "5                        Africa           developing  NaN  \n",
              "...                         ...                  ...  ...  \n",
              "1077               Asia-Pacific           developing  NaN  \n",
              "1078  Western Europe and Others            developed  NaN  \n",
              "1079  Western Europe and Others            developed  NaN  \n",
              "1080               Asia-Pacific           developing  NaN  \n",
              "1081                     Africa           developing  NaN  \n",
              "\n",
              "[774 rows x 16 columns]"
            ],
            "text/html": [
              "\n",
              "  <div id=\"df-4cc7b623-87b4-4132-b390-30de93eba3a5\">\n",
              "    <div class=\"colab-df-container\">\n",
              "      <div>\n",
              "<style scoped>\n",
              "    .dataframe tbody tr th:only-of-type {\n",
              "        vertical-align: middle;\n",
              "    }\n",
              "\n",
              "    .dataframe tbody tr th {\n",
              "        vertical-align: top;\n",
              "    }\n",
              "\n",
              "    .dataframe thead th {\n",
              "        text-align: right;\n",
              "    }\n",
              "</style>\n",
              "<table border=\"1\" class=\"dataframe\">\n",
              "  <thead>\n",
              "    <tr style=\"text-align: right;\">\n",
              "      <th></th>\n",
              "      <th>Status</th>\n",
              "      <th>Outbound Sequence</th>\n",
              "      <th>Vessel name</th>\n",
              "      <th>IMO</th>\n",
              "      <th>Departure port</th>\n",
              "      <th>Country</th>\n",
              "      <th>Commodity</th>\n",
              "      <th>Tonnage</th>\n",
              "      <th>Departure</th>\n",
              "      <th>Inspection İstanbul</th>\n",
              "      <th>Income group</th>\n",
              "      <th>Flag</th>\n",
              "      <th>World Bank region</th>\n",
              "      <th>UN region</th>\n",
              "      <th>Development category</th>\n",
              "      <th>WFP</th>\n",
              "    </tr>\n",
              "  </thead>\n",
              "  <tbody>\n",
              "    <tr>\n",
              "      <th>0</th>\n",
              "      <td>Outbound</td>\n",
              "      <td>949</td>\n",
              "      <td>MASTRO MITROS</td>\n",
              "      <td>9228071</td>\n",
              "      <td>Odesa</td>\n",
              "      <td>Egypt</td>\n",
              "      <td>Corn</td>\n",
              "      <td>32611.0</td>\n",
              "      <td>2023-05-13 23:00:00</td>\n",
              "      <td>NaT</td>\n",
              "      <td>lower-middle income</td>\n",
              "      <td>Liberia</td>\n",
              "      <td>Middle East &amp; North Africa</td>\n",
              "      <td>Africa</td>\n",
              "      <td>developing</td>\n",
              "      <td>NaN</td>\n",
              "    </tr>\n",
              "    <tr>\n",
              "      <th>2</th>\n",
              "      <td>Outbound</td>\n",
              "      <td>948</td>\n",
              "      <td>DENIZ M (WFP)</td>\n",
              "      <td>9450703</td>\n",
              "      <td>Odesa</td>\n",
              "      <td>Sudan</td>\n",
              "      <td>Wheat</td>\n",
              "      <td>30000.0</td>\n",
              "      <td>2023-05-13 23:00:00</td>\n",
              "      <td>NaT</td>\n",
              "      <td>low-income</td>\n",
              "      <td>Panama</td>\n",
              "      <td>Sub-Saharan Africa</td>\n",
              "      <td>Africa</td>\n",
              "      <td>developing</td>\n",
              "      <td>WFP</td>\n",
              "    </tr>\n",
              "    <tr>\n",
              "      <th>3</th>\n",
              "      <td>Outbound</td>\n",
              "      <td>947</td>\n",
              "      <td>PACIFIC ROSE</td>\n",
              "      <td>9299460</td>\n",
              "      <td>Chornomorsk</td>\n",
              "      <td>Türkiye</td>\n",
              "      <td>Wheat</td>\n",
              "      <td>26250.0</td>\n",
              "      <td>2023-05-11 23:00:00</td>\n",
              "      <td>NaT</td>\n",
              "      <td>upper-middle-income</td>\n",
              "      <td>Barbados</td>\n",
              "      <td>Europe &amp; Central Asia</td>\n",
              "      <td>Asia-Pacific</td>\n",
              "      <td>developing</td>\n",
              "      <td>NaN</td>\n",
              "    </tr>\n",
              "    <tr>\n",
              "      <th>4</th>\n",
              "      <td>Outbound</td>\n",
              "      <td>946</td>\n",
              "      <td>NAVIOS HOPE</td>\n",
              "      <td>9328558</td>\n",
              "      <td>Odesa</td>\n",
              "      <td>China</td>\n",
              "      <td>Barley</td>\n",
              "      <td>62000.0</td>\n",
              "      <td>2023-05-11 23:00:00</td>\n",
              "      <td>NaT</td>\n",
              "      <td>upper-middle-income</td>\n",
              "      <td>Panama</td>\n",
              "      <td>East Asia &amp; Pacific</td>\n",
              "      <td>Asia-Pacific</td>\n",
              "      <td>developing</td>\n",
              "      <td>NaN</td>\n",
              "    </tr>\n",
              "    <tr>\n",
              "      <th>5</th>\n",
              "      <td>Outbound</td>\n",
              "      <td>945</td>\n",
              "      <td>QUEEN LILA</td>\n",
              "      <td>9303376</td>\n",
              "      <td>Yuzhny/Pivdennyi</td>\n",
              "      <td>Egypt</td>\n",
              "      <td>Corn</td>\n",
              "      <td>30450.0</td>\n",
              "      <td>2023-05-10 23:00:00</td>\n",
              "      <td>NaT</td>\n",
              "      <td>lower-middle income</td>\n",
              "      <td>Belize</td>\n",
              "      <td>Middle East &amp; North Africa</td>\n",
              "      <td>Africa</td>\n",
              "      <td>developing</td>\n",
              "      <td>NaN</td>\n",
              "    </tr>\n",
              "    <tr>\n",
              "      <th>...</th>\n",
              "      <td>...</td>\n",
              "      <td>...</td>\n",
              "      <td>...</td>\n",
              "      <td>...</td>\n",
              "      <td>...</td>\n",
              "      <td>...</td>\n",
              "      <td>...</td>\n",
              "      <td>...</td>\n",
              "      <td>...</td>\n",
              "      <td>...</td>\n",
              "      <td>...</td>\n",
              "      <td>...</td>\n",
              "      <td>...</td>\n",
              "      <td>...</td>\n",
              "      <td>...</td>\n",
              "      <td>...</td>\n",
              "    </tr>\n",
              "    <tr>\n",
              "      <th>1077</th>\n",
              "      <td>Outbound</td>\n",
              "      <td>4</td>\n",
              "      <td>POLARNET</td>\n",
              "      <td>9758961</td>\n",
              "      <td>Chornomorsk</td>\n",
              "      <td>Türkiye</td>\n",
              "      <td>Corn</td>\n",
              "      <td>12000.0</td>\n",
              "      <td>2022-08-04 23:00:00</td>\n",
              "      <td>2022-08-06 23:00:00</td>\n",
              "      <td>upper-middle-income</td>\n",
              "      <td>Türkiye</td>\n",
              "      <td>Europe &amp; Central Asia</td>\n",
              "      <td>Asia-Pacific</td>\n",
              "      <td>developing</td>\n",
              "      <td>NaN</td>\n",
              "    </tr>\n",
              "    <tr>\n",
              "      <th>1078</th>\n",
              "      <td>Outbound</td>\n",
              "      <td>3</td>\n",
              "      <td>ROJEN</td>\n",
              "      <td>9754927</td>\n",
              "      <td>Chornomorsk</td>\n",
              "      <td>Italy</td>\n",
              "      <td>Corn</td>\n",
              "      <td>13041.0</td>\n",
              "      <td>2022-08-04 23:00:00</td>\n",
              "      <td>2022-08-06 23:00:00</td>\n",
              "      <td>high-income</td>\n",
              "      <td>Malta</td>\n",
              "      <td>Europe &amp; Central Asia</td>\n",
              "      <td>Western Europe and Others</td>\n",
              "      <td>developed</td>\n",
              "      <td>NaN</td>\n",
              "    </tr>\n",
              "    <tr>\n",
              "      <th>1079</th>\n",
              "      <td>Outbound</td>\n",
              "      <td>2</td>\n",
              "      <td>NAVI STAR</td>\n",
              "      <td>9590979</td>\n",
              "      <td>Odesa</td>\n",
              "      <td>Ireland</td>\n",
              "      <td>Corn</td>\n",
              "      <td>33000.0</td>\n",
              "      <td>2022-08-04 23:00:00</td>\n",
              "      <td>2022-08-05 23:00:00</td>\n",
              "      <td>high-income</td>\n",
              "      <td>Panama</td>\n",
              "      <td>Europe &amp; Central Asia</td>\n",
              "      <td>Western Europe and Others</td>\n",
              "      <td>developed</td>\n",
              "      <td>NaN</td>\n",
              "    </tr>\n",
              "    <tr>\n",
              "      <th>1080</th>\n",
              "      <td>Outbound</td>\n",
              "      <td>1</td>\n",
              "      <td>RAZONI</td>\n",
              "      <td>9086526</td>\n",
              "      <td>Odesa</td>\n",
              "      <td>Türkiye</td>\n",
              "      <td>Corn</td>\n",
              "      <td>1527.0</td>\n",
              "      <td>2022-07-31 23:00:00</td>\n",
              "      <td>2022-08-02 23:00:00</td>\n",
              "      <td>upper-middle-income</td>\n",
              "      <td>Sierra Leone</td>\n",
              "      <td>Europe &amp; Central Asia</td>\n",
              "      <td>Asia-Pacific</td>\n",
              "      <td>developing</td>\n",
              "      <td>NaN</td>\n",
              "    </tr>\n",
              "    <tr>\n",
              "      <th>1081</th>\n",
              "      <td>Outbound +</td>\n",
              "      <td>1</td>\n",
              "      <td>RAZONI</td>\n",
              "      <td>9086526</td>\n",
              "      <td>Odesa</td>\n",
              "      <td>Egypt</td>\n",
              "      <td>Corn</td>\n",
              "      <td>25000.0</td>\n",
              "      <td>2022-07-31 23:00:00</td>\n",
              "      <td>2022-08-02 23:00:00</td>\n",
              "      <td>lower-middle income</td>\n",
              "      <td>Sierra Leone</td>\n",
              "      <td>Middle East &amp; North Africa</td>\n",
              "      <td>Africa</td>\n",
              "      <td>developing</td>\n",
              "      <td>NaN</td>\n",
              "    </tr>\n",
              "  </tbody>\n",
              "</table>\n",
              "<p>774 rows × 16 columns</p>\n",
              "</div>\n",
              "      <button class=\"colab-df-convert\" onclick=\"convertToInteractive('df-4cc7b623-87b4-4132-b390-30de93eba3a5')\"\n",
              "              title=\"Convert this dataframe to an interactive table.\"\n",
              "              style=\"display:none;\">\n",
              "        \n",
              "  <svg xmlns=\"http://www.w3.org/2000/svg\" height=\"24px\"viewBox=\"0 0 24 24\"\n",
              "       width=\"24px\">\n",
              "    <path d=\"M0 0h24v24H0V0z\" fill=\"none\"/>\n",
              "    <path d=\"M18.56 5.44l.94 2.06.94-2.06 2.06-.94-2.06-.94-.94-2.06-.94 2.06-2.06.94zm-11 1L8.5 8.5l.94-2.06 2.06-.94-2.06-.94L8.5 2.5l-.94 2.06-2.06.94zm10 10l.94 2.06.94-2.06 2.06-.94-2.06-.94-.94-2.06-.94 2.06-2.06.94z\"/><path d=\"M17.41 7.96l-1.37-1.37c-.4-.4-.92-.59-1.43-.59-.52 0-1.04.2-1.43.59L10.3 9.45l-7.72 7.72c-.78.78-.78 2.05 0 2.83L4 21.41c.39.39.9.59 1.41.59.51 0 1.02-.2 1.41-.59l7.78-7.78 2.81-2.81c.8-.78.8-2.07 0-2.86zM5.41 20L4 18.59l7.72-7.72 1.47 1.35L5.41 20z\"/>\n",
              "  </svg>\n",
              "      </button>\n",
              "      \n",
              "  <style>\n",
              "    .colab-df-container {\n",
              "      display:flex;\n",
              "      flex-wrap:wrap;\n",
              "      gap: 12px;\n",
              "    }\n",
              "\n",
              "    .colab-df-convert {\n",
              "      background-color: #E8F0FE;\n",
              "      border: none;\n",
              "      border-radius: 50%;\n",
              "      cursor: pointer;\n",
              "      display: none;\n",
              "      fill: #1967D2;\n",
              "      height: 32px;\n",
              "      padding: 0 0 0 0;\n",
              "      width: 32px;\n",
              "    }\n",
              "\n",
              "    .colab-df-convert:hover {\n",
              "      background-color: #E2EBFA;\n",
              "      box-shadow: 0px 1px 2px rgba(60, 64, 67, 0.3), 0px 1px 3px 1px rgba(60, 64, 67, 0.15);\n",
              "      fill: #174EA6;\n",
              "    }\n",
              "\n",
              "    [theme=dark] .colab-df-convert {\n",
              "      background-color: #3B4455;\n",
              "      fill: #D2E3FC;\n",
              "    }\n",
              "\n",
              "    [theme=dark] .colab-df-convert:hover {\n",
              "      background-color: #434B5C;\n",
              "      box-shadow: 0px 1px 3px 1px rgba(0, 0, 0, 0.15);\n",
              "      filter: drop-shadow(0px 1px 2px rgba(0, 0, 0, 0.3));\n",
              "      fill: #FFFFFF;\n",
              "    }\n",
              "  </style>\n",
              "\n",
              "      <script>\n",
              "        const buttonEl =\n",
              "          document.querySelector('#df-4cc7b623-87b4-4132-b390-30de93eba3a5 button.colab-df-convert');\n",
              "        buttonEl.style.display =\n",
              "          google.colab.kernel.accessAllowed ? 'block' : 'none';\n",
              "\n",
              "        async function convertToInteractive(key) {\n",
              "          const element = document.querySelector('#df-4cc7b623-87b4-4132-b390-30de93eba3a5');\n",
              "          const dataTable =\n",
              "            await google.colab.kernel.invokeFunction('convertToInteractive',\n",
              "                                                     [key], {});\n",
              "          if (!dataTable) return;\n",
              "\n",
              "          const docLinkHtml = 'Like what you see? Visit the ' +\n",
              "            '<a target=\"_blank\" href=https://colab.research.google.com/notebooks/data_table.ipynb>data table notebook</a>'\n",
              "            + ' to learn more about interactive tables.';\n",
              "          element.innerHTML = '';\n",
              "          dataTable['output_type'] = 'display_data';\n",
              "          await google.colab.output.renderOutput(dataTable, element);\n",
              "          const docLink = document.createElement('div');\n",
              "          docLink.innerHTML = docLinkHtml;\n",
              "          element.appendChild(docLink);\n",
              "        }\n",
              "      </script>\n",
              "    </div>\n",
              "  </div>\n",
              "  "
            ]
          },
          "metadata": {},
          "execution_count": 88
        }
      ]
    },
    {
      "cell_type": "code",
      "source": [
        "# Check number of unique items\n",
        "df[[\"Commodity\"]].value_counts()"
      ],
      "metadata": {
        "id": "Qd7CJW73Ahoa",
        "outputId": "64ce83fd-3f04-4e73-9962-6fee763d1d52",
        "colab": {
          "base_uri": "https://localhost:8080/"
        }
      },
      "execution_count": 94,
      "outputs": [
        {
          "output_type": "execute_result",
          "data": {
            "text/plain": [
              "Commodity         \n",
              "Corn                  411\n",
              "Wheat                 299\n",
              "Sunflower oil         108\n",
              "Sunflower meal         67\n",
              "Barley                 64\n",
              "Soya beans             58\n",
              "Rapeseed               29\n",
              "Sunflower seed         21\n",
              "Peas                   10\n",
              "Rapeseed meal           3\n",
              "Canola                  3\n",
              "Soya oil                2\n",
              "Sunflower pellets       2\n",
              "Vegetable oil           1\n",
              "Sugar beet pellets      1\n",
              "Sunflower meal          1\n",
              "Mixed                   1\n",
              "Wheat bran pellets      1\n",
              "dtype: int64"
            ]
          },
          "metadata": {},
          "execution_count": 94
        }
      ]
    },
    {
      "cell_type": "code",
      "source": [
        "# Create a pivot table, showing how many tons of each commodity (rows) have left each port (columns)\n",
        "\n",
        "df_depart = pd.pivot_table(df_,values = \"Tonnage\",columns=[\"Departure port\", \"Commodity\"], aggfunc=\"sum\").stack()\n",
        "df_depart"
      ],
      "metadata": {
        "id": "N1Pe8aBuBFKb",
        "outputId": "623e0b0b-7a98-4d4d-faf8-ac33ad01db8b",
        "colab": {
          "base_uri": "https://localhost:8080/",
          "height": 175
        }
      },
      "execution_count": 100,
      "outputs": [
        {
          "output_type": "execute_result",
          "data": {
            "text/plain": [
              "Departure port     Chornomorsk      Odesa  Yuzhny/Pivdennyi\n",
              "        Commodity                                          \n",
              "Tonnage Barley       280891.00   598704.0         369203.36\n",
              "        Corn        5495186.99  4040554.0        5632759.00\n",
              "        Wheat       2756269.00  3159459.0        2430923.00"
            ],
            "text/html": [
              "\n",
              "  <div id=\"df-f70a7e70-07e7-4e6b-8670-e253bd4739a4\">\n",
              "    <div class=\"colab-df-container\">\n",
              "      <div>\n",
              "<style scoped>\n",
              "    .dataframe tbody tr th:only-of-type {\n",
              "        vertical-align: middle;\n",
              "    }\n",
              "\n",
              "    .dataframe tbody tr th {\n",
              "        vertical-align: top;\n",
              "    }\n",
              "\n",
              "    .dataframe thead th {\n",
              "        text-align: right;\n",
              "    }\n",
              "</style>\n",
              "<table border=\"1\" class=\"dataframe\">\n",
              "  <thead>\n",
              "    <tr style=\"text-align: right;\">\n",
              "      <th></th>\n",
              "      <th>Departure port</th>\n",
              "      <th>Chornomorsk</th>\n",
              "      <th>Odesa</th>\n",
              "      <th>Yuzhny/Pivdennyi</th>\n",
              "    </tr>\n",
              "    <tr>\n",
              "      <th></th>\n",
              "      <th>Commodity</th>\n",
              "      <th></th>\n",
              "      <th></th>\n",
              "      <th></th>\n",
              "    </tr>\n",
              "  </thead>\n",
              "  <tbody>\n",
              "    <tr>\n",
              "      <th rowspan=\"3\" valign=\"top\">Tonnage</th>\n",
              "      <th>Barley</th>\n",
              "      <td>280891.00</td>\n",
              "      <td>598704.0</td>\n",
              "      <td>369203.36</td>\n",
              "    </tr>\n",
              "    <tr>\n",
              "      <th>Corn</th>\n",
              "      <td>5495186.99</td>\n",
              "      <td>4040554.0</td>\n",
              "      <td>5632759.00</td>\n",
              "    </tr>\n",
              "    <tr>\n",
              "      <th>Wheat</th>\n",
              "      <td>2756269.00</td>\n",
              "      <td>3159459.0</td>\n",
              "      <td>2430923.00</td>\n",
              "    </tr>\n",
              "  </tbody>\n",
              "</table>\n",
              "</div>\n",
              "      <button class=\"colab-df-convert\" onclick=\"convertToInteractive('df-f70a7e70-07e7-4e6b-8670-e253bd4739a4')\"\n",
              "              title=\"Convert this dataframe to an interactive table.\"\n",
              "              style=\"display:none;\">\n",
              "        \n",
              "  <svg xmlns=\"http://www.w3.org/2000/svg\" height=\"24px\"viewBox=\"0 0 24 24\"\n",
              "       width=\"24px\">\n",
              "    <path d=\"M0 0h24v24H0V0z\" fill=\"none\"/>\n",
              "    <path d=\"M18.56 5.44l.94 2.06.94-2.06 2.06-.94-2.06-.94-.94-2.06-.94 2.06-2.06.94zm-11 1L8.5 8.5l.94-2.06 2.06-.94-2.06-.94L8.5 2.5l-.94 2.06-2.06.94zm10 10l.94 2.06.94-2.06 2.06-.94-2.06-.94-.94-2.06-.94 2.06-2.06.94z\"/><path d=\"M17.41 7.96l-1.37-1.37c-.4-.4-.92-.59-1.43-.59-.52 0-1.04.2-1.43.59L10.3 9.45l-7.72 7.72c-.78.78-.78 2.05 0 2.83L4 21.41c.39.39.9.59 1.41.59.51 0 1.02-.2 1.41-.59l7.78-7.78 2.81-2.81c.8-.78.8-2.07 0-2.86zM5.41 20L4 18.59l7.72-7.72 1.47 1.35L5.41 20z\"/>\n",
              "  </svg>\n",
              "      </button>\n",
              "      \n",
              "  <style>\n",
              "    .colab-df-container {\n",
              "      display:flex;\n",
              "      flex-wrap:wrap;\n",
              "      gap: 12px;\n",
              "    }\n",
              "\n",
              "    .colab-df-convert {\n",
              "      background-color: #E8F0FE;\n",
              "      border: none;\n",
              "      border-radius: 50%;\n",
              "      cursor: pointer;\n",
              "      display: none;\n",
              "      fill: #1967D2;\n",
              "      height: 32px;\n",
              "      padding: 0 0 0 0;\n",
              "      width: 32px;\n",
              "    }\n",
              "\n",
              "    .colab-df-convert:hover {\n",
              "      background-color: #E2EBFA;\n",
              "      box-shadow: 0px 1px 2px rgba(60, 64, 67, 0.3), 0px 1px 3px 1px rgba(60, 64, 67, 0.15);\n",
              "      fill: #174EA6;\n",
              "    }\n",
              "\n",
              "    [theme=dark] .colab-df-convert {\n",
              "      background-color: #3B4455;\n",
              "      fill: #D2E3FC;\n",
              "    }\n",
              "\n",
              "    [theme=dark] .colab-df-convert:hover {\n",
              "      background-color: #434B5C;\n",
              "      box-shadow: 0px 1px 3px 1px rgba(0, 0, 0, 0.15);\n",
              "      filter: drop-shadow(0px 1px 2px rgba(0, 0, 0, 0.3));\n",
              "      fill: #FFFFFF;\n",
              "    }\n",
              "  </style>\n",
              "\n",
              "      <script>\n",
              "        const buttonEl =\n",
              "          document.querySelector('#df-f70a7e70-07e7-4e6b-8670-e253bd4739a4 button.colab-df-convert');\n",
              "        buttonEl.style.display =\n",
              "          google.colab.kernel.accessAllowed ? 'block' : 'none';\n",
              "\n",
              "        async function convertToInteractive(key) {\n",
              "          const element = document.querySelector('#df-f70a7e70-07e7-4e6b-8670-e253bd4739a4');\n",
              "          const dataTable =\n",
              "            await google.colab.kernel.invokeFunction('convertToInteractive',\n",
              "                                                     [key], {});\n",
              "          if (!dataTable) return;\n",
              "\n",
              "          const docLinkHtml = 'Like what you see? Visit the ' +\n",
              "            '<a target=\"_blank\" href=https://colab.research.google.com/notebooks/data_table.ipynb>data table notebook</a>'\n",
              "            + ' to learn more about interactive tables.';\n",
              "          element.innerHTML = '';\n",
              "          dataTable['output_type'] = 'display_data';\n",
              "          await google.colab.output.renderOutput(dataTable, element);\n",
              "          const docLink = document.createElement('div');\n",
              "          docLink.innerHTML = docLinkHtml;\n",
              "          element.appendChild(docLink);\n",
              "        }\n",
              "      </script>\n",
              "    </div>\n",
              "  </div>\n",
              "  "
            ]
          },
          "metadata": {},
          "execution_count": 100
        }
      ]
    },
    {
      "cell_type": "code",
      "source": [],
      "metadata": {
        "id": "GvrKm2lKBpc6"
      },
      "execution_count": null,
      "outputs": []
    }
  ]
}