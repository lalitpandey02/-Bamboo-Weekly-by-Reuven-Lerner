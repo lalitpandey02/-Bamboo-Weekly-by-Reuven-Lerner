{
  "nbformat": 4,
  "nbformat_minor": 0,
  "metadata": {
    "colab": {
      "provenance": [],
      "toc_visible": true,
      "authorship_tag": "ABX9TyOqT+NcPjoCO231hS+Q/FJx",
      "include_colab_link": true
    },
    "kernelspec": {
      "name": "python3",
      "display_name": "Python 3"
    },
    "language_info": {
      "name": "python"
    }
  },
  "cells": [
    {
      "cell_type": "markdown",
      "metadata": {
        "id": "view-in-github",
        "colab_type": "text"
      },
      "source": [
        "<a href=\"https://colab.research.google.com/github/lalitpandey02/Bamboo-Weekly-by-Reuven-Lerner/blob/main/BW_5_Ukrainian_Exports.ipynb\" target=\"_parent\"><img src=\"https://colab.research.google.com/assets/colab-badge.svg\" alt=\"Open In Colab\"/></a>"
      ]
    },
    {
      "cell_type": "markdown",
      "source": [
        "\n",
        "One year ago, Russia invaded Ukraine. The war continues to rage, and we’ve seen no small number of horrific and devastating pictures. Millions of Ukrainians are now refugees, trying to make a new (often temporary) life elsewhere.\n",
        "Soon after the invasion, a number of commentators pointed to Ukraine’s importance as an exporter of food products. If they cannot export food to the rest of the world, then it’ll obviously be an issue for Ukrainian farmers, and for their economy. But it might also lead to a food shortage for millions of people in other countries.\n",
        "In response to this problem, a number of countries negotiated the Black Sea Grain Initiative, aimed at helping Ukraine export food products across the Black Sea to Turkey, Mediterranean countries, and elsewhere. The program has been a success; as of earlier this month, more than 700 ships carrying food had left Ukraine.\n",
        "This week, we’ll look at a data set describing the ships that have left Ukraine as part of this initiative.\n",
        "The data set comes from humdata.org, which has a variety of humanitarian-related data sets. In particular, we’ll be looking at data from their page on the Black Sea Grain Initiative’s ship movements, at https://data.humdata.org/dataset/black-sea-grain-initiative-vessel-movements. I suggest downloading the data in Excel format, which includes a data dictionary on the “Readme” sheet, and the actual data we’ll use on the “Data” sheet.\n",
        "The URL to download the data in Excel format is:\n",
        "https://docs.google.com/spreadsheets/d/e/2PACX-1vRisnQjodySbp6-XXPGhdsVMp2stg_gyuxw42pP41tuxeic63IARau6bV1TgjLiw_ciAWsTO5LarPqT/pub?output=xlsx"
      ],
      "metadata": {
        "id": "-Nt8pLq-l2Jw"
      }
    },
    {
      "cell_type": "markdown",
      "source": [
        "### Objective\n",
        "Here is what I would like for you to do:\n",
        "1. Read the Excel data into a data frame. Again, the “Data” sheet is what interests us.\n",
        "\n",
        "2. Create a pivot table, showing how many tons of each commodity (rows) have left each port (columns).\n",
        "\n",
        "3. Create a pivot table, showing how many tons of each commodity (columns) were going to each destination country (rows).\n",
        "\n",
        "4. The worry was that lower-income countries would not have enough food to eat, because of the war. According to the data's \"income group,\" what proportion of the grain are low-income countries receiving?\n",
        "\n",
        "5. Have we seen growth in the total tonnage shipped each month to developing countries?\n",
        "\n",
        "6. Finally, what 10 flags are most commonly used on the ships coming from Ukraine? Do any country's names appear more than once? If so, why, and how can you fix it?\n",
        "\n",
        "\n",
        "\n",
        "\n",
        "The learning goals for this week are to work with pivot tables, calculate growth, and clean some weird data."
      ],
      "metadata": {
        "id": "KgOiXLeRmMub"
      }
    },
    {
      "cell_type": "code",
      "execution_count": 5,
      "metadata": {
        "id": "naH2dxjAjGyz",
        "colab": {
          "base_uri": "https://localhost:8080/"
        },
        "outputId": "ed4755ca-33c1-4630-daf1-febab55afc3c"
      },
      "outputs": [
        {
          "output_type": "stream",
          "name": "stdout",
          "text": [
            "Import complete\n"
          ]
        }
      ],
      "source": [
        "#imports\n",
        "import pandas as pd\n",
        "from urllib.request import urlretrieve\n",
        "import matplotlib.pyplot as plt\n",
        "import seaborn as sns\n",
        "import datetime\n",
        "from datetime import datetime\n",
        "print(\"Import complete\")"
      ]
    },
    {
      "cell_type": "markdown",
      "source": [
        "#### 1. Read the Excel data into a data frame"
      ],
      "metadata": {
        "id": "a1oxWi9t_sge"
      }
    },
    {
      "cell_type": "code",
      "source": [
        "# Extract Data\n",
        "url = \"https://docs.google.com/spreadsheets/d/e/2PACX-1vRisnQjodySbp6-XXPGhdsVMp2stg_gyuxw42pP41tuxeic63IARau6bV1TgjLiw_ciAWsTO5LarPqT/pub?output=xlsx\"\n",
        "xls_file, _ = urlretrieve(url)"
      ],
      "metadata": {
        "id": "d76wq5jNnUIu"
      },
      "execution_count": 6,
      "outputs": []
    },
    {
      "cell_type": "code",
      "source": [
        "#Read Excel\n",
        "df = pd.read_excel(xls_file, sheet_name = \"Data\")\n",
        "df.head()"
      ],
      "metadata": {
        "colab": {
          "base_uri": "https://localhost:8080/",
          "height": 548
        },
        "id": "zm9t7aYuoKZO",
        "outputId": "9566b1a1-0161-4a5d-948b-05b9ecd6ec8d"
      },
      "execution_count": 7,
      "outputs": [
        {
          "output_type": "execute_result",
          "data": {
            "text/plain": [
              "       Status  Outbound Sequence    Vessel name      IMO Departure port  \\\n",
              "0    Outbound                950       K SUKRET  9571442          Odesa   \n",
              "1    Outbound                949  MASTRO MITROS  9228071          Odesa   \n",
              "2  Outbound +                949  MASTRO MITROS  9228071          Odesa   \n",
              "3    Outbound                948  DENIZ M (WFP)  9450703          Odesa   \n",
              "4    Outbound                947   PACIFIC ROSE  9299460    Chornomorsk   \n",
              "\n",
              "   Country       Commodity  Tonnage           Departure Inspection İstanbul  \\\n",
              "0  Morocco  Sunflower meal  19800.0 2023-05-14 23:00:00                 NaT   \n",
              "1    Egypt            Corn  32611.0 2023-05-13 23:00:00                 NaT   \n",
              "2    Egypt      Soya beans   8704.0 2023-05-13 23:00:00                 NaT   \n",
              "3    Sudan           Wheat  30000.0 2023-05-13 23:00:00                 NaT   \n",
              "4  Türkiye           Wheat  26250.0 2023-05-11 23:00:00                 NaT   \n",
              "\n",
              "          Income group      Flag           World Bank region     UN region  \\\n",
              "0  lower-middle income   Liberia  Middle East & North Africa        Africa   \n",
              "1  lower-middle income   Liberia  Middle East & North Africa        Africa   \n",
              "2  lower-middle income   Liberia  Middle East & North Africa        Africa   \n",
              "3           low-income    Panama          Sub-Saharan Africa        Africa   \n",
              "4  upper-middle-income  Barbados       Europe & Central Asia  Asia-Pacific   \n",
              "\n",
              "  Development category  WFP  \n",
              "0           developing  NaN  \n",
              "1           developing  NaN  \n",
              "2           developing  NaN  \n",
              "3           developing  WFP  \n",
              "4           developing  NaN  "
            ],
            "text/html": [
              "\n",
              "  <div id=\"df-62c739f7-2664-43a6-a5d6-619fa2b7c75f\">\n",
              "    <div class=\"colab-df-container\">\n",
              "      <div>\n",
              "<style scoped>\n",
              "    .dataframe tbody tr th:only-of-type {\n",
              "        vertical-align: middle;\n",
              "    }\n",
              "\n",
              "    .dataframe tbody tr th {\n",
              "        vertical-align: top;\n",
              "    }\n",
              "\n",
              "    .dataframe thead th {\n",
              "        text-align: right;\n",
              "    }\n",
              "</style>\n",
              "<table border=\"1\" class=\"dataframe\">\n",
              "  <thead>\n",
              "    <tr style=\"text-align: right;\">\n",
              "      <th></th>\n",
              "      <th>Status</th>\n",
              "      <th>Outbound Sequence</th>\n",
              "      <th>Vessel name</th>\n",
              "      <th>IMO</th>\n",
              "      <th>Departure port</th>\n",
              "      <th>Country</th>\n",
              "      <th>Commodity</th>\n",
              "      <th>Tonnage</th>\n",
              "      <th>Departure</th>\n",
              "      <th>Inspection İstanbul</th>\n",
              "      <th>Income group</th>\n",
              "      <th>Flag</th>\n",
              "      <th>World Bank region</th>\n",
              "      <th>UN region</th>\n",
              "      <th>Development category</th>\n",
              "      <th>WFP</th>\n",
              "    </tr>\n",
              "  </thead>\n",
              "  <tbody>\n",
              "    <tr>\n",
              "      <th>0</th>\n",
              "      <td>Outbound</td>\n",
              "      <td>950</td>\n",
              "      <td>K SUKRET</td>\n",
              "      <td>9571442</td>\n",
              "      <td>Odesa</td>\n",
              "      <td>Morocco</td>\n",
              "      <td>Sunflower meal</td>\n",
              "      <td>19800.0</td>\n",
              "      <td>2023-05-14 23:00:00</td>\n",
              "      <td>NaT</td>\n",
              "      <td>lower-middle income</td>\n",
              "      <td>Liberia</td>\n",
              "      <td>Middle East &amp; North Africa</td>\n",
              "      <td>Africa</td>\n",
              "      <td>developing</td>\n",
              "      <td>NaN</td>\n",
              "    </tr>\n",
              "    <tr>\n",
              "      <th>1</th>\n",
              "      <td>Outbound</td>\n",
              "      <td>949</td>\n",
              "      <td>MASTRO MITROS</td>\n",
              "      <td>9228071</td>\n",
              "      <td>Odesa</td>\n",
              "      <td>Egypt</td>\n",
              "      <td>Corn</td>\n",
              "      <td>32611.0</td>\n",
              "      <td>2023-05-13 23:00:00</td>\n",
              "      <td>NaT</td>\n",
              "      <td>lower-middle income</td>\n",
              "      <td>Liberia</td>\n",
              "      <td>Middle East &amp; North Africa</td>\n",
              "      <td>Africa</td>\n",
              "      <td>developing</td>\n",
              "      <td>NaN</td>\n",
              "    </tr>\n",
              "    <tr>\n",
              "      <th>2</th>\n",
              "      <td>Outbound +</td>\n",
              "      <td>949</td>\n",
              "      <td>MASTRO MITROS</td>\n",
              "      <td>9228071</td>\n",
              "      <td>Odesa</td>\n",
              "      <td>Egypt</td>\n",
              "      <td>Soya beans</td>\n",
              "      <td>8704.0</td>\n",
              "      <td>2023-05-13 23:00:00</td>\n",
              "      <td>NaT</td>\n",
              "      <td>lower-middle income</td>\n",
              "      <td>Liberia</td>\n",
              "      <td>Middle East &amp; North Africa</td>\n",
              "      <td>Africa</td>\n",
              "      <td>developing</td>\n",
              "      <td>NaN</td>\n",
              "    </tr>\n",
              "    <tr>\n",
              "      <th>3</th>\n",
              "      <td>Outbound</td>\n",
              "      <td>948</td>\n",
              "      <td>DENIZ M (WFP)</td>\n",
              "      <td>9450703</td>\n",
              "      <td>Odesa</td>\n",
              "      <td>Sudan</td>\n",
              "      <td>Wheat</td>\n",
              "      <td>30000.0</td>\n",
              "      <td>2023-05-13 23:00:00</td>\n",
              "      <td>NaT</td>\n",
              "      <td>low-income</td>\n",
              "      <td>Panama</td>\n",
              "      <td>Sub-Saharan Africa</td>\n",
              "      <td>Africa</td>\n",
              "      <td>developing</td>\n",
              "      <td>WFP</td>\n",
              "    </tr>\n",
              "    <tr>\n",
              "      <th>4</th>\n",
              "      <td>Outbound</td>\n",
              "      <td>947</td>\n",
              "      <td>PACIFIC ROSE</td>\n",
              "      <td>9299460</td>\n",
              "      <td>Chornomorsk</td>\n",
              "      <td>Türkiye</td>\n",
              "      <td>Wheat</td>\n",
              "      <td>26250.0</td>\n",
              "      <td>2023-05-11 23:00:00</td>\n",
              "      <td>NaT</td>\n",
              "      <td>upper-middle-income</td>\n",
              "      <td>Barbados</td>\n",
              "      <td>Europe &amp; Central Asia</td>\n",
              "      <td>Asia-Pacific</td>\n",
              "      <td>developing</td>\n",
              "      <td>NaN</td>\n",
              "    </tr>\n",
              "  </tbody>\n",
              "</table>\n",
              "</div>\n",
              "      <button class=\"colab-df-convert\" onclick=\"convertToInteractive('df-62c739f7-2664-43a6-a5d6-619fa2b7c75f')\"\n",
              "              title=\"Convert this dataframe to an interactive table.\"\n",
              "              style=\"display:none;\">\n",
              "        \n",
              "  <svg xmlns=\"http://www.w3.org/2000/svg\" height=\"24px\"viewBox=\"0 0 24 24\"\n",
              "       width=\"24px\">\n",
              "    <path d=\"M0 0h24v24H0V0z\" fill=\"none\"/>\n",
              "    <path d=\"M18.56 5.44l.94 2.06.94-2.06 2.06-.94-2.06-.94-.94-2.06-.94 2.06-2.06.94zm-11 1L8.5 8.5l.94-2.06 2.06-.94-2.06-.94L8.5 2.5l-.94 2.06-2.06.94zm10 10l.94 2.06.94-2.06 2.06-.94-2.06-.94-.94-2.06-.94 2.06-2.06.94z\"/><path d=\"M17.41 7.96l-1.37-1.37c-.4-.4-.92-.59-1.43-.59-.52 0-1.04.2-1.43.59L10.3 9.45l-7.72 7.72c-.78.78-.78 2.05 0 2.83L4 21.41c.39.39.9.59 1.41.59.51 0 1.02-.2 1.41-.59l7.78-7.78 2.81-2.81c.8-.78.8-2.07 0-2.86zM5.41 20L4 18.59l7.72-7.72 1.47 1.35L5.41 20z\"/>\n",
              "  </svg>\n",
              "      </button>\n",
              "      \n",
              "  <style>\n",
              "    .colab-df-container {\n",
              "      display:flex;\n",
              "      flex-wrap:wrap;\n",
              "      gap: 12px;\n",
              "    }\n",
              "\n",
              "    .colab-df-convert {\n",
              "      background-color: #E8F0FE;\n",
              "      border: none;\n",
              "      border-radius: 50%;\n",
              "      cursor: pointer;\n",
              "      display: none;\n",
              "      fill: #1967D2;\n",
              "      height: 32px;\n",
              "      padding: 0 0 0 0;\n",
              "      width: 32px;\n",
              "    }\n",
              "\n",
              "    .colab-df-convert:hover {\n",
              "      background-color: #E2EBFA;\n",
              "      box-shadow: 0px 1px 2px rgba(60, 64, 67, 0.3), 0px 1px 3px 1px rgba(60, 64, 67, 0.15);\n",
              "      fill: #174EA6;\n",
              "    }\n",
              "\n",
              "    [theme=dark] .colab-df-convert {\n",
              "      background-color: #3B4455;\n",
              "      fill: #D2E3FC;\n",
              "    }\n",
              "\n",
              "    [theme=dark] .colab-df-convert:hover {\n",
              "      background-color: #434B5C;\n",
              "      box-shadow: 0px 1px 3px 1px rgba(0, 0, 0, 0.15);\n",
              "      filter: drop-shadow(0px 1px 2px rgba(0, 0, 0, 0.3));\n",
              "      fill: #FFFFFF;\n",
              "    }\n",
              "  </style>\n",
              "\n",
              "      <script>\n",
              "        const buttonEl =\n",
              "          document.querySelector('#df-62c739f7-2664-43a6-a5d6-619fa2b7c75f button.colab-df-convert');\n",
              "        buttonEl.style.display =\n",
              "          google.colab.kernel.accessAllowed ? 'block' : 'none';\n",
              "\n",
              "        async function convertToInteractive(key) {\n",
              "          const element = document.querySelector('#df-62c739f7-2664-43a6-a5d6-619fa2b7c75f');\n",
              "          const dataTable =\n",
              "            await google.colab.kernel.invokeFunction('convertToInteractive',\n",
              "                                                     [key], {});\n",
              "          if (!dataTable) return;\n",
              "\n",
              "          const docLinkHtml = 'Like what you see? Visit the ' +\n",
              "            '<a target=\"_blank\" href=https://colab.research.google.com/notebooks/data_table.ipynb>data table notebook</a>'\n",
              "            + ' to learn more about interactive tables.';\n",
              "          element.innerHTML = '';\n",
              "          dataTable['output_type'] = 'display_data';\n",
              "          await google.colab.output.renderOutput(dataTable, element);\n",
              "          const docLink = document.createElement('div');\n",
              "          docLink.innerHTML = docLinkHtml;\n",
              "          element.appendChild(docLink);\n",
              "        }\n",
              "      </script>\n",
              "    </div>\n",
              "  </div>\n",
              "  "
            ]
          },
          "metadata": {},
          "execution_count": 7
        }
      ]
    },
    {
      "cell_type": "code",
      "source": [
        "df.shape"
      ],
      "metadata": {
        "colab": {
          "base_uri": "https://localhost:8080/"
        },
        "id": "1MTtrFy-oZXm",
        "outputId": "40099a0b-f82a-4b0a-9e9f-abde3dddd2da"
      },
      "execution_count": 8,
      "outputs": [
        {
          "output_type": "execute_result",
          "data": {
            "text/plain": [
              "(1083, 16)"
            ]
          },
          "metadata": {},
          "execution_count": 8
        }
      ]
    },
    {
      "cell_type": "code",
      "source": [
        "df.info()"
      ],
      "metadata": {
        "colab": {
          "base_uri": "https://localhost:8080/"
        },
        "id": "FXaC8kXvUgRo",
        "outputId": "5ac50dad-39f4-4c63-ff56-c996e771db49"
      },
      "execution_count": 9,
      "outputs": [
        {
          "output_type": "stream",
          "name": "stdout",
          "text": [
            "<class 'pandas.core.frame.DataFrame'>\n",
            "RangeIndex: 1083 entries, 0 to 1082\n",
            "Data columns (total 16 columns):\n",
            " #   Column                Non-Null Count  Dtype         \n",
            "---  ------                --------------  -----         \n",
            " 0   Status                1083 non-null   object        \n",
            " 1   Outbound Sequence     1083 non-null   int64         \n",
            " 2   Vessel name           1083 non-null   object        \n",
            " 3   IMO                   1083 non-null   int64         \n",
            " 4   Departure port        1083 non-null   object        \n",
            " 5   Country               1083 non-null   object        \n",
            " 6   Commodity             1083 non-null   object        \n",
            " 7   Tonnage               1083 non-null   float64       \n",
            " 8   Departure             1083 non-null   datetime64[ns]\n",
            " 9   Inspection İstanbul   1066 non-null   datetime64[ns]\n",
            " 10  Income group          1083 non-null   object        \n",
            " 11  Flag                  1082 non-null   object        \n",
            " 12  World Bank region     1083 non-null   object        \n",
            " 13  UN region             1083 non-null   object        \n",
            " 14  Development category  1083 non-null   object        \n",
            " 15  WFP                   26 non-null     object        \n",
            "dtypes: datetime64[ns](2), float64(1), int64(2), object(11)\n",
            "memory usage: 135.5+ KB\n"
          ]
        }
      ]
    },
    {
      "cell_type": "code",
      "source": [
        "df.describe()"
      ],
      "metadata": {
        "colab": {
          "base_uri": "https://localhost:8080/",
          "height": 300
        },
        "id": "giiKcqCLT42S",
        "outputId": "e0708967-c5e1-4c45-c441-36b862066171"
      },
      "execution_count": 10,
      "outputs": [
        {
          "output_type": "execute_result",
          "data": {
            "text/plain": [
              "       Outbound Sequence           IMO       Tonnage\n",
              "count        1083.000000  1.083000e+03   1083.000000\n",
              "mean          480.713758  9.300975e+06  27876.626962\n",
              "std           275.156734  3.391583e+05  20185.675916\n",
              "min             1.000000  7.126102e+06     67.860000\n",
              "25%           237.500000  9.184938e+06   9632.000000\n",
              "50%           484.000000  9.311311e+06  26000.000000\n",
              "75%           719.500000  9.517145e+06  41900.000000\n",
              "max           950.000000  9.942627e+06  74904.000000"
            ],
            "text/html": [
              "\n",
              "  <div id=\"df-63b0712c-c1f2-4d29-a15f-20136304f6df\">\n",
              "    <div class=\"colab-df-container\">\n",
              "      <div>\n",
              "<style scoped>\n",
              "    .dataframe tbody tr th:only-of-type {\n",
              "        vertical-align: middle;\n",
              "    }\n",
              "\n",
              "    .dataframe tbody tr th {\n",
              "        vertical-align: top;\n",
              "    }\n",
              "\n",
              "    .dataframe thead th {\n",
              "        text-align: right;\n",
              "    }\n",
              "</style>\n",
              "<table border=\"1\" class=\"dataframe\">\n",
              "  <thead>\n",
              "    <tr style=\"text-align: right;\">\n",
              "      <th></th>\n",
              "      <th>Outbound Sequence</th>\n",
              "      <th>IMO</th>\n",
              "      <th>Tonnage</th>\n",
              "    </tr>\n",
              "  </thead>\n",
              "  <tbody>\n",
              "    <tr>\n",
              "      <th>count</th>\n",
              "      <td>1083.000000</td>\n",
              "      <td>1.083000e+03</td>\n",
              "      <td>1083.000000</td>\n",
              "    </tr>\n",
              "    <tr>\n",
              "      <th>mean</th>\n",
              "      <td>480.713758</td>\n",
              "      <td>9.300975e+06</td>\n",
              "      <td>27876.626962</td>\n",
              "    </tr>\n",
              "    <tr>\n",
              "      <th>std</th>\n",
              "      <td>275.156734</td>\n",
              "      <td>3.391583e+05</td>\n",
              "      <td>20185.675916</td>\n",
              "    </tr>\n",
              "    <tr>\n",
              "      <th>min</th>\n",
              "      <td>1.000000</td>\n",
              "      <td>7.126102e+06</td>\n",
              "      <td>67.860000</td>\n",
              "    </tr>\n",
              "    <tr>\n",
              "      <th>25%</th>\n",
              "      <td>237.500000</td>\n",
              "      <td>9.184938e+06</td>\n",
              "      <td>9632.000000</td>\n",
              "    </tr>\n",
              "    <tr>\n",
              "      <th>50%</th>\n",
              "      <td>484.000000</td>\n",
              "      <td>9.311311e+06</td>\n",
              "      <td>26000.000000</td>\n",
              "    </tr>\n",
              "    <tr>\n",
              "      <th>75%</th>\n",
              "      <td>719.500000</td>\n",
              "      <td>9.517145e+06</td>\n",
              "      <td>41900.000000</td>\n",
              "    </tr>\n",
              "    <tr>\n",
              "      <th>max</th>\n",
              "      <td>950.000000</td>\n",
              "      <td>9.942627e+06</td>\n",
              "      <td>74904.000000</td>\n",
              "    </tr>\n",
              "  </tbody>\n",
              "</table>\n",
              "</div>\n",
              "      <button class=\"colab-df-convert\" onclick=\"convertToInteractive('df-63b0712c-c1f2-4d29-a15f-20136304f6df')\"\n",
              "              title=\"Convert this dataframe to an interactive table.\"\n",
              "              style=\"display:none;\">\n",
              "        \n",
              "  <svg xmlns=\"http://www.w3.org/2000/svg\" height=\"24px\"viewBox=\"0 0 24 24\"\n",
              "       width=\"24px\">\n",
              "    <path d=\"M0 0h24v24H0V0z\" fill=\"none\"/>\n",
              "    <path d=\"M18.56 5.44l.94 2.06.94-2.06 2.06-.94-2.06-.94-.94-2.06-.94 2.06-2.06.94zm-11 1L8.5 8.5l.94-2.06 2.06-.94-2.06-.94L8.5 2.5l-.94 2.06-2.06.94zm10 10l.94 2.06.94-2.06 2.06-.94-2.06-.94-.94-2.06-.94 2.06-2.06.94z\"/><path d=\"M17.41 7.96l-1.37-1.37c-.4-.4-.92-.59-1.43-.59-.52 0-1.04.2-1.43.59L10.3 9.45l-7.72 7.72c-.78.78-.78 2.05 0 2.83L4 21.41c.39.39.9.59 1.41.59.51 0 1.02-.2 1.41-.59l7.78-7.78 2.81-2.81c.8-.78.8-2.07 0-2.86zM5.41 20L4 18.59l7.72-7.72 1.47 1.35L5.41 20z\"/>\n",
              "  </svg>\n",
              "      </button>\n",
              "      \n",
              "  <style>\n",
              "    .colab-df-container {\n",
              "      display:flex;\n",
              "      flex-wrap:wrap;\n",
              "      gap: 12px;\n",
              "    }\n",
              "\n",
              "    .colab-df-convert {\n",
              "      background-color: #E8F0FE;\n",
              "      border: none;\n",
              "      border-radius: 50%;\n",
              "      cursor: pointer;\n",
              "      display: none;\n",
              "      fill: #1967D2;\n",
              "      height: 32px;\n",
              "      padding: 0 0 0 0;\n",
              "      width: 32px;\n",
              "    }\n",
              "\n",
              "    .colab-df-convert:hover {\n",
              "      background-color: #E2EBFA;\n",
              "      box-shadow: 0px 1px 2px rgba(60, 64, 67, 0.3), 0px 1px 3px 1px rgba(60, 64, 67, 0.15);\n",
              "      fill: #174EA6;\n",
              "    }\n",
              "\n",
              "    [theme=dark] .colab-df-convert {\n",
              "      background-color: #3B4455;\n",
              "      fill: #D2E3FC;\n",
              "    }\n",
              "\n",
              "    [theme=dark] .colab-df-convert:hover {\n",
              "      background-color: #434B5C;\n",
              "      box-shadow: 0px 1px 3px 1px rgba(0, 0, 0, 0.15);\n",
              "      filter: drop-shadow(0px 1px 2px rgba(0, 0, 0, 0.3));\n",
              "      fill: #FFFFFF;\n",
              "    }\n",
              "  </style>\n",
              "\n",
              "      <script>\n",
              "        const buttonEl =\n",
              "          document.querySelector('#df-63b0712c-c1f2-4d29-a15f-20136304f6df button.colab-df-convert');\n",
              "        buttonEl.style.display =\n",
              "          google.colab.kernel.accessAllowed ? 'block' : 'none';\n",
              "\n",
              "        async function convertToInteractive(key) {\n",
              "          const element = document.querySelector('#df-63b0712c-c1f2-4d29-a15f-20136304f6df');\n",
              "          const dataTable =\n",
              "            await google.colab.kernel.invokeFunction('convertToInteractive',\n",
              "                                                     [key], {});\n",
              "          if (!dataTable) return;\n",
              "\n",
              "          const docLinkHtml = 'Like what you see? Visit the ' +\n",
              "            '<a target=\"_blank\" href=https://colab.research.google.com/notebooks/data_table.ipynb>data table notebook</a>'\n",
              "            + ' to learn more about interactive tables.';\n",
              "          element.innerHTML = '';\n",
              "          dataTable['output_type'] = 'display_data';\n",
              "          await google.colab.output.renderOutput(dataTable, element);\n",
              "          const docLink = document.createElement('div');\n",
              "          docLink.innerHTML = docLinkHtml;\n",
              "          element.appendChild(docLink);\n",
              "        }\n",
              "      </script>\n",
              "    </div>\n",
              "  </div>\n",
              "  "
            ]
          },
          "metadata": {},
          "execution_count": 10
        }
      ]
    },
    {
      "cell_type": "markdown",
      "source": [
        "#### **Column Values Analysis**"
      ],
      "metadata": {
        "id": "oJ0WJkeAxFau"
      }
    },
    {
      "cell_type": "code",
      "source": [
        "df.Status.unique()"
      ],
      "metadata": {
        "colab": {
          "base_uri": "https://localhost:8080/"
        },
        "id": "hsHyJPojUBI1",
        "outputId": "e9d44c44-e02e-45ff-ed50-afca641ced5d"
      },
      "execution_count": 11,
      "outputs": [
        {
          "output_type": "execute_result",
          "data": {
            "text/plain": [
              "array(['Outbound', 'Outbound +'], dtype=object)"
            ]
          },
          "metadata": {},
          "execution_count": 11
        }
      ]
    },
    {
      "cell_type": "code",
      "source": [
        "df['Departure port'].unique()"
      ],
      "metadata": {
        "colab": {
          "base_uri": "https://localhost:8080/"
        },
        "id": "IKGnCeA7VdvN",
        "outputId": "8f80f1ab-9e4e-4443-e39f-3875abe7b588"
      },
      "execution_count": 12,
      "outputs": [
        {
          "output_type": "execute_result",
          "data": {
            "text/plain": [
              "array(['Odesa', 'Chornomorsk', 'Yuzhny/Pivdennyi'], dtype=object)"
            ]
          },
          "metadata": {},
          "execution_count": 12
        }
      ]
    },
    {
      "cell_type": "code",
      "source": [
        "df.Country.unique()"
      ],
      "metadata": {
        "colab": {
          "base_uri": "https://localhost:8080/"
        },
        "id": "O5xIFFXdVvhl",
        "outputId": "99f1fb8c-bcb1-4351-91d6-ef4b38884c9c"
      },
      "execution_count": 13,
      "outputs": [
        {
          "output_type": "execute_result",
          "data": {
            "text/plain": [
              "array(['Morocco', 'Egypt', 'Sudan', 'Türkiye', 'China', 'Spain',\n",
              "       'Bangladesh', 'Tunisia', 'The Netherlands', 'Libya', 'Kenya',\n",
              "       'Ethiopia', 'Italy', 'Lebanon', 'Germany', 'Yemen', 'India',\n",
              "       'Portugal', 'Iraq', 'Israel', 'Viet Nam', 'Algeria',\n",
              "       'United Kingdom', 'United Arab Emirates', 'Saudi Arabia',\n",
              "       'Belgium', 'Japan', 'France', 'Romania', 'Bulgaria', 'Afghanistan',\n",
              "       'Ireland', 'Sri Lanka', 'Thailand', 'Greece', 'Indonesia',\n",
              "       'Somalia', 'Republic of Korea', 'Jordan', 'Oman', 'Pakistan',\n",
              "       'Djibouti', 'Georgia', 'Malaysia', 'Iran'], dtype=object)"
            ]
          },
          "metadata": {},
          "execution_count": 13
        }
      ]
    },
    {
      "cell_type": "code",
      "source": [
        "df.Commodity.unique()"
      ],
      "metadata": {
        "colab": {
          "base_uri": "https://localhost:8080/"
        },
        "id": "akGExeF8WLV6",
        "outputId": "efcebd52-05dc-4c41-d779-b50da4cec963"
      },
      "execution_count": 14,
      "outputs": [
        {
          "output_type": "execute_result",
          "data": {
            "text/plain": [
              "array(['Sunflower meal', 'Corn', 'Soya beans', 'Wheat', 'Barley',\n",
              "       'Sunflower oil', 'Sunflower meal ', 'Peas', 'Rapeseed',\n",
              "       'Sunflower seed', 'Vegetable oil', 'Soya oil', 'Canola',\n",
              "       'Rapeseed meal', 'Sunflower pellets', 'Mixed',\n",
              "       'Wheat bran pellets', 'Sugar beet pellets'], dtype=object)"
            ]
          },
          "metadata": {},
          "execution_count": 14
        }
      ]
    },
    {
      "cell_type": "code",
      "source": [
        "print(\"Skewness = \" , df.Tonnage.skew())\n",
        "print(\"Kurtosis = \" , df.Tonnage.kurtosis())"
      ],
      "metadata": {
        "colab": {
          "base_uri": "https://localhost:8080/"
        },
        "id": "MN-H0yT5Wdbz",
        "outputId": "93be7f93-360c-488d-b39a-624a823b485d"
      },
      "execution_count": 15,
      "outputs": [
        {
          "output_type": "stream",
          "name": "stdout",
          "text": [
            "Skewness =  0.6205115242699458\n",
            "Kurtosis =  -0.7268445049884269\n"
          ]
        }
      ]
    },
    {
      "cell_type": "code",
      "source": [
        "fig, ax = plt.subplots()\n",
        "sns.histplot(data=df, x=\"Tonnage\", kde=\"True\")\n",
        "ax.set_title(\"Histogram and KDE of Tons Commodities sent\")"
      ],
      "metadata": {
        "colab": {
          "base_uri": "https://localhost:8080/",
          "height": 489
        },
        "id": "5dlIeZfTXXSi",
        "outputId": "5244b916-fb7e-4cfa-d294-d7d4f3946ca8"
      },
      "execution_count": 16,
      "outputs": [
        {
          "output_type": "execute_result",
          "data": {
            "text/plain": [
              "Text(0.5, 1.0, 'Histogram and KDE of Tons Commodities sent')"
            ]
          },
          "metadata": {},
          "execution_count": 16
        },
        {
          "output_type": "display_data",
          "data": {
            "text/plain": [
              "<Figure size 640x480 with 1 Axes>"
            ],
            "image/png": "[encoded data removed]"
          },
          "metadata": {}
        }
      ]
    },
    {
      "cell_type": "code",
      "source": [
        "from scipy import stats\n",
        "fig, (ax) = plt.subplots(figsize = (4,4))\n",
        "res = stats.probplot(df[\"Tonnage\"],dist=\"norm\", plot=ax)"
      ],
      "metadata": {
        "colab": {
          "base_uri": "https://localhost:8080/",
          "height": 410
        },
        "id": "DjjET4jviabp",
        "outputId": "0340090c-82c9-45ce-f9c6-1970d4bf202a"
      },
      "execution_count": 17,
      "outputs": [
        {
          "output_type": "display_data",
          "data": {
            "text/plain": [
              "<Figure size 400x400 with 1 Axes>"
            ],
            "image/png": "[encoded data removed]"
          },
          "metadata": {}
        }
      ]
    },
    {
      "cell_type": "code",
      "source": [
        "df[\"Departure\"].describe(datetime_is_numeric=True)"
      ],
      "metadata": {
        "colab": {
          "base_uri": "https://localhost:8080/"
        },
        "id": "BTFUjWxcjoM7",
        "outputId": "ef19250f-168a-417a-8480-ac47568d90d7"
      },
      "execution_count": 18,
      "outputs": [
        {
          "output_type": "execute_result",
          "data": {
            "text/plain": [
              "count                             1083\n",
              "mean     2022-12-06 00:54:34.238227200\n",
              "min                2022-07-31 23:00:00\n",
              "25%                2022-09-28 23:00:00\n",
              "50%                2022-11-20 22:00:00\n",
              "75%                2023-02-07 22:00:00\n",
              "max                2023-05-14 23:00:00\n",
              "Name: Departure, dtype: object"
            ]
          },
          "metadata": {},
          "execution_count": 18
        }
      ]
    },
    {
      "cell_type": "code",
      "source": [
        "print(\"Departure Date Range : \", df[\"Departure\"].dt.date.min(), \" to \", df[\"Departure\"].dt.date.max())"
      ],
      "metadata": {
        "colab": {
          "base_uri": "https://localhost:8080/"
        },
        "id": "5wOyT36ZxoK9",
        "outputId": "61cd2b6c-2fdb-4d4c-a81f-acf6726ff411"
      },
      "execution_count": 19,
      "outputs": [
        {
          "output_type": "stream",
          "name": "stdout",
          "text": [
            "Departure Date Range :  2022-07-31  to  2023-05-14\n"
          ]
        }
      ]
    },
    {
      "cell_type": "code",
      "source": [
        "df[df[\"Inspection İstanbul\"].isna()]"
      ],
      "metadata": {
        "colab": {
          "base_uri": "https://localhost:8080/",
          "height": 1000
        },
        "id": "cyIDAC2x-HVa",
        "outputId": "2192a79c-5b7b-4fc2-ca52-a8bc09a8e144"
      },
      "execution_count": 20,
      "outputs": [
        {
          "output_type": "execute_result",
          "data": {
            "text/plain": [
              "        Status  Outbound Sequence      Vessel name      IMO    Departure port  \\\n",
              "0     Outbound                950         K SUKRET  9571442             Odesa   \n",
              "1     Outbound                949    MASTRO MITROS  9228071             Odesa   \n",
              "2   Outbound +                949    MASTRO MITROS  9228071             Odesa   \n",
              "3     Outbound                948    DENIZ M (WFP)  9450703             Odesa   \n",
              "4     Outbound                947     PACIFIC ROSE  9299460       Chornomorsk   \n",
              "5     Outbound                946      NAVIOS HOPE  9328558             Odesa   \n",
              "6     Outbound                945       QUEEN LILA  9303376  Yuzhny/Pivdennyi   \n",
              "7     Outbound                944            MARIA  9041772             Odesa   \n",
              "8     Outbound                943         AG VALOR  9312327             Odesa   \n",
              "9   Outbound +                943         AG VALOR  9312327             Odesa   \n",
              "10    Outbound                942       LADY ZEHMA  9303431       Chornomorsk   \n",
              "11  Outbound +                942       LADY ZEHMA  9303431       Chornomorsk   \n",
              "12    Outbound                941           ENEIDA  9198381       Chornomorsk   \n",
              "13    Outbound                940  MAHA JACQUELINE  9185073       Chornomorsk   \n",
              "16    Outbound                938     MAGNUM POWER  9488968             Odesa   \n",
              "17    Outbound                937      LUCKY GLORY  9254111             Odesa   \n",
              "18    Outbound                936      NEW VENTURE  9597812             Odesa   \n",
              "\n",
              "       Country       Commodity  Tonnage           Departure  \\\n",
              "0      Morocco  Sunflower meal  19800.0 2023-05-14 23:00:00   \n",
              "1        Egypt            Corn  32611.0 2023-05-13 23:00:00   \n",
              "2        Egypt      Soya beans   8704.0 2023-05-13 23:00:00   \n",
              "3        Sudan           Wheat  30000.0 2023-05-13 23:00:00   \n",
              "4      Türkiye           Wheat  26250.0 2023-05-11 23:00:00   \n",
              "5        China          Barley  62000.0 2023-05-11 23:00:00   \n",
              "6        Egypt            Corn  30450.0 2023-05-10 23:00:00   \n",
              "7        Spain           Wheat  20900.0 2023-05-10 23:00:00   \n",
              "8        Egypt            Corn  10351.0 2023-05-10 23:00:00   \n",
              "9        Egypt           Wheat  15999.0 2023-05-10 23:00:00   \n",
              "10       Egypt            Corn  19350.0 2023-05-09 23:00:00   \n",
              "11       Egypt           Wheat  10650.0 2023-05-09 23:00:00   \n",
              "12       Spain            Corn  41646.0 2023-05-09 23:00:00   \n",
              "13       Spain            Corn  63500.0 2023-05-08 23:00:00   \n",
              "16  Bangladesh           Wheat  50000.0 2023-05-07 23:00:00   \n",
              "17       China            Corn  64000.0 2023-05-07 23:00:00   \n",
              "18       Spain            Corn   9500.0 2023-05-05 23:00:00   \n",
              "\n",
              "   Inspection İstanbul         Income group              Flag  \\\n",
              "0                  NaT  lower-middle income           Liberia   \n",
              "1                  NaT  lower-middle income           Liberia   \n",
              "2                  NaT  lower-middle income           Liberia   \n",
              "3                  NaT           low-income            Panama   \n",
              "4                  NaT  upper-middle-income          Barbados   \n",
              "5                  NaT  upper-middle-income            Panama   \n",
              "6                  NaT  lower-middle income            Belize   \n",
              "7                  NaT          high-income             Palau   \n",
              "8                  NaT  lower-middle income            Panama   \n",
              "9                  NaT  lower-middle income            Panama   \n",
              "10                 NaT  lower-middle income            Panama   \n",
              "11                 NaT  lower-middle income            Panama   \n",
              "12                 NaT          high-income           Liberia   \n",
              "13                 NaT          high-income             India   \n",
              "16                 NaT  lower-middle income  Marshall Islands   \n",
              "17                 NaT  upper-middle-income            Panama   \n",
              "18                 NaT          high-income            Panama   \n",
              "\n",
              "             World Bank region                  UN region  \\\n",
              "0   Middle East & North Africa                     Africa   \n",
              "1   Middle East & North Africa                     Africa   \n",
              "2   Middle East & North Africa                     Africa   \n",
              "3           Sub-Saharan Africa                     Africa   \n",
              "4        Europe & Central Asia               Asia-Pacific   \n",
              "5          East Asia & Pacific               Asia-Pacific   \n",
              "6   Middle East & North Africa                     Africa   \n",
              "7        Europe & Central Asia  Western Europe and Others   \n",
              "8   Middle East & North Africa                     Africa   \n",
              "9   Middle East & North Africa                     Africa   \n",
              "10  Middle East & North Africa                     Africa   \n",
              "11  Middle East & North Africa                     Africa   \n",
              "12       Europe & Central Asia  Western Europe and Others   \n",
              "13       Europe & Central Asia  Western Europe and Others   \n",
              "16                  South Asia               Asia-Pacific   \n",
              "17         East Asia & Pacific               Asia-Pacific   \n",
              "18       Europe & Central Asia  Western Europe and Others   \n",
              "\n",
              "   Development category  WFP  \n",
              "0            developing  NaN  \n",
              "1            developing  NaN  \n",
              "2            developing  NaN  \n",
              "3            developing  WFP  \n",
              "4            developing  NaN  \n",
              "5            developing  NaN  \n",
              "6            developing  NaN  \n",
              "7             developed  NaN  \n",
              "8            developing  NaN  \n",
              "9            developing  NaN  \n",
              "10           developing  NaN  \n",
              "11           developing  NaN  \n",
              "12            developed  NaN  \n",
              "13            developed  NaN  \n",
              "16           developing  NaN  \n",
              "17           developing  NaN  \n",
              "18            developed  NaN  "
            ],
            "text/html": [
              "\n",
              "  <div id=\"df-515a3bc5-611c-4e91-8620-83db1cbb871e\">\n",
              "    <div class=\"colab-df-container\">\n",
              "      <div>\n",
              "<style scoped>\n",
              "    .dataframe tbody tr th:only-of-type {\n",
              "        vertical-align: middle;\n",
              "    }\n",
              "\n",
              "    .dataframe tbody tr th {\n",
              "        vertical-align: top;\n",
              "    }\n",
              "\n",
              "    .dataframe thead th {\n",
              "        text-align: right;\n",
              "    }\n",
              "</style>\n",
              "<table border=\"1\" class=\"dataframe\">\n",
              "  <thead>\n",
              "    <tr style=\"text-align: right;\">\n",
              "      <th></th>\n",
              "      <th>Status</th>\n",
              "      <th>Outbound Sequence</th>\n",
              "      <th>Vessel name</th>\n",
              "      <th>IMO</th>\n",
              "      <th>Departure port</th>\n",
              "      <th>Country</th>\n",
              "      <th>Commodity</th>\n",
              "      <th>Tonnage</th>\n",
              "      <th>Departure</th>\n",
              "      <th>Inspection İstanbul</th>\n",
              "      <th>Income group</th>\n",
              "      <th>Flag</th>\n",
              "      <th>World Bank region</th>\n",
              "      <th>UN region</th>\n",
              "      <th>Development category</th>\n",
              "      <th>WFP</th>\n",
              "    </tr>\n",
              "  </thead>\n",
              "  <tbody>\n",
              "    <tr>\n",
              "      <th>0</th>\n",
              "      <td>Outbound</td>\n",
              "      <td>950</td>\n",
              "      <td>K SUKRET</td>\n",
              "      <td>9571442</td>\n",
              "      <td>Odesa</td>\n",
              "      <td>Morocco</td>\n",
              "      <td>Sunflower meal</td>\n",
              "      <td>19800.0</td>\n",
              "      <td>2023-05-14 23:00:00</td>\n",
              "      <td>NaT</td>\n",
              "      <td>lower-middle income</td>\n",
              "      <td>Liberia</td>\n",
              "      <td>Middle East &amp; North Africa</td>\n",
              "      <td>Africa</td>\n",
              "      <td>developing</td>\n",
              "      <td>NaN</td>\n",
              "    </tr>\n",
              "    <tr>\n",
              "      <th>1</th>\n",
              "      <td>Outbound</td>\n",
              "      <td>949</td>\n",
              "      <td>MASTRO MITROS</td>\n",
              "      <td>9228071</td>\n",
              "      <td>Odesa</td>\n",
              "      <td>Egypt</td>\n",
              "      <td>Corn</td>\n",
              "      <td>32611.0</td>\n",
              "      <td>2023-05-13 23:00:00</td>\n",
              "      <td>NaT</td>\n",
              "      <td>lower-middle income</td>\n",
              "      <td>Liberia</td>\n",
              "      <td>Middle East &amp; North Africa</td>\n",
              "      <td>Africa</td>\n",
              "      <td>developing</td>\n",
              "      <td>NaN</td>\n",
              "    </tr>\n",
              "    <tr>\n",
              "      <th>2</th>\n",
              "      <td>Outbound +</td>\n",
              "      <td>949</td>\n",
              "      <td>MASTRO MITROS</td>\n",
              "      <td>9228071</td>\n",
              "      <td>Odesa</td>\n",
              "      <td>Egypt</td>\n",
              "      <td>Soya beans</td>\n",
              "      <td>8704.0</td>\n",
              "      <td>2023-05-13 23:00:00</td>\n",
              "      <td>NaT</td>\n",
              "      <td>lower-middle income</td>\n",
              "      <td>Liberia</td>\n",
              "      <td>Middle East &amp; North Africa</td>\n",
              "      <td>Africa</td>\n",
              "      <td>developing</td>\n",
              "      <td>NaN</td>\n",
              "    </tr>\n",
              "    <tr>\n",
              "      <th>3</th>\n",
              "      <td>Outbound</td>\n",
              "      <td>948</td>\n",
              "      <td>DENIZ M (WFP)</td>\n",
              "      <td>9450703</td>\n",
              "      <td>Odesa</td>\n",
              "      <td>Sudan</td>\n",
              "      <td>Wheat</td>\n",
              "      <td>30000.0</td>\n",
              "      <td>2023-05-13 23:00:00</td>\n",
              "      <td>NaT</td>\n",
              "      <td>low-income</td>\n",
              "      <td>Panama</td>\n",
              "      <td>Sub-Saharan Africa</td>\n",
              "      <td>Africa</td>\n",
              "      <td>developing</td>\n",
              "      <td>WFP</td>\n",
              "    </tr>\n",
              "    <tr>\n",
              "      <th>4</th>\n",
              "      <td>Outbound</td>\n",
              "      <td>947</td>\n",
              "      <td>PACIFIC ROSE</td>\n",
              "      <td>9299460</td>\n",
              "      <td>Chornomorsk</td>\n",
              "      <td>Türkiye</td>\n",
              "      <td>Wheat</td>\n",
              "      <td>26250.0</td>\n",
              "      <td>2023-05-11 23:00:00</td>\n",
              "      <td>NaT</td>\n",
              "      <td>upper-middle-income</td>\n",
              "      <td>Barbados</td>\n",
              "      <td>Europe &amp; Central Asia</td>\n",
              "      <td>Asia-Pacific</td>\n",
              "      <td>developing</td>\n",
              "      <td>NaN</td>\n",
              "    </tr>\n",
              "    <tr>\n",
              "      <th>5</th>\n",
              "      <td>Outbound</td>\n",
              "      <td>946</td>\n",
              "      <td>NAVIOS HOPE</td>\n",
              "      <td>9328558</td>\n",
              "      <td>Odesa</td>\n",
              "      <td>China</td>\n",
              "      <td>Barley</td>\n",
              "      <td>62000.0</td>\n",
              "      <td>2023-05-11 23:00:00</td>\n",
              "      <td>NaT</td>\n",
              "      <td>upper-middle-income</td>\n",
              "      <td>Panama</td>\n",
              "      <td>East Asia &amp; Pacific</td>\n",
              "      <td>Asia-Pacific</td>\n",
              "      <td>developing</td>\n",
              "      <td>NaN</td>\n",
              "    </tr>\n",
              "    <tr>\n",
              "      <th>6</th>\n",
              "      <td>Outbound</td>\n",
              "      <td>945</td>\n",
              "      <td>QUEEN LILA</td>\n",
              "      <td>9303376</td>\n",
              "      <td>Yuzhny/Pivdennyi</td>\n",
              "      <td>Egypt</td>\n",
              "      <td>Corn</td>\n",
              "      <td>30450.0</td>\n",
              "      <td>2023-05-10 23:00:00</td>\n",
              "      <td>NaT</td>\n",
              "      <td>lower-middle income</td>\n",
              "      <td>Belize</td>\n",
              "      <td>Middle East &amp; North Africa</td>\n",
              "      <td>Africa</td>\n",
              "      <td>developing</td>\n",
              "      <td>NaN</td>\n",
              "    </tr>\n",
              "    <tr>\n",
              "      <th>7</th>\n",
              "      <td>Outbound</td>\n",
              "      <td>944</td>\n",
              "      <td>MARIA</td>\n",
              "      <td>9041772</td>\n",
              "      <td>Odesa</td>\n",
              "      <td>Spain</td>\n",
              "      <td>Wheat</td>\n",
              "      <td>20900.0</td>\n",
              "      <td>2023-05-10 23:00:00</td>\n",
              "      <td>NaT</td>\n",
              "      <td>high-income</td>\n",
              "      <td>Palau</td>\n",
              "      <td>Europe &amp; Central Asia</td>\n",
              "      <td>Western Europe and Others</td>\n",
              "      <td>developed</td>\n",
              "      <td>NaN</td>\n",
              "    </tr>\n",
              "    <tr>\n",
              "      <th>8</th>\n",
              "      <td>Outbound</td>\n",
              "      <td>943</td>\n",
              "      <td>AG VALOR</td>\n",
              "      <td>9312327</td>\n",
              "      <td>Odesa</td>\n",
              "      <td>Egypt</td>\n",
              "      <td>Corn</td>\n",
              "      <td>10351.0</td>\n",
              "      <td>2023-05-10 23:00:00</td>\n",
              "      <td>NaT</td>\n",
              "      <td>lower-middle income</td>\n",
              "      <td>Panama</td>\n",
              "      <td>Middle East &amp; North Africa</td>\n",
              "      <td>Africa</td>\n",
              "      <td>developing</td>\n",
              "      <td>NaN</td>\n",
              "    </tr>\n",
              "    <tr>\n",
              "      <th>9</th>\n",
              "      <td>Outbound +</td>\n",
              "      <td>943</td>\n",
              "      <td>AG VALOR</td>\n",
              "      <td>9312327</td>\n",
              "      <td>Odesa</td>\n",
              "      <td>Egypt</td>\n",
              "      <td>Wheat</td>\n",
              "      <td>15999.0</td>\n",
              "      <td>2023-05-10 23:00:00</td>\n",
              "      <td>NaT</td>\n",
              "      <td>lower-middle income</td>\n",
              "      <td>Panama</td>\n",
              "      <td>Middle East &amp; North Africa</td>\n",
              "      <td>Africa</td>\n",
              "      <td>developing</td>\n",
              "      <td>NaN</td>\n",
              "    </tr>\n",
              "    <tr>\n",
              "      <th>10</th>\n",
              "      <td>Outbound</td>\n",
              "      <td>942</td>\n",
              "      <td>LADY ZEHMA</td>\n",
              "      <td>9303431</td>\n",
              "      <td>Chornomorsk</td>\n",
              "      <td>Egypt</td>\n",
              "      <td>Corn</td>\n",
              "      <td>19350.0</td>\n",
              "      <td>2023-05-09 23:00:00</td>\n",
              "      <td>NaT</td>\n",
              "      <td>lower-middle income</td>\n",
              "      <td>Panama</td>\n",
              "      <td>Middle East &amp; North Africa</td>\n",
              "      <td>Africa</td>\n",
              "      <td>developing</td>\n",
              "      <td>NaN</td>\n",
              "    </tr>\n",
              "    <tr>\n",
              "      <th>11</th>\n",
              "      <td>Outbound +</td>\n",
              "      <td>942</td>\n",
              "      <td>LADY ZEHMA</td>\n",
              "      <td>9303431</td>\n",
              "      <td>Chornomorsk</td>\n",
              "      <td>Egypt</td>\n",
              "      <td>Wheat</td>\n",
              "      <td>10650.0</td>\n",
              "      <td>2023-05-09 23:00:00</td>\n",
              "      <td>NaT</td>\n",
              "      <td>lower-middle income</td>\n",
              "      <td>Panama</td>\n",
              "      <td>Middle East &amp; North Africa</td>\n",
              "      <td>Africa</td>\n",
              "      <td>developing</td>\n",
              "      <td>NaN</td>\n",
              "    </tr>\n",
              "    <tr>\n",
              "      <th>12</th>\n",
              "      <td>Outbound</td>\n",
              "      <td>941</td>\n",
              "      <td>ENEIDA</td>\n",
              "      <td>9198381</td>\n",
              "      <td>Chornomorsk</td>\n",
              "      <td>Spain</td>\n",
              "      <td>Corn</td>\n",
              "      <td>41646.0</td>\n",
              "      <td>2023-05-09 23:00:00</td>\n",
              "      <td>NaT</td>\n",
              "      <td>high-income</td>\n",
              "      <td>Liberia</td>\n",
              "      <td>Europe &amp; Central Asia</td>\n",
              "      <td>Western Europe and Others</td>\n",
              "      <td>developed</td>\n",
              "      <td>NaN</td>\n",
              "    </tr>\n",
              "    <tr>\n",
              "      <th>13</th>\n",
              "      <td>Outbound</td>\n",
              "      <td>940</td>\n",
              "      <td>MAHA JACQUELINE</td>\n",
              "      <td>9185073</td>\n",
              "      <td>Chornomorsk</td>\n",
              "      <td>Spain</td>\n",
              "      <td>Corn</td>\n",
              "      <td>63500.0</td>\n",
              "      <td>2023-05-08 23:00:00</td>\n",
              "      <td>NaT</td>\n",
              "      <td>high-income</td>\n",
              "      <td>India</td>\n",
              "      <td>Europe &amp; Central Asia</td>\n",
              "      <td>Western Europe and Others</td>\n",
              "      <td>developed</td>\n",
              "      <td>NaN</td>\n",
              "    </tr>\n",
              "    <tr>\n",
              "      <th>16</th>\n",
              "      <td>Outbound</td>\n",
              "      <td>938</td>\n",
              "      <td>MAGNUM POWER</td>\n",
              "      <td>9488968</td>\n",
              "      <td>Odesa</td>\n",
              "      <td>Bangladesh</td>\n",
              "      <td>Wheat</td>\n",
              "      <td>50000.0</td>\n",
              "      <td>2023-05-07 23:00:00</td>\n",
              "      <td>NaT</td>\n",
              "      <td>lower-middle income</td>\n",
              "      <td>Marshall Islands</td>\n",
              "      <td>South Asia</td>\n",
              "      <td>Asia-Pacific</td>\n",
              "      <td>developing</td>\n",
              "      <td>NaN</td>\n",
              "    </tr>\n",
              "    <tr>\n",
              "      <th>17</th>\n",
              "      <td>Outbound</td>\n",
              "      <td>937</td>\n",
              "      <td>LUCKY GLORY</td>\n",
              "      <td>9254111</td>\n",
              "      <td>Odesa</td>\n",
              "      <td>China</td>\n",
              "      <td>Corn</td>\n",
              "      <td>64000.0</td>\n",
              "      <td>2023-05-07 23:00:00</td>\n",
              "      <td>NaT</td>\n",
              "      <td>upper-middle-income</td>\n",
              "      <td>Panama</td>\n",
              "      <td>East Asia &amp; Pacific</td>\n",
              "      <td>Asia-Pacific</td>\n",
              "      <td>developing</td>\n",
              "      <td>NaN</td>\n",
              "    </tr>\n",
              "    <tr>\n",
              "      <th>18</th>\n",
              "      <td>Outbound</td>\n",
              "      <td>936</td>\n",
              "      <td>NEW VENTURE</td>\n",
              "      <td>9597812</td>\n",
              "      <td>Odesa</td>\n",
              "      <td>Spain</td>\n",
              "      <td>Corn</td>\n",
              "      <td>9500.0</td>\n",
              "      <td>2023-05-05 23:00:00</td>\n",
              "      <td>NaT</td>\n",
              "      <td>high-income</td>\n",
              "      <td>Panama</td>\n",
              "      <td>Europe &amp; Central Asia</td>\n",
              "      <td>Western Europe and Others</td>\n",
              "      <td>developed</td>\n",
              "      <td>NaN</td>\n",
              "    </tr>\n",
              "  </tbody>\n",
              "</table>\n",
              "</div>\n",
              "      <button class=\"colab-df-convert\" onclick=\"convertToInteractive('df-515a3bc5-611c-4e91-8620-83db1cbb871e')\"\n",
              "              title=\"Convert this dataframe to an interactive table.\"\n",
              "              style=\"display:none;\">\n",
              "        \n",
              "  <svg xmlns=\"http://www.w3.org/2000/svg\" height=\"24px\"viewBox=\"0 0 24 24\"\n",
              "       width=\"24px\">\n",
              "    <path d=\"M0 0h24v24H0V0z\" fill=\"none\"/>\n",
              "    <path d=\"M18.56 5.44l.94 2.06.94-2.06 2.06-.94-2.06-.94-.94-2.06-.94 2.06-2.06.94zm-11 1L8.5 8.5l.94-2.06 2.06-.94-2.06-.94L8.5 2.5l-.94 2.06-2.06.94zm10 10l.94 2.06.94-2.06 2.06-.94-2.06-.94-.94-2.06-.94 2.06-2.06.94z\"/><path d=\"M17.41 7.96l-1.37-1.37c-.4-.4-.92-.59-1.43-.59-.52 0-1.04.2-1.43.59L10.3 9.45l-7.72 7.72c-.78.78-.78 2.05 0 2.83L4 21.41c.39.39.9.59 1.41.59.51 0 1.02-.2 1.41-.59l7.78-7.78 2.81-2.81c.8-.78.8-2.07 0-2.86zM5.41 20L4 18.59l7.72-7.72 1.47 1.35L5.41 20z\"/>\n",
              "  </svg>\n",
              "      </button>\n",
              "      \n",
              "  <style>\n",
              "    .colab-df-container {\n",
              "      display:flex;\n",
              "      flex-wrap:wrap;\n",
              "      gap: 12px;\n",
              "    }\n",
              "\n",
              "    .colab-df-convert {\n",
              "      background-color: #E8F0FE;\n",
              "      border: none;\n",
              "      border-radius: 50%;\n",
              "      cursor: pointer;\n",
              "      display: none;\n",
              "      fill: #1967D2;\n",
              "      height: 32px;\n",
              "      padding: 0 0 0 0;\n",
              "      width: 32px;\n",
              "    }\n",
              "\n",
              "    .colab-df-convert:hover {\n",
              "      background-color: #E2EBFA;\n",
              "      box-shadow: 0px 1px 2px rgba(60, 64, 67, 0.3), 0px 1px 3px 1px rgba(60, 64, 67, 0.15);\n",
              "      fill: #174EA6;\n",
              "    }\n",
              "\n",
              "    [theme=dark] .colab-df-convert {\n",
              "      background-color: #3B4455;\n",
              "      fill: #D2E3FC;\n",
              "    }\n",
              "\n",
              "    [theme=dark] .colab-df-convert:hover {\n",
              "      background-color: #434B5C;\n",
              "      box-shadow: 0px 1px 3px 1px rgba(0, 0, 0, 0.15);\n",
              "      filter: drop-shadow(0px 1px 2px rgba(0, 0, 0, 0.3));\n",
              "      fill: #FFFFFF;\n",
              "    }\n",
              "  </style>\n",
              "\n",
              "      <script>\n",
              "        const buttonEl =\n",
              "          document.querySelector('#df-515a3bc5-611c-4e91-8620-83db1cbb871e button.colab-df-convert');\n",
              "        buttonEl.style.display =\n",
              "          google.colab.kernel.accessAllowed ? 'block' : 'none';\n",
              "\n",
              "        async function convertToInteractive(key) {\n",
              "          const element = document.querySelector('#df-515a3bc5-611c-4e91-8620-83db1cbb871e');\n",
              "          const dataTable =\n",
              "            await google.colab.kernel.invokeFunction('convertToInteractive',\n",
              "                                                     [key], {});\n",
              "          if (!dataTable) return;\n",
              "\n",
              "          const docLinkHtml = 'Like what you see? Visit the ' +\n",
              "            '<a target=\"_blank\" href=https://colab.research.google.com/notebooks/data_table.ipynb>data table notebook</a>'\n",
              "            + ' to learn more about interactive tables.';\n",
              "          element.innerHTML = '';\n",
              "          dataTable['output_type'] = 'display_data';\n",
              "          await google.colab.output.renderOutput(dataTable, element);\n",
              "          const docLink = document.createElement('div');\n",
              "          docLink.innerHTML = docLinkHtml;\n",
              "          element.appendChild(docLink);\n",
              "        }\n",
              "      </script>\n",
              "    </div>\n",
              "  </div>\n",
              "  "
            ]
          },
          "metadata": {},
          "execution_count": 20
        }
      ]
    },
    {
      "cell_type": "code",
      "source": [
        "df[\"Inspection İstanbul\"].isna().sum()"
      ],
      "metadata": {
        "colab": {
          "base_uri": "https://localhost:8080/"
        },
        "id": "esO1g1lu8gp_",
        "outputId": "3161f24a-4a27-4915-c97e-556ec5489f94"
      },
      "execution_count": 21,
      "outputs": [
        {
          "output_type": "execute_result",
          "data": {
            "text/plain": [
              "17"
            ]
          },
          "metadata": {},
          "execution_count": 21
        }
      ]
    },
    {
      "cell_type": "code",
      "source": [
        "df[df[\"Inspection İstanbul\"].isna()].Departure.dt.date"
      ],
      "metadata": {
        "colab": {
          "base_uri": "https://localhost:8080/"
        },
        "id": "CyQAmlQu7pa5",
        "outputId": "308b3e68-976e-43da-a3ed-28a090c0fc8c"
      },
      "execution_count": 22,
      "outputs": [
        {
          "output_type": "execute_result",
          "data": {
            "text/plain": [
              "0     2023-05-14\n",
              "1     2023-05-13\n",
              "2     2023-05-13\n",
              "3     2023-05-13\n",
              "4     2023-05-11\n",
              "5     2023-05-11\n",
              "6     2023-05-10\n",
              "7     2023-05-10\n",
              "8     2023-05-10\n",
              "9     2023-05-10\n",
              "10    2023-05-09\n",
              "11    2023-05-09\n",
              "12    2023-05-09\n",
              "13    2023-05-08\n",
              "16    2023-05-07\n",
              "17    2023-05-07\n",
              "18    2023-05-05\n",
              "Name: Departure, dtype: object"
            ]
          },
          "metadata": {},
          "execution_count": 22
        }
      ]
    },
    {
      "cell_type": "code",
      "source": [
        "df[df[\"Inspection İstanbul\"].isna()].Departure.dt.date.unique()"
      ],
      "metadata": {
        "colab": {
          "base_uri": "https://localhost:8080/"
        },
        "id": "W4OdjMQ15ccA",
        "outputId": "497c87b4-914d-494c-c740-24876086bf85"
      },
      "execution_count": 23,
      "outputs": [
        {
          "output_type": "execute_result",
          "data": {
            "text/plain": [
              "array([datetime.date(2023, 5, 14), datetime.date(2023, 5, 13),\n",
              "       datetime.date(2023, 5, 11), datetime.date(2023, 5, 10),\n",
              "       datetime.date(2023, 5, 9), datetime.date(2023, 5, 8),\n",
              "       datetime.date(2023, 5, 7), datetime.date(2023, 5, 5)], dtype=object)"
            ]
          },
          "metadata": {},
          "execution_count": 23
        }
      ]
    },
    {
      "cell_type": "code",
      "source": [
        "# This Field Inspection İstanbul is not required and can be dropped \n",
        "# df.drop(columns=\"Inspection İstanbul\", inplace=True)"
      ],
      "metadata": {
        "id": "cVuJLPEu_RZV"
      },
      "execution_count": 24,
      "outputs": []
    },
    {
      "cell_type": "code",
      "source": [
        "df[\"Income group\"].unique()"
      ],
      "metadata": {
        "colab": {
          "base_uri": "https://localhost:8080/"
        },
        "id": "X9zETstcBm49",
        "outputId": "9ca53888-4c7d-4da0-e8ad-a05b96679aae"
      },
      "execution_count": 25,
      "outputs": [
        {
          "output_type": "execute_result",
          "data": {
            "text/plain": [
              "array(['lower-middle income', 'low-income', 'upper-middle-income',\n",
              "       'high-income'], dtype=object)"
            ]
          },
          "metadata": {},
          "execution_count": 25
        }
      ]
    },
    {
      "cell_type": "code",
      "source": [
        "print(df.Flag.nunique())\n",
        "df[\"Flag\"].unique()"
      ],
      "metadata": {
        "colab": {
          "base_uri": "https://localhost:8080/"
        },
        "id": "hZSzCmvABrd6",
        "outputId": "67916ba0-f874-400a-b5fe-534f851aacbf"
      },
      "execution_count": 26,
      "outputs": [
        {
          "output_type": "stream",
          "name": "stdout",
          "text": [
            "45\n"
          ]
        },
        {
          "output_type": "execute_result",
          "data": {
            "text/plain": [
              "array(['Liberia', 'Panama', 'Barbados', 'Belize', 'Palau', 'India',\n",
              "       'Egypt', 'Marshall Islands', 'St. Kitts and Nevis', 'St. Vincent',\n",
              "       'Malta', 'Norway', 'Türkiye', 'Greece', 'Singapore', 'China',\n",
              "       'Hong-Kong', 'Sierra Leone', 'Comoros', 'Bahamas', 'Lebanon',\n",
              "       'Niue', 'Turkey', 'Cook Islands', 'St Vincent', 'Guinea-Bissau',\n",
              "       'Turkiye', 'Hong Kong', 'Togo',\n",
              "       'St. Vincent and the\\xa0Grenadines', 'Cayman Islands', 'Beliza',\n",
              "       'Tuvalu', 'Marshall\\xa0Islands', 'Vanuatu', 'St. Kitts and Navis',\n",
              "       'Ukraine', 'Honduras', 'Portugal', 'Croatia', 'Thailand',\n",
              "       'Tanzania', 'Cameroon', 'Equatorial Guinea', 'Bulgaria', nan],\n",
              "      dtype=object)"
            ]
          },
          "metadata": {},
          "execution_count": 26
        }
      ]
    },
    {
      "cell_type": "code",
      "source": [
        "df[\"World Bank region\"].unique()"
      ],
      "metadata": {
        "colab": {
          "base_uri": "https://localhost:8080/"
        },
        "id": "ST0LyDipC9sr",
        "outputId": "e801a9ba-8f3d-463c-80bb-87ae273827d5"
      },
      "execution_count": 27,
      "outputs": [
        {
          "output_type": "execute_result",
          "data": {
            "text/plain": [
              "array(['Middle East & North Africa', 'Sub-Saharan Africa',\n",
              "       'Europe & Central Asia', 'East Asia & Pacific', 'South Asia'],\n",
              "      dtype=object)"
            ]
          },
          "metadata": {},
          "execution_count": 27
        }
      ]
    },
    {
      "cell_type": "code",
      "source": [
        "df['UN region'].unique()"
      ],
      "metadata": {
        "colab": {
          "base_uri": "https://localhost:8080/"
        },
        "id": "QcfwSb7zDgXC",
        "outputId": "de1630ea-d65e-4c84-ff88-d4d9fb71dd89"
      },
      "execution_count": 28,
      "outputs": [
        {
          "output_type": "execute_result",
          "data": {
            "text/plain": [
              "array(['Africa', 'Asia-Pacific', 'Western Europe and Others',\n",
              "       'Eastern Europe'], dtype=object)"
            ]
          },
          "metadata": {},
          "execution_count": 28
        }
      ]
    },
    {
      "cell_type": "code",
      "source": [
        "df[\"Development category\"].value_counts()"
      ],
      "metadata": {
        "colab": {
          "base_uri": "https://localhost:8080/"
        },
        "id": "eAOevRxaD3_Q",
        "outputId": "be7c7f5e-17fa-4419-d520-a40a351e9efd"
      },
      "execution_count": 29,
      "outputs": [
        {
          "output_type": "execute_result",
          "data": {
            "text/plain": [
              "developing    600\n",
              "developed     483\n",
              "Name: Development category, dtype: int64"
            ]
          },
          "metadata": {},
          "execution_count": 29
        }
      ]
    },
    {
      "cell_type": "code",
      "source": [
        "df.groupby([\"Development category\",\"World Bank region\"])[[\"World Bank region\"]].count()"
      ],
      "metadata": {
        "colab": {
          "base_uri": "https://localhost:8080/",
          "height": 332
        },
        "id": "zZAKLMMlEJ-V",
        "outputId": "bfae4c25-590b-4aaa-9fc7-f559749c4676"
      },
      "execution_count": 30,
      "outputs": [
        {
          "output_type": "execute_result",
          "data": {
            "text/plain": [
              "                                                 World Bank region\n",
              "Development category World Bank region                            \n",
              "developed            East Asia & Pacific                         7\n",
              "                     Europe & Central Asia                     452\n",
              "                     Middle East & North Africa                 24\n",
              "developing           East Asia & Pacific                       150\n",
              "                     Europe & Central Asia                     222\n",
              "                     Middle East & North Africa                163\n",
              "                     South Asia                                 43\n",
              "                     Sub-Saharan Africa                         22"
            ],
            "text/html": [
              "\n",
              "  <div id=\"df-dfea68a6-0c85-460f-ad21-587da1ab0f65\">\n",
              "    <div class=\"colab-df-container\">\n",
              "      <div>\n",
              "<style scoped>\n",
              "    .dataframe tbody tr th:only-of-type {\n",
              "        vertical-align: middle;\n",
              "    }\n",
              "\n",
              "    .dataframe tbody tr th {\n",
              "        vertical-align: top;\n",
              "    }\n",
              "\n",
              "    .dataframe thead th {\n",
              "        text-align: right;\n",
              "    }\n",
              "</style>\n",
              "<table border=\"1\" class=\"dataframe\">\n",
              "  <thead>\n",
              "    <tr style=\"text-align: right;\">\n",
              "      <th></th>\n",
              "      <th></th>\n",
              "      <th>World Bank region</th>\n",
              "    </tr>\n",
              "    <tr>\n",
              "      <th>Development category</th>\n",
              "      <th>World Bank region</th>\n",
              "      <th></th>\n",
              "    </tr>\n",
              "  </thead>\n",
              "  <tbody>\n",
              "    <tr>\n",
              "      <th rowspan=\"3\" valign=\"top\">developed</th>\n",
              "      <th>East Asia &amp; Pacific</th>\n",
              "      <td>7</td>\n",
              "    </tr>\n",
              "    <tr>\n",
              "      <th>Europe &amp; Central Asia</th>\n",
              "      <td>452</td>\n",
              "    </tr>\n",
              "    <tr>\n",
              "      <th>Middle East &amp; North Africa</th>\n",
              "      <td>24</td>\n",
              "    </tr>\n",
              "    <tr>\n",
              "      <th rowspan=\"5\" valign=\"top\">developing</th>\n",
              "      <th>East Asia &amp; Pacific</th>\n",
              "      <td>150</td>\n",
              "    </tr>\n",
              "    <tr>\n",
              "      <th>Europe &amp; Central Asia</th>\n",
              "      <td>222</td>\n",
              "    </tr>\n",
              "    <tr>\n",
              "      <th>Middle East &amp; North Africa</th>\n",
              "      <td>163</td>\n",
              "    </tr>\n",
              "    <tr>\n",
              "      <th>South Asia</th>\n",
              "      <td>43</td>\n",
              "    </tr>\n",
              "    <tr>\n",
              "      <th>Sub-Saharan Africa</th>\n",
              "      <td>22</td>\n",
              "    </tr>\n",
              "  </tbody>\n",
              "</table>\n",
              "</div>\n",
              "      <button class=\"colab-df-convert\" onclick=\"convertToInteractive('df-dfea68a6-0c85-460f-ad21-587da1ab0f65')\"\n",
              "              title=\"Convert this dataframe to an interactive table.\"\n",
              "              style=\"display:none;\">\n",
              "        \n",
              "  <svg xmlns=\"http://www.w3.org/2000/svg\" height=\"24px\"viewBox=\"0 0 24 24\"\n",
              "       width=\"24px\">\n",
              "    <path d=\"M0 0h24v24H0V0z\" fill=\"none\"/>\n",
              "    <path d=\"M18.56 5.44l.94 2.06.94-2.06 2.06-.94-2.06-.94-.94-2.06-.94 2.06-2.06.94zm-11 1L8.5 8.5l.94-2.06 2.06-.94-2.06-.94L8.5 2.5l-.94 2.06-2.06.94zm10 10l.94 2.06.94-2.06 2.06-.94-2.06-.94-.94-2.06-.94 2.06-2.06.94z\"/><path d=\"M17.41 7.96l-1.37-1.37c-.4-.4-.92-.59-1.43-.59-.52 0-1.04.2-1.43.59L10.3 9.45l-7.72 7.72c-.78.78-.78 2.05 0 2.83L4 21.41c.39.39.9.59 1.41.59.51 0 1.02-.2 1.41-.59l7.78-7.78 2.81-2.81c.8-.78.8-2.07 0-2.86zM5.41 20L4 18.59l7.72-7.72 1.47 1.35L5.41 20z\"/>\n",
              "  </svg>\n",
              "      </button>\n",
              "      \n",
              "  <style>\n",
              "    .colab-df-container {\n",
              "      display:flex;\n",
              "      flex-wrap:wrap;\n",
              "      gap: 12px;\n",
              "    }\n",
              "\n",
              "    .colab-df-convert {\n",
              "      background-color: #E8F0FE;\n",
              "      border: none;\n",
              "      border-radius: 50%;\n",
              "      cursor: pointer;\n",
              "      display: none;\n",
              "      fill: #1967D2;\n",
              "      height: 32px;\n",
              "      padding: 0 0 0 0;\n",
              "      width: 32px;\n",
              "    }\n",
              "\n",
              "    .colab-df-convert:hover {\n",
              "      background-color: #E2EBFA;\n",
              "      box-shadow: 0px 1px 2px rgba(60, 64, 67, 0.3), 0px 1px 3px 1px rgba(60, 64, 67, 0.15);\n",
              "      fill: #174EA6;\n",
              "    }\n",
              "\n",
              "    [theme=dark] .colab-df-convert {\n",
              "      background-color: #3B4455;\n",
              "      fill: #D2E3FC;\n",
              "    }\n",
              "\n",
              "    [theme=dark] .colab-df-convert:hover {\n",
              "      background-color: #434B5C;\n",
              "      box-shadow: 0px 1px 3px 1px rgba(0, 0, 0, 0.15);\n",
              "      filter: drop-shadow(0px 1px 2px rgba(0, 0, 0, 0.3));\n",
              "      fill: #FFFFFF;\n",
              "    }\n",
              "  </style>\n",
              "\n",
              "      <script>\n",
              "        const buttonEl =\n",
              "          document.querySelector('#df-dfea68a6-0c85-460f-ad21-587da1ab0f65 button.colab-df-convert');\n",
              "        buttonEl.style.display =\n",
              "          google.colab.kernel.accessAllowed ? 'block' : 'none';\n",
              "\n",
              "        async function convertToInteractive(key) {\n",
              "          const element = document.querySelector('#df-dfea68a6-0c85-460f-ad21-587da1ab0f65');\n",
              "          const dataTable =\n",
              "            await google.colab.kernel.invokeFunction('convertToInteractive',\n",
              "                                                     [key], {});\n",
              "          if (!dataTable) return;\n",
              "\n",
              "          const docLinkHtml = 'Like what you see? Visit the ' +\n",
              "            '<a target=\"_blank\" href=https://colab.research.google.com/notebooks/data_table.ipynb>data table notebook</a>'\n",
              "            + ' to learn more about interactive tables.';\n",
              "          element.innerHTML = '';\n",
              "          dataTable['output_type'] = 'display_data';\n",
              "          await google.colab.output.renderOutput(dataTable, element);\n",
              "          const docLink = document.createElement('div');\n",
              "          docLink.innerHTML = docLinkHtml;\n",
              "          element.appendChild(docLink);\n",
              "        }\n",
              "      </script>\n",
              "    </div>\n",
              "  </div>\n",
              "  "
            ]
          },
          "metadata": {},
          "execution_count": 30
        }
      ]
    },
    {
      "cell_type": "code",
      "source": [
        "df['WFP'].value_counts()"
      ],
      "metadata": {
        "colab": {
          "base_uri": "https://localhost:8080/"
        },
        "id": "puJoWQcxmrz8",
        "outputId": "d3db33e0-c1a1-4c2b-9711-89962aa8ea78"
      },
      "execution_count": 31,
      "outputs": [
        {
          "output_type": "execute_result",
          "data": {
            "text/plain": [
              "WFP    26\n",
              "Name: WFP, dtype: int64"
            ]
          },
          "metadata": {},
          "execution_count": 31
        }
      ]
    },
    {
      "cell_type": "markdown",
      "source": [
        "#### **2. How many tons of each commodity (rows) have left each port (columns)**"
      ],
      "metadata": {
        "id": "gY8c_vBOAQ0K"
      }
    },
    {
      "cell_type": "code",
      "source": [
        "# Include only grains \n",
        "col_grains = [\"Corn\",\"Wheat\", \"Barley\"]\n",
        "df_ = df.loc[df[\"Commodity\"].isin(col_grains)]\n",
        "df_.head()"
      ],
      "metadata": {
        "colab": {
          "base_uri": "https://localhost:8080/",
          "height": 531
        },
        "id": "iy-uSk_27ydC",
        "outputId": "def262d6-23c3-4b80-e60d-7e685b7e6d15"
      },
      "execution_count": 32,
      "outputs": [
        {
          "output_type": "execute_result",
          "data": {
            "text/plain": [
              "     Status  Outbound Sequence    Vessel name      IMO    Departure port  \\\n",
              "1  Outbound                949  MASTRO MITROS  9228071             Odesa   \n",
              "3  Outbound                948  DENIZ M (WFP)  9450703             Odesa   \n",
              "4  Outbound                947   PACIFIC ROSE  9299460       Chornomorsk   \n",
              "5  Outbound                946    NAVIOS HOPE  9328558             Odesa   \n",
              "6  Outbound                945     QUEEN LILA  9303376  Yuzhny/Pivdennyi   \n",
              "\n",
              "   Country Commodity  Tonnage           Departure Inspection İstanbul  \\\n",
              "1    Egypt      Corn  32611.0 2023-05-13 23:00:00                 NaT   \n",
              "3    Sudan     Wheat  30000.0 2023-05-13 23:00:00                 NaT   \n",
              "4  Türkiye     Wheat  26250.0 2023-05-11 23:00:00                 NaT   \n",
              "5    China    Barley  62000.0 2023-05-11 23:00:00                 NaT   \n",
              "6    Egypt      Corn  30450.0 2023-05-10 23:00:00                 NaT   \n",
              "\n",
              "          Income group      Flag           World Bank region     UN region  \\\n",
              "1  lower-middle income   Liberia  Middle East & North Africa        Africa   \n",
              "3           low-income    Panama          Sub-Saharan Africa        Africa   \n",
              "4  upper-middle-income  Barbados       Europe & Central Asia  Asia-Pacific   \n",
              "5  upper-middle-income    Panama         East Asia & Pacific  Asia-Pacific   \n",
              "6  lower-middle income    Belize  Middle East & North Africa        Africa   \n",
              "\n",
              "  Development category  WFP  \n",
              "1           developing  NaN  \n",
              "3           developing  WFP  \n",
              "4           developing  NaN  \n",
              "5           developing  NaN  \n",
              "6           developing  NaN  "
            ],
            "text/html": [
              "\n",
              "  <div id=\"df-854486a8-1e8b-418b-8c47-1f19d81b8991\">\n",
              "    <div class=\"colab-df-container\">\n",
              "      <div>\n",
              "<style scoped>\n",
              "    .dataframe tbody tr th:only-of-type {\n",
              "        vertical-align: middle;\n",
              "    }\n",
              "\n",
              "    .dataframe tbody tr th {\n",
              "        vertical-align: top;\n",
              "    }\n",
              "\n",
              "    .dataframe thead th {\n",
              "        text-align: right;\n",
              "    }\n",
              "</style>\n",
              "<table border=\"1\" class=\"dataframe\">\n",
              "  <thead>\n",
              "    <tr style=\"text-align: right;\">\n",
              "      <th></th>\n",
              "      <th>Status</th>\n",
              "      <th>Outbound Sequence</th>\n",
              "      <th>Vessel name</th>\n",
              "      <th>IMO</th>\n",
              "      <th>Departure port</th>\n",
              "      <th>Country</th>\n",
              "      <th>Commodity</th>\n",
              "      <th>Tonnage</th>\n",
              "      <th>Departure</th>\n",
              "      <th>Inspection İstanbul</th>\n",
              "      <th>Income group</th>\n",
              "      <th>Flag</th>\n",
              "      <th>World Bank region</th>\n",
              "      <th>UN region</th>\n",
              "      <th>Development category</th>\n",
              "      <th>WFP</th>\n",
              "    </tr>\n",
              "  </thead>\n",
              "  <tbody>\n",
              "    <tr>\n",
              "      <th>1</th>\n",
              "      <td>Outbound</td>\n",
              "      <td>949</td>\n",
              "      <td>MASTRO MITROS</td>\n",
              "      <td>9228071</td>\n",
              "      <td>Odesa</td>\n",
              "      <td>Egypt</td>\n",
              "      <td>Corn</td>\n",
              "      <td>32611.0</td>\n",
              "      <td>2023-05-13 23:00:00</td>\n",
              "      <td>NaT</td>\n",
              "      <td>lower-middle income</td>\n",
              "      <td>Liberia</td>\n",
              "      <td>Middle East &amp; North Africa</td>\n",
              "      <td>Africa</td>\n",
              "      <td>developing</td>\n",
              "      <td>NaN</td>\n",
              "    </tr>\n",
              "    <tr>\n",
              "      <th>3</th>\n",
              "      <td>Outbound</td>\n",
              "      <td>948</td>\n",
              "      <td>DENIZ M (WFP)</td>\n",
              "      <td>9450703</td>\n",
              "      <td>Odesa</td>\n",
              "      <td>Sudan</td>\n",
              "      <td>Wheat</td>\n",
              "      <td>30000.0</td>\n",
              "      <td>2023-05-13 23:00:00</td>\n",
              "      <td>NaT</td>\n",
              "      <td>low-income</td>\n",
              "      <td>Panama</td>\n",
              "      <td>Sub-Saharan Africa</td>\n",
              "      <td>Africa</td>\n",
              "      <td>developing</td>\n",
              "      <td>WFP</td>\n",
              "    </tr>\n",
              "    <tr>\n",
              "      <th>4</th>\n",
              "      <td>Outbound</td>\n",
              "      <td>947</td>\n",
              "      <td>PACIFIC ROSE</td>\n",
              "      <td>9299460</td>\n",
              "      <td>Chornomorsk</td>\n",
              "      <td>Türkiye</td>\n",
              "      <td>Wheat</td>\n",
              "      <td>26250.0</td>\n",
              "      <td>2023-05-11 23:00:00</td>\n",
              "      <td>NaT</td>\n",
              "      <td>upper-middle-income</td>\n",
              "      <td>Barbados</td>\n",
              "      <td>Europe &amp; Central Asia</td>\n",
              "      <td>Asia-Pacific</td>\n",
              "      <td>developing</td>\n",
              "      <td>NaN</td>\n",
              "    </tr>\n",
              "    <tr>\n",
              "      <th>5</th>\n",
              "      <td>Outbound</td>\n",
              "      <td>946</td>\n",
              "      <td>NAVIOS HOPE</td>\n",
              "      <td>9328558</td>\n",
              "      <td>Odesa</td>\n",
              "      <td>China</td>\n",
              "      <td>Barley</td>\n",
              "      <td>62000.0</td>\n",
              "      <td>2023-05-11 23:00:00</td>\n",
              "      <td>NaT</td>\n",
              "      <td>upper-middle-income</td>\n",
              "      <td>Panama</td>\n",
              "      <td>East Asia &amp; Pacific</td>\n",
              "      <td>Asia-Pacific</td>\n",
              "      <td>developing</td>\n",
              "      <td>NaN</td>\n",
              "    </tr>\n",
              "    <tr>\n",
              "      <th>6</th>\n",
              "      <td>Outbound</td>\n",
              "      <td>945</td>\n",
              "      <td>QUEEN LILA</td>\n",
              "      <td>9303376</td>\n",
              "      <td>Yuzhny/Pivdennyi</td>\n",
              "      <td>Egypt</td>\n",
              "      <td>Corn</td>\n",
              "      <td>30450.0</td>\n",
              "      <td>2023-05-10 23:00:00</td>\n",
              "      <td>NaT</td>\n",
              "      <td>lower-middle income</td>\n",
              "      <td>Belize</td>\n",
              "      <td>Middle East &amp; North Africa</td>\n",
              "      <td>Africa</td>\n",
              "      <td>developing</td>\n",
              "      <td>NaN</td>\n",
              "    </tr>\n",
              "  </tbody>\n",
              "</table>\n",
              "</div>\n",
              "      <button class=\"colab-df-convert\" onclick=\"convertToInteractive('df-854486a8-1e8b-418b-8c47-1f19d81b8991')\"\n",
              "              title=\"Convert this dataframe to an interactive table.\"\n",
              "              style=\"display:none;\">\n",
              "        \n",
              "  <svg xmlns=\"http://www.w3.org/2000/svg\" height=\"24px\"viewBox=\"0 0 24 24\"\n",
              "       width=\"24px\">\n",
              "    <path d=\"M0 0h24v24H0V0z\" fill=\"none\"/>\n",
              "    <path d=\"M18.56 5.44l.94 2.06.94-2.06 2.06-.94-2.06-.94-.94-2.06-.94 2.06-2.06.94zm-11 1L8.5 8.5l.94-2.06 2.06-.94-2.06-.94L8.5 2.5l-.94 2.06-2.06.94zm10 10l.94 2.06.94-2.06 2.06-.94-2.06-.94-.94-2.06-.94 2.06-2.06.94z\"/><path d=\"M17.41 7.96l-1.37-1.37c-.4-.4-.92-.59-1.43-.59-.52 0-1.04.2-1.43.59L10.3 9.45l-7.72 7.72c-.78.78-.78 2.05 0 2.83L4 21.41c.39.39.9.59 1.41.59.51 0 1.02-.2 1.41-.59l7.78-7.78 2.81-2.81c.8-.78.8-2.07 0-2.86zM5.41 20L4 18.59l7.72-7.72 1.47 1.35L5.41 20z\"/>\n",
              "  </svg>\n",
              "      </button>\n",
              "      \n",
              "  <style>\n",
              "    .colab-df-container {\n",
              "      display:flex;\n",
              "      flex-wrap:wrap;\n",
              "      gap: 12px;\n",
              "    }\n",
              "\n",
              "    .colab-df-convert {\n",
              "      background-color: #E8F0FE;\n",
              "      border: none;\n",
              "      border-radius: 50%;\n",
              "      cursor: pointer;\n",
              "      display: none;\n",
              "      fill: #1967D2;\n",
              "      height: 32px;\n",
              "      padding: 0 0 0 0;\n",
              "      width: 32px;\n",
              "    }\n",
              "\n",
              "    .colab-df-convert:hover {\n",
              "      background-color: #E2EBFA;\n",
              "      box-shadow: 0px 1px 2px rgba(60, 64, 67, 0.3), 0px 1px 3px 1px rgba(60, 64, 67, 0.15);\n",
              "      fill: #174EA6;\n",
              "    }\n",
              "\n",
              "    [theme=dark] .colab-df-convert {\n",
              "      background-color: #3B4455;\n",
              "      fill: #D2E3FC;\n",
              "    }\n",
              "\n",
              "    [theme=dark] .colab-df-convert:hover {\n",
              "      background-color: #434B5C;\n",
              "      box-shadow: 0px 1px 3px 1px rgba(0, 0, 0, 0.15);\n",
              "      filter: drop-shadow(0px 1px 2px rgba(0, 0, 0, 0.3));\n",
              "      fill: #FFFFFF;\n",
              "    }\n",
              "  </style>\n",
              "\n",
              "      <script>\n",
              "        const buttonEl =\n",
              "          document.querySelector('#df-854486a8-1e8b-418b-8c47-1f19d81b8991 button.colab-df-convert');\n",
              "        buttonEl.style.display =\n",
              "          google.colab.kernel.accessAllowed ? 'block' : 'none';\n",
              "\n",
              "        async function convertToInteractive(key) {\n",
              "          const element = document.querySelector('#df-854486a8-1e8b-418b-8c47-1f19d81b8991');\n",
              "          const dataTable =\n",
              "            await google.colab.kernel.invokeFunction('convertToInteractive',\n",
              "                                                     [key], {});\n",
              "          if (!dataTable) return;\n",
              "\n",
              "          const docLinkHtml = 'Like what you see? Visit the ' +\n",
              "            '<a target=\"_blank\" href=https://colab.research.google.com/notebooks/data_table.ipynb>data table notebook</a>'\n",
              "            + ' to learn more about interactive tables.';\n",
              "          element.innerHTML = '';\n",
              "          dataTable['output_type'] = 'display_data';\n",
              "          await google.colab.output.renderOutput(dataTable, element);\n",
              "          const docLink = document.createElement('div');\n",
              "          docLink.innerHTML = docLinkHtml;\n",
              "          element.appendChild(docLink);\n",
              "        }\n",
              "      </script>\n",
              "    </div>\n",
              "  </div>\n",
              "  "
            ]
          },
          "metadata": {},
          "execution_count": 32
        }
      ]
    },
    {
      "cell_type": "code",
      "source": [
        "# Check number of unique items\n",
        "df[[\"Commodity\"]].value_counts()"
      ],
      "metadata": {
        "colab": {
          "base_uri": "https://localhost:8080/"
        },
        "id": "Qd7CJW73Ahoa",
        "outputId": "e6494a9f-37c1-40ae-ba6e-ce97a8a9c874"
      },
      "execution_count": 33,
      "outputs": [
        {
          "output_type": "execute_result",
          "data": {
            "text/plain": [
              "Commodity         \n",
              "Corn                  411\n",
              "Wheat                 299\n",
              "Sunflower oil         108\n",
              "Sunflower meal         68\n",
              "Barley                 64\n",
              "Soya beans             58\n",
              "Rapeseed               29\n",
              "Sunflower seed         21\n",
              "Peas                   10\n",
              "Rapeseed meal           3\n",
              "Canola                  3\n",
              "Soya oil                2\n",
              "Sunflower pellets       2\n",
              "Vegetable oil           1\n",
              "Sugar beet pellets      1\n",
              "Sunflower meal          1\n",
              "Mixed                   1\n",
              "Wheat bran pellets      1\n",
              "dtype: int64"
            ]
          },
          "metadata": {},
          "execution_count": 33
        }
      ]
    },
    {
      "cell_type": "code",
      "source": [
        "# Create a pivot table, showing how many tons of each commodity (rows) have left each port (columns)\n",
        "\n",
        "df_depart = pd.pivot_table(df_,values = \"Tonnage\",columns=[\"Departure port\", \"Commodity\"], aggfunc=\"sum\").stack()\n",
        "df_depart"
      ],
      "metadata": {
        "colab": {
          "base_uri": "https://localhost:8080/",
          "height": 175
        },
        "id": "N1Pe8aBuBFKb",
        "outputId": "05b1abd4-3d95-482d-b617-6d45aa8a26c4"
      },
      "execution_count": 34,
      "outputs": [
        {
          "output_type": "execute_result",
          "data": {
            "text/plain": [
              "Departure port     Chornomorsk      Odesa  Yuzhny/Pivdennyi\n",
              "        Commodity                                          \n",
              "Tonnage Barley       280891.00   598704.0         369203.36\n",
              "        Corn        5495186.99  4040554.0        5632759.00\n",
              "        Wheat       2756269.00  3159459.0        2430923.00"
            ],
            "text/html": [
              "\n",
              "  <div id=\"df-7ccc5675-1efe-491b-9c4b-ca2a58d8c2ad\">\n",
              "    <div class=\"colab-df-container\">\n",
              "      <div>\n",
              "<style scoped>\n",
              "    .dataframe tbody tr th:only-of-type {\n",
              "        vertical-align: middle;\n",
              "    }\n",
              "\n",
              "    .dataframe tbody tr th {\n",
              "        vertical-align: top;\n",
              "    }\n",
              "\n",
              "    .dataframe thead th {\n",
              "        text-align: right;\n",
              "    }\n",
              "</style>\n",
              "<table border=\"1\" class=\"dataframe\">\n",
              "  <thead>\n",
              "    <tr style=\"text-align: right;\">\n",
              "      <th></th>\n",
              "      <th>Departure port</th>\n",
              "      <th>Chornomorsk</th>\n",
              "      <th>Odesa</th>\n",
              "      <th>Yuzhny/Pivdennyi</th>\n",
              "    </tr>\n",
              "    <tr>\n",
              "      <th></th>\n",
              "      <th>Commodity</th>\n",
              "      <th></th>\n",
              "      <th></th>\n",
              "      <th></th>\n",
              "    </tr>\n",
              "  </thead>\n",
              "  <tbody>\n",
              "    <tr>\n",
              "      <th rowspan=\"3\" valign=\"top\">Tonnage</th>\n",
              "      <th>Barley</th>\n",
              "      <td>280891.00</td>\n",
              "      <td>598704.0</td>\n",
              "      <td>369203.36</td>\n",
              "    </tr>\n",
              "    <tr>\n",
              "      <th>Corn</th>\n",
              "      <td>5495186.99</td>\n",
              "      <td>4040554.0</td>\n",
              "      <td>5632759.00</td>\n",
              "    </tr>\n",
              "    <tr>\n",
              "      <th>Wheat</th>\n",
              "      <td>2756269.00</td>\n",
              "      <td>3159459.0</td>\n",
              "      <td>2430923.00</td>\n",
              "    </tr>\n",
              "  </tbody>\n",
              "</table>\n",
              "</div>\n",
              "      <button class=\"colab-df-convert\" onclick=\"convertToInteractive('df-7ccc5675-1efe-491b-9c4b-ca2a58d8c2ad')\"\n",
              "              title=\"Convert this dataframe to an interactive table.\"\n",
              "              style=\"display:none;\">\n",
              "        \n",
              "  <svg xmlns=\"http://www.w3.org/2000/svg\" height=\"24px\"viewBox=\"0 0 24 24\"\n",
              "       width=\"24px\">\n",
              "    <path d=\"M0 0h24v24H0V0z\" fill=\"none\"/>\n",
              "    <path d=\"M18.56 5.44l.94 2.06.94-2.06 2.06-.94-2.06-.94-.94-2.06-.94 2.06-2.06.94zm-11 1L8.5 8.5l.94-2.06 2.06-.94-2.06-.94L8.5 2.5l-.94 2.06-2.06.94zm10 10l.94 2.06.94-2.06 2.06-.94-2.06-.94-.94-2.06-.94 2.06-2.06.94z\"/><path d=\"M17.41 7.96l-1.37-1.37c-.4-.4-.92-.59-1.43-.59-.52 0-1.04.2-1.43.59L10.3 9.45l-7.72 7.72c-.78.78-.78 2.05 0 2.83L4 21.41c.39.39.9.59 1.41.59.51 0 1.02-.2 1.41-.59l7.78-7.78 2.81-2.81c.8-.78.8-2.07 0-2.86zM5.41 20L4 18.59l7.72-7.72 1.47 1.35L5.41 20z\"/>\n",
              "  </svg>\n",
              "      </button>\n",
              "      \n",
              "  <style>\n",
              "    .colab-df-container {\n",
              "      display:flex;\n",
              "      flex-wrap:wrap;\n",
              "      gap: 12px;\n",
              "    }\n",
              "\n",
              "    .colab-df-convert {\n",
              "      background-color: #E8F0FE;\n",
              "      border: none;\n",
              "      border-radius: 50%;\n",
              "      cursor: pointer;\n",
              "      display: none;\n",
              "      fill: #1967D2;\n",
              "      height: 32px;\n",
              "      padding: 0 0 0 0;\n",
              "      width: 32px;\n",
              "    }\n",
              "\n",
              "    .colab-df-convert:hover {\n",
              "      background-color: #E2EBFA;\n",
              "      box-shadow: 0px 1px 2px rgba(60, 64, 67, 0.3), 0px 1px 3px 1px rgba(60, 64, 67, 0.15);\n",
              "      fill: #174EA6;\n",
              "    }\n",
              "\n",
              "    [theme=dark] .colab-df-convert {\n",
              "      background-color: #3B4455;\n",
              "      fill: #D2E3FC;\n",
              "    }\n",
              "\n",
              "    [theme=dark] .colab-df-convert:hover {\n",
              "      background-color: #434B5C;\n",
              "      box-shadow: 0px 1px 3px 1px rgba(0, 0, 0, 0.15);\n",
              "      filter: drop-shadow(0px 1px 2px rgba(0, 0, 0, 0.3));\n",
              "      fill: #FFFFFF;\n",
              "    }\n",
              "  </style>\n",
              "\n",
              "      <script>\n",
              "        const buttonEl =\n",
              "          document.querySelector('#df-7ccc5675-1efe-491b-9c4b-ca2a58d8c2ad button.colab-df-convert');\n",
              "        buttonEl.style.display =\n",
              "          google.colab.kernel.accessAllowed ? 'block' : 'none';\n",
              "\n",
              "        async function convertToInteractive(key) {\n",
              "          const element = document.querySelector('#df-7ccc5675-1efe-491b-9c4b-ca2a58d8c2ad');\n",
              "          const dataTable =\n",
              "            await google.colab.kernel.invokeFunction('convertToInteractive',\n",
              "                                                     [key], {});\n",
              "          if (!dataTable) return;\n",
              "\n",
              "          const docLinkHtml = 'Like what you see? Visit the ' +\n",
              "            '<a target=\"_blank\" href=https://colab.research.google.com/notebooks/data_table.ipynb>data table notebook</a>'\n",
              "            + ' to learn more about interactive tables.';\n",
              "          element.innerHTML = '';\n",
              "          dataTable['output_type'] = 'display_data';\n",
              "          await google.colab.output.renderOutput(dataTable, element);\n",
              "          const docLink = document.createElement('div');\n",
              "          docLink.innerHTML = docLinkHtml;\n",
              "          element.appendChild(docLink);\n",
              "        }\n",
              "      </script>\n",
              "    </div>\n",
              "  </div>\n",
              "  "
            ]
          },
          "metadata": {},
          "execution_count": 34
        }
      ]
    },
    {
      "cell_type": "markdown",
      "source": [
        "#### **3. How many tons of each commodity (columns) were going to each destination country (rows)**"
      ],
      "metadata": {
        "id": "zD2TGDxkRyIF"
      }
    },
    {
      "cell_type": "code",
      "source": [
        "df_depart_port = pd.pivot_table(df_,values = \"Tonnage\" , columns=[\"Country\", \"Commodity\"],aggfunc=\"sum\").stack()\n",
        "df_depart_port"
      ],
      "metadata": {
        "colab": {
          "base_uri": "https://localhost:8080/",
          "height": 303
        },
        "id": "GvrKm2lKBpc6",
        "outputId": "a4a5eb7c-3988-45e0-d270-b13bc685c677"
      },
      "execution_count": 37,
      "outputs": [
        {
          "output_type": "execute_result",
          "data": {
            "text/plain": [
              "Country            Afghanistan   Algeria  Bangladesh   Belgium      China  \\\n",
              "        Commodity                                                           \n",
              "Tonnage Barley             NaN       NaN         NaN       NaN   320515.0   \n",
              "        Corn               NaN       NaN         NaN  220483.0  5011810.0   \n",
              "        Wheat         130869.0  212220.0    980692.0   33000.0        NaN   \n",
              "\n",
              "Country            Djibouti     Egypt  Ethiopia   Germany   Greece  ...  \\\n",
              "        Commodity                                                   ...   \n",
              "Tonnage Barley          NaN       NaN       NaN       NaN  18076.0  ...   \n",
              "        Corn            NaN  948040.0       NaN  252394.0  46346.0  ...   \n",
              "        Wheat         541.0  291849.0  262759.0       NaN  57706.0  ...   \n",
              "\n",
              "Country            Sri Lanka    Sudan  Thailand  The Netherlands   Tunisia  \\\n",
              "        Commodity                                                            \n",
              "Tonnage Barley           NaN      NaN       NaN              NaN   99300.0   \n",
              "        Corn             NaN      NaN       NaN        1200076.0  356598.0   \n",
              "        Wheat       103768.0  95340.0   68250.0          56722.0  222150.0   \n",
              "\n",
              "Country               Türkiye  United Arab Emirates  United Kingdom  Viet Nam  \\\n",
              "        Commodity                                                               \n",
              "Tonnage Barley      256237.00                   NaN             NaN       NaN   \n",
              "        Corn        765547.99                   NaN         32988.0       NaN   \n",
              "        Wheat      1444107.00               52800.0             NaN  168789.0   \n",
              "\n",
              "Country               Yemen  \n",
              "        Commodity            \n",
              "Tonnage Barley          NaN  \n",
              "        Corn            NaN  \n",
              "        Wheat      259618.0  \n",
              "\n",
              "[3 rows x 37 columns]"
            ],
            "text/html": [
              "\n",
              "  <div id=\"df-8ff76683-5f4d-47b7-a531-23fb7dae3d06\">\n",
              "    <div class=\"colab-df-container\">\n",
              "      <div>\n",
              "<style scoped>\n",
              "    .dataframe tbody tr th:only-of-type {\n",
              "        vertical-align: middle;\n",
              "    }\n",
              "\n",
              "    .dataframe tbody tr th {\n",
              "        vertical-align: top;\n",
              "    }\n",
              "\n",
              "    .dataframe thead th {\n",
              "        text-align: right;\n",
              "    }\n",
              "</style>\n",
              "<table border=\"1\" class=\"dataframe\">\n",
              "  <thead>\n",
              "    <tr style=\"text-align: right;\">\n",
              "      <th></th>\n",
              "      <th>Country</th>\n",
              "      <th>Afghanistan</th>\n",
              "      <th>Algeria</th>\n",
              "      <th>Bangladesh</th>\n",
              "      <th>Belgium</th>\n",
              "      <th>China</th>\n",
              "      <th>Djibouti</th>\n",
              "      <th>Egypt</th>\n",
              "      <th>Ethiopia</th>\n",
              "      <th>Germany</th>\n",
              "      <th>Greece</th>\n",
              "      <th>...</th>\n",
              "      <th>Sri Lanka</th>\n",
              "      <th>Sudan</th>\n",
              "      <th>Thailand</th>\n",
              "      <th>The Netherlands</th>\n",
              "      <th>Tunisia</th>\n",
              "      <th>Türkiye</th>\n",
              "      <th>United Arab Emirates</th>\n",
              "      <th>United Kingdom</th>\n",
              "      <th>Viet Nam</th>\n",
              "      <th>Yemen</th>\n",
              "    </tr>\n",
              "    <tr>\n",
              "      <th></th>\n",
              "      <th>Commodity</th>\n",
              "      <th></th>\n",
              "      <th></th>\n",
              "      <th></th>\n",
              "      <th></th>\n",
              "      <th></th>\n",
              "      <th></th>\n",
              "      <th></th>\n",
              "      <th></th>\n",
              "      <th></th>\n",
              "      <th></th>\n",
              "      <th></th>\n",
              "      <th></th>\n",
              "      <th></th>\n",
              "      <th></th>\n",
              "      <th></th>\n",
              "      <th></th>\n",
              "      <th></th>\n",
              "      <th></th>\n",
              "      <th></th>\n",
              "      <th></th>\n",
              "      <th></th>\n",
              "    </tr>\n",
              "  </thead>\n",
              "  <tbody>\n",
              "    <tr>\n",
              "      <th rowspan=\"3\" valign=\"top\">Tonnage</th>\n",
              "      <th>Barley</th>\n",
              "      <td>NaN</td>\n",
              "      <td>NaN</td>\n",
              "      <td>NaN</td>\n",
              "      <td>NaN</td>\n",
              "      <td>320515.0</td>\n",
              "      <td>NaN</td>\n",
              "      <td>NaN</td>\n",
              "      <td>NaN</td>\n",
              "      <td>NaN</td>\n",
              "      <td>18076.0</td>\n",
              "      <td>...</td>\n",
              "      <td>NaN</td>\n",
              "      <td>NaN</td>\n",
              "      <td>NaN</td>\n",
              "      <td>NaN</td>\n",
              "      <td>99300.0</td>\n",
              "      <td>256237.00</td>\n",
              "      <td>NaN</td>\n",
              "      <td>NaN</td>\n",
              "      <td>NaN</td>\n",
              "      <td>NaN</td>\n",
              "    </tr>\n",
              "    <tr>\n",
              "      <th>Corn</th>\n",
              "      <td>NaN</td>\n",
              "      <td>NaN</td>\n",
              "      <td>NaN</td>\n",
              "      <td>220483.0</td>\n",
              "      <td>5011810.0</td>\n",
              "      <td>NaN</td>\n",
              "      <td>948040.0</td>\n",
              "      <td>NaN</td>\n",
              "      <td>252394.0</td>\n",
              "      <td>46346.0</td>\n",
              "      <td>...</td>\n",
              "      <td>NaN</td>\n",
              "      <td>NaN</td>\n",
              "      <td>NaN</td>\n",
              "      <td>1200076.0</td>\n",
              "      <td>356598.0</td>\n",
              "      <td>765547.99</td>\n",
              "      <td>NaN</td>\n",
              "      <td>32988.0</td>\n",
              "      <td>NaN</td>\n",
              "      <td>NaN</td>\n",
              "    </tr>\n",
              "    <tr>\n",
              "      <th>Wheat</th>\n",
              "      <td>130869.0</td>\n",
              "      <td>212220.0</td>\n",
              "      <td>980692.0</td>\n",
              "      <td>33000.0</td>\n",
              "      <td>NaN</td>\n",
              "      <td>541.0</td>\n",
              "      <td>291849.0</td>\n",
              "      <td>262759.0</td>\n",
              "      <td>NaN</td>\n",
              "      <td>57706.0</td>\n",
              "      <td>...</td>\n",
              "      <td>103768.0</td>\n",
              "      <td>95340.0</td>\n",
              "      <td>68250.0</td>\n",
              "      <td>56722.0</td>\n",
              "      <td>222150.0</td>\n",
              "      <td>1444107.00</td>\n",
              "      <td>52800.0</td>\n",
              "      <td>NaN</td>\n",
              "      <td>168789.0</td>\n",
              "      <td>259618.0</td>\n",
              "    </tr>\n",
              "  </tbody>\n",
              "</table>\n",
              "<p>3 rows × 37 columns</p>\n",
              "</div>\n",
              "      <button class=\"colab-df-convert\" onclick=\"convertToInteractive('df-8ff76683-5f4d-47b7-a531-23fb7dae3d06')\"\n",
              "              title=\"Convert this dataframe to an interactive table.\"\n",
              "              style=\"display:none;\">\n",
              "        \n",
              "  <svg xmlns=\"http://www.w3.org/2000/svg\" height=\"24px\"viewBox=\"0 0 24 24\"\n",
              "       width=\"24px\">\n",
              "    <path d=\"M0 0h24v24H0V0z\" fill=\"none\"/>\n",
              "    <path d=\"M18.56 5.44l.94 2.06.94-2.06 2.06-.94-2.06-.94-.94-2.06-.94 2.06-2.06.94zm-11 1L8.5 8.5l.94-2.06 2.06-.94-2.06-.94L8.5 2.5l-.94 2.06-2.06.94zm10 10l.94 2.06.94-2.06 2.06-.94-2.06-.94-.94-2.06-.94 2.06-2.06.94z\"/><path d=\"M17.41 7.96l-1.37-1.37c-.4-.4-.92-.59-1.43-.59-.52 0-1.04.2-1.43.59L10.3 9.45l-7.72 7.72c-.78.78-.78 2.05 0 2.83L4 21.41c.39.39.9.59 1.41.59.51 0 1.02-.2 1.41-.59l7.78-7.78 2.81-2.81c.8-.78.8-2.07 0-2.86zM5.41 20L4 18.59l7.72-7.72 1.47 1.35L5.41 20z\"/>\n",
              "  </svg>\n",
              "      </button>\n",
              "      \n",
              "  <style>\n",
              "    .colab-df-container {\n",
              "      display:flex;\n",
              "      flex-wrap:wrap;\n",
              "      gap: 12px;\n",
              "    }\n",
              "\n",
              "    .colab-df-convert {\n",
              "      background-color: #E8F0FE;\n",
              "      border: none;\n",
              "      border-radius: 50%;\n",
              "      cursor: pointer;\n",
              "      display: none;\n",
              "      fill: #1967D2;\n",
              "      height: 32px;\n",
              "      padding: 0 0 0 0;\n",
              "      width: 32px;\n",
              "    }\n",
              "\n",
              "    .colab-df-convert:hover {\n",
              "      background-color: #E2EBFA;\n",
              "      box-shadow: 0px 1px 2px rgba(60, 64, 67, 0.3), 0px 1px 3px 1px rgba(60, 64, 67, 0.15);\n",
              "      fill: #174EA6;\n",
              "    }\n",
              "\n",
              "    [theme=dark] .colab-df-convert {\n",
              "      background-color: #3B4455;\n",
              "      fill: #D2E3FC;\n",
              "    }\n",
              "\n",
              "    [theme=dark] .colab-df-convert:hover {\n",
              "      background-color: #434B5C;\n",
              "      box-shadow: 0px 1px 3px 1px rgba(0, 0, 0, 0.15);\n",
              "      filter: drop-shadow(0px 1px 2px rgba(0, 0, 0, 0.3));\n",
              "      fill: #FFFFFF;\n",
              "    }\n",
              "  </style>\n",
              "\n",
              "      <script>\n",
              "        const buttonEl =\n",
              "          document.querySelector('#df-8ff76683-5f4d-47b7-a531-23fb7dae3d06 button.colab-df-convert');\n",
              "        buttonEl.style.display =\n",
              "          google.colab.kernel.accessAllowed ? 'block' : 'none';\n",
              "\n",
              "        async function convertToInteractive(key) {\n",
              "          const element = document.querySelector('#df-8ff76683-5f4d-47b7-a531-23fb7dae3d06');\n",
              "          const dataTable =\n",
              "            await google.colab.kernel.invokeFunction('convertToInteractive',\n",
              "                                                     [key], {});\n",
              "          if (!dataTable) return;\n",
              "\n",
              "          const docLinkHtml = 'Like what you see? Visit the ' +\n",
              "            '<a target=\"_blank\" href=https://colab.research.google.com/notebooks/data_table.ipynb>data table notebook</a>'\n",
              "            + ' to learn more about interactive tables.';\n",
              "          element.innerHTML = '';\n",
              "          dataTable['output_type'] = 'display_data';\n",
              "          await google.colab.output.renderOutput(dataTable, element);\n",
              "          const docLink = document.createElement('div');\n",
              "          docLink.innerHTML = docLinkHtml;\n",
              "          element.appendChild(docLink);\n",
              "        }\n",
              "      </script>\n",
              "    </div>\n",
              "  </div>\n",
              "  "
            ]
          },
          "metadata": {},
          "execution_count": 37
        }
      ]
    },
    {
      "cell_type": "markdown",
      "source": [
        "#### **4. According to the data's \"income group,\" what proportion of the grain are low-income countries receiving?**"
      ],
      "metadata": {
        "id": "GMAwveJNYHW_"
      }
    },
    {
      "cell_type": "code",
      "source": [
        "df_[\"Income group\"].unique()"
      ],
      "metadata": {
        "id": "SifN_l5DVkUI",
        "outputId": "3460309a-f437-46e2-bcda-eb09e5b6dcc8",
        "colab": {
          "base_uri": "https://localhost:8080/"
        }
      },
      "execution_count": 39,
      "outputs": [
        {
          "output_type": "execute_result",
          "data": {
            "text/plain": [
              "array(['lower-middle income', 'low-income', 'upper-middle-income',\n",
              "       'high-income'], dtype=object)"
            ]
          },
          "metadata": {},
          "execution_count": 39
        }
      ]
    },
    {
      "cell_type": "code",
      "source": [],
      "metadata": {
        "id": "IYQ7IxDJYfh7"
      },
      "execution_count": null,
      "outputs": []
    }
  ]
}