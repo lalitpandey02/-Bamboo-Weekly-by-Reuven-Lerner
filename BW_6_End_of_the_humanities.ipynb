{
  "nbformat": 4,
  "nbformat_minor": 0,
  "metadata": {
    "colab": {
      "provenance": [],
      "authorship_tag": "ABX9TyNZ73ogLzU5J9HsL/yIIkng",
      "include_colab_link": true
    },
    "kernelspec": {
      "name": "python3",
      "display_name": "Python 3"
    },
    "language_info": {
      "name": "python"
    }
  },
  "cells": [
    {
      "cell_type": "markdown",
      "metadata": {
        "id": "view-in-github",
        "colab_type": "text"
      },
      "source": [
        "<a href=\"https://colab.research.google.com/github/lalitpandey02/Bamboo-Weekly-by-Reuven-Lerner/blob/main/BW_6_End_of_the_humanities.ipynb\" target=\"_parent\"><img src=\"https://colab.research.google.com/assets/colab-badge.svg\" alt=\"Open In Colab\"/></a>"
      ]
    },
    {
      "cell_type": "markdown",
      "source": [
        "## Bamboo Weekly 6 | End of the humanities?\n",
        "\n",
        "This week, we look into the subjects that US college students are studying — and how that compares with data from the last 50 years. What are they studying more, and what are they studying less?\n",
        "\n"
      ],
      "metadata": {
        "id": "KAsyg_YLhnx_"
      }
    },
    {
      "cell_type": "markdown",
      "source": [
        "## **Data and questions**\n",
        "\n",
        "Our data set set comes from the Digest of Education Statistics, with a table showing the total number of students majoring in each of 30 different areas of study. You can view the table at https://nces.ed.gov/programs/digest/d21/tables/dt21_322.10.asp. Better yet, you can download the file in Excel format from:\n",
        "\n",
        "https://nces.ed.gov/programs/digest/d21/tables/xls/tabn322.10.xls\n",
        "\n",
        "Questions for this week are:\n",
        "\n",
        "1. Retrieve the Excel file with selected years, and turn it into a data frame.\n",
        "\n",
        "2. Remove the line numbering the surveys. Remove the total. And remove the lines at the bottom, after \"Other and not classified\".\n",
        "\n",
        "3. Remove the \\n\\ markings (for footnotes) from the \"Field of study\" column\n",
        "\n",
        "4. Remove newlines and other extraneous whitespace from the \"Field of study\" column\n",
        "\n",
        "5. Set the \"Field of study\" column to be the index.\n",
        "\n",
        "6. Which majors have had the greatest *increase* since the survey began in 1970-1971?\n",
        "\n",
        "7. Display the numbers with a comma before every three digits -- so that instead of showing \"1000\" it shows \"1,000\"\n",
        "\n",
        "8. Which majors have had the greatest *decrease* since the survey began in 1970-1971?\n",
        "\n",
        "9. If we only look at the last 10 years of the study (i.e., starting in 2010-11), do we see similar changes in majors?\n",
        "\n",
        "10. What percentage decline do we see in all fields containing the word \"art,\" \"language,\" \"history,\" or \"culture\" in their names in the last 10 years?"
      ],
      "metadata": {
        "id": "W3lLUEuJihT4"
      }
    },
    {
      "cell_type": "code",
      "execution_count": null,
      "metadata": {
        "id": "QhgBTRGDg_XL"
      },
      "outputs": [],
      "source": []
    }
  ]
}